{
 "cells": [
  {
   "cell_type": "markdown",
   "metadata": {},
   "source": [
    "这几天在家做了Fibonacci火锅, \n",
    "\n",
    "今天的火锅汤=昨天的火锅汤+前天的火锅汤. 对了, 剩下的火锅汤还可以做成浓汤宝, 大火收汁差不多以后倒入冰盒中冷藏或冷冻即可. \n",
    "\n",
    "于是突然想起来以前学过如何求Fibonacci数列的通项公式. 很华丽的. 不记下来可惜了. 先当作是LaTeX和sympy的练习吧\n",
    "\n",
    "<!-- TEASER_END -->"
   ]
  },
  {
   "cell_type": "markdown",
   "metadata": {},
   "source": [
    "# 母函数\n",
    "\n",
    "Generating Function, 定义是这样的: \n",
    "\n",
    "$$\n",
    "G(x)=\\sum_{i=0}^{\\infty} a_i x^i\n",
    "$$\n",
    "\n",
    "其中每一项的系数$$a_i$$就是一个数列$$\\{a_i\\}$$的第i项. (注意要加到无穷去)"
   ]
  },
  {
   "cell_type": "markdown",
   "metadata": {},
   "source": [
    "# Fibonacci数列\n",
    "定义大家都很清楚了: \n",
    "$$\n",
    "a_i=a_{i-1}+a_{i-2}\n",
    "$$\n",
    "其中\n",
    "$$\n",
    "a_0 = 0, a_1 = 1 , a_2 = 1\n",
    "$$\n"
   ]
  },
  {
   "cell_type": "markdown",
   "metadata": {},
   "source": [
    "# 利用数列定义求解母函数\n",
    "\n",
    "一般的技巧就是利用数列定义中的等式, 凑出能够相减的东西. \n",
    "\n",
    "$$\n",
    "G(x) = a_0 x^0 + a_1 x^1 + a_2 x^2  + a_3 x^3  + a_4 x^4 ...=\\sum_{i=0}^{\\infty} a_i x^i\n",
    "$$\n",
    "\n",
    "把前两项写出来: \n",
    "\n",
    "$$\n",
    "G(x) = a_0 x^0 + a_1 x^1 + a_2 x^2  + a_3 x^3  + a_4 x^4 ...=a_0 x^0 + a_1 x^1 + \\sum_{i=2}^{\\infty} a_i x^i\n",
    "$$\n",
    "\n",
    "然后去凑等式, 两边都乘x, 注意变成了a的下标比x的指数小1: \n",
    "\n",
    "$$\n",
    "x G(x) = a_0 x^1 + a_1 x^2 + a_2 x^3  + a_3 x^4  + a_4 x^5 ... = a_0 x^1 + \\sum_{i=2}^{\\infty} a_{i-1} x^i\n",
    "$$\n",
    "\n",
    "一个不够, 再凑一个, 注意变成了a的下标比x的指数小2: \n",
    "\n",
    "$$\n",
    "x^2 G(x) =a_0 x^2 + a_1 x^3 + a_2 x^4  + a_3 x^5  + a_4 x^6 ... = \\sum_{i=2}^{\\infty} a_{i-2} x^i\n",
    "$$\n",
    "\n",
    "然后用第一个式子减去第二, 第三个式子: \n",
    "\n",
    "$$\n",
    "G(x)-x G(x)-x^2 G(x) = a_0 x^0 + a_1 x^1 + \\sum_{i=2}^{\\infty} a_i x^i - (a_0 x^1 + \\sum_{i=2}^{\\infty} a_{i-1} x^i) - \\sum_{i=2}^{\\infty} a_{i-2} x^i\n",
    "$$\n",
    "\n",
    "左边有G(x)是可以提出来的, 右边x的指数相同的部分可以加减. \n",
    "\n",
    "$$\n",
    "(1-x-x^2) G(x) = a_0 x^0 + a_1 x^1 - a_0 x^1 + (\\sum_{i=2}^{\\infty} a_i x^i - \\sum_{i=2}^{\\infty} a_{i-1} x^i - \\sum_{i=2}^{\\infty} a_{i-2} x^i) \n",
    "$$\n",
    "\n",
    "$$\n",
    "(1-x-x^2) G(x) = a_0 x^0 + a_1 x^1 - a_0 x^1 + \\sum_{i=2}^{\\infty} (a_i-a_{i-1}-a_{i-2}) x^i \n",
    "$$\n",
    "\n",
    "代入Fibonacci的通项公式, 和第0项, 第一项的值\n",
    "\n",
    "$$\n",
    "(1-x-x^2) G(x) = 0 x^0 + 1 x^1 - 0 x^1 +  \\sum_{i=2}^{\\infty} 0 x^i \n",
    "$$\n",
    "\n",
    "化简, 求出G(x)\n",
    "\n",
    "$$\n",
    "G(x)=\\frac{x}{1-x-x^2}\n",
    "$$"
   ]
  },
  {
   "cell_type": "markdown",
   "metadata": {},
   "source": [
    "# 利用母函数展开求解通项公式"
   ]
  },
  {
   "cell_type": "markdown",
   "metadata": {},
   "source": [
    "## Talyor展开的方式\n",
    "\n",
    "其实解出\n",
    "\n",
    "$$\n",
    "G(x)=\\frac{x}{1-x-x^2}\n",
    "$$\n",
    "\n",
    "就已经解出了通项公式了. 因为其实就是Taylor series. \n",
    "\n",
    "$$\n",
    "G(a)=G(a)+\\frac{G'(a)}{1!}(x-a)+\\frac{G''(a)}{2!}(x-a)^2+\\frac{G'''(a)}{3!}(x-a)^3...\n",
    "$$\n",
    "\n",
    "当a=0时, \n",
    "通项就是\n",
    "\n",
    "$$\n",
    "a_i = \\frac{G^{(n)}(0)}{n!}x^n\n",
    "$$"
   ]
  },
  {
   "cell_type": "code",
   "execution_count": 1,
   "metadata": {},
   "outputs": [],
   "source": [
    "from sympy import *\n",
    "import numpy as np\n",
    "from sympy import init_printing\n",
    "init_printing()  #为了美化输出"
   ]
  },
  {
   "cell_type": "code",
   "execution_count": 2,
   "metadata": {},
   "outputs": [
    {
     "name": "stdout",
     "output_type": "stream",
     "text": [
      "[0, 1, 1, 2, 3, 5, 8, 13, 21, 34]\n"
     ]
    }
   ],
   "source": [
    "def fib(n):\n",
    "    x=symbols(\"x\")\n",
    "    G=x/(1-x-x**2)\n",
    "    return (diff(G,x,n)/np.math.factorial(n)).subs(x,0)\n",
    "\n",
    "print([fib(n) for n in range(10)])"
   ]
  },
  {
   "cell_type": "code",
   "execution_count": 3,
   "metadata": {},
   "outputs": [
    {
     "data": {
      "image/png": "[encoded data removed]",
      "text/latex": [
       "$$x + x^{2} + 2 x^{3} + 3 x^{4} + 5 x^{5} + 8 x^{6} + 13 x^{7} + 21 x^{8} + 34 x^{9} + \\mathcal{O}\\left(x^{10}\\right)$$"
      ],
      "text/plain": [
       "     2      3      4      5      6       7       8       9    ⎛ 10⎞\n",
       "x + x  + 2⋅x  + 3⋅x  + 5⋅x  + 8⋅x  + 13⋅x  + 21⋅x  + 34⋅x  + O⎝x  ⎠"
      ]
     },
     "execution_count": 3,
     "metadata": {},
     "output_type": "execute_result"
    }
   ],
   "source": [
    "# 或者调用sympy的级数函数\n",
    "def fib_series(n):\n",
    "    x=symbols(\"x\")\n",
    "    G=x/(1-x-x**2)\n",
    "    return (G.series(x,0,n))\n",
    "fib_series(10)  "
   ]
  },
  {
   "cell_type": "markdown",
   "metadata": {},
   "source": [
    "## 利用级数\n",
    "\n",
    "不过多数情况下不这么干, 还是有不用求导求阶乘的方式. \n",
    "\n",
    "已知有特殊函数的Taylor展开式: \n",
    "\n",
    "$$\n",
    "\\frac{1}{1-ax}=1+ax+a^2x^2+...\n",
    "$$\n",
    "\n",
    "这个好像在母函数里经常用的. 总是把一个母函数表示成上述多个级数之和. 也就是求解A,B,α,β使得: \n",
    "\n",
    "$$\n",
    "G(x)=\\frac{x}{1-x-x^2}=\\frac{A}{1-\\alpha x}+\\frac{B}{1-\\beta x}\n",
    "$$\n",
    "\n",
    "那么G(x)就可以分别展开成\n",
    "\n",
    "$$\n",
    "G(x)= A (1+\\alpha x+\\alpha^2x^2+...)+B (1+\\beta x+\\beta^2x^2...)\n",
    "$$\n",
    "\n",
    "通项公式就等于\n",
    "$$\n",
    "a_n=A \\alpha^n+B \\beta^n\n",
    "$$"
   ]
  },
  {
   "cell_type": "markdown",
   "metadata": {},
   "source": [
    "当然可以通过乘法和对比系数求解A,B,α,β, 但对于我这么懒的人, 反正要求解4个参数, 而且对与任意x都成立, 就直接把x=1,2,3,4代入求解了"
   ]
  },
  {
   "cell_type": "code",
   "execution_count": 4,
   "metadata": {},
   "outputs": [],
   "source": [
    "A,B,α,β,x,n=symbols(\"A B α β x n\")\n",
    "G_left=x/(1-x-x**2)\n",
    "G_right=A/(1-α*x)+B/(1-β*x)"
   ]
  },
  {
   "cell_type": "code",
   "execution_count": 5,
   "metadata": {},
   "outputs": [
    {
     "name": "stdout",
     "output_type": "stream",
     "text": [
      "{α: -sqrt(5)/2 + 1/2, β: 1/2 + sqrt(5)/2, A: -sqrt(5)/5, B: sqrt(5)/5}\n"
     ]
    }
   ],
   "source": [
    "zero=G_left-G_right\n",
    "result=solve([zero.subs(x,1),zero.subs(x,2),zero.subs(x,3),zero.subs(x,4)],[A,B,α,β])\n",
    "\n",
    "subdict={k:v for (k,v) in zip([A,B,α,β],result[0])}\n",
    "print(subdict)\n"
   ]
  },
  {
   "cell_type": "code",
   "execution_count": 6,
   "metadata": {},
   "outputs": [
    {
     "data": {
      "image/png": "[encoded data removed]",
      "text/latex": [
       "$$\\frac{2^{- n}}{5} \\sqrt{5} \\left(\\left(1 + \\sqrt{5}\\right)^{n} - \\left(- \\sqrt{5} + 1\\right)^{n}\\right)$$"
      ],
      "text/plain": [
       " -n    ⎛        n            n⎞\n",
       "2  ⋅√5⋅⎝(1 + √5)  - (-√5 + 1) ⎠\n",
       "───────────────────────────────\n",
       "               5               "
      ]
     },
     "execution_count": 6,
     "metadata": {},
     "output_type": "execute_result"
    }
   ],
   "source": [
    "\n",
    "a_n=simplify((A*α**n+B*β**n).subs(subdict))\n",
    "a_n"
   ]
  },
  {
   "cell_type": "code",
   "execution_count": 7,
   "metadata": {},
   "outputs": [
    {
     "name": "stdout",
     "output_type": "stream",
     "text": [
      "[0, 1, 1, 2, 3, 5, 8, 13, 21, 34]\n"
     ]
    }
   ],
   "source": [
    "def fib_G(i):\n",
    "    return simplify(a_n.subs(n,i))\n",
    "print([fib_G(i) for i in range(10)])"
   ]
  },
  {
   "cell_type": "markdown",
   "metadata": {},
   "source": [
    "# 参考课程\n",
    "\n",
    "组合数学: \n",
    "http://www.xuetangx.com/courses/course-v1:TsinghuaX+60240013X+sp/info"
   ]
  },
  {
   "cell_type": "code",
   "execution_count": null,
   "metadata": {},
   "outputs": [],
   "source": []
  }
 ],
 "metadata": {
  "kernelspec": {
   "display_name": "Python 3",
   "language": "python",
   "name": "python3"
  },
  "language_info": {
   "codemirror_mode": {
    "name": "ipython",
    "version": 3
   },
   "file_extension": ".py",
   "mimetype": "text/x-python",
   "name": "python",
   "nbconvert_exporter": "python",
   "pygments_lexer": "ipython3",
   "version": "3.5.2"
  },
  "nikola": {
   "category": "",
   "date": "2018-01-17 1:00 UTC+08:00",
   "description": "",
   "link": "",
   "slug": "Generating-func-Fibonacci",
   "tags": "",
   "title": "Fibonacci数列通项公式",
   "type": "text"
  }
 },
 "nbformat": 4,
 "nbformat_minor": 2
}
