{
 "cells": [
  {
   "cell_type": "markdown",
   "metadata": {},
   "source": [
    "2018年刑侦推理试题: \n",
    "![question.jpeg](https://i.loli.net/2018/03/01/5a982103b9db2.jpeg)\n",
    "<!-- TEASER_END -->"
   ]
  },
  {
   "cell_type": "markdown",
   "metadata": {},
   "source": [
    "# 解题思路\n",
    "\n",
    "没啥, 就是暴力穷举, 看看是不是所有的条件都符合"
   ]
  },
  {
   "cell_type": "code",
   "execution_count": 1,
   "metadata": {},
   "outputs": [],
   "source": [
    "import numpy as np\n",
    "\n",
    "def CSI_check(a1,a2,a3,a4,a5,a6,a7,a8,a9,a10):\n",
    "    allanswer=[_,a1,a2,a3,a4,a5,a6,a7,a8,a9,a10]\n",
    "    # 1. 这道题的答案是: \n",
    "    # 2. 第5题的答案是: \n",
    "    a2_a5_dict={0:2,# A.C\n",
    "                1:3,# B.D\n",
    "                2:0,# C.A\n",
    "                3:2}# D.B\n",
    "    test2=( a5 == a2_a5_dict[a2] )\n",
    "    \n",
    "    # 3. 以下选项中哪一题的答案与其他三项不同: \n",
    "    a3_list=[a3,a6,a2,a4]\n",
    "    a3_refer=a3_list[a3]\n",
    "    a3_list.pop(a3)\n",
    "    test3=not(a3_refer in a3_list) # 不在剩下的列表中, 所以是与剩下的不同\n",
    "    \n",
    "    # 4. 以下选项中哪两题的答案相同: \n",
    "    a4_dict={0:[1,5],\n",
    "             1:[2,7],\n",
    "             2:[1,9],\n",
    "             3:[6,10]}\n",
    "    test4=(allanswer[a4_dict[a4][0]]== \\\n",
    "           allanswer[a4_dict[a4][1]])\n",
    "    \n",
    "    # 5.以下选项中哪一题的答案与本题相同\n",
    "    a5_dict={0:8,\n",
    "             1:4,\n",
    "             2:9,\n",
    "             3:7}\n",
    "    test5=(a5 == allanswer[a5_dict[a5]] )\n",
    "    \n",
    "    # 6.以下选项中哪两题的答案与第8题相同\n",
    "    a6_dict={0:[2,4],\n",
    "             1:[1,6],\n",
    "             2:[3,10],\n",
    "             3:[5,9]}\n",
    "    test6=(a8 == allanswer[a6_dict[a6][0]]) and (\n",
    "           a8 == allanswer[a6_dict[a6][1]])\n",
    "    \n",
    "    # 7.此十道题中, 被选中次数最少的选项字幕为: \n",
    "    a7_dict={0:2,\n",
    "             1:1,\n",
    "             2:0,\n",
    "             3:3}\n",
    "    ans_count=[allanswer.count(ans) for ans in range(4)]\n",
    "    ans_count_min=min(ans_count)\n",
    "    test7= allanswer.count(a7_dict[a7])==ans_count_min\n",
    "    \n",
    "    # 8.以下选项中, 哪一题的答案与第1题的答案在字母中不相邻: \n",
    "    a8_dict={0:7,1:5,2:2,3:10}\n",
    "    test8=(np.abs(allanswer[a8_dict[a8]]-a8) !=1)\n",
    "    \n",
    "    # 9.已知\"第1题与第6题的答案相同\" 与 \"第x题与第5题的答案相同\" 的真假性相反, 那么X为: \n",
    "    a9_dict={0:6,1:10,2:2,3:9}\n",
    "    bool_partA=(a1==a6)\n",
    "    bool_partB=(allanswer[a9_dict[a9]]==a5)\n",
    "    test9=(bool_partA != bool_partB)\n",
    "    \n",
    "    # 10.在此10道题中, ABCD四个字幕出现此处最多与最少者的差为: \n",
    "    a10_dict={0:3,1:2,2:4,3:1}\n",
    "    ans_count_max=max(ans_count)\n",
    "    test10=(a10_dict[a10]==(ans_count_max-ans_count_min))\n",
    "    \n",
    "    ans=(test2 and test3 and test4 and test5 and\n",
    "         test6 and test7 and test8 and test9 and test10)\n",
    "    test0=True\n",
    "    test1=True\n",
    "    testlist=[test0,test1,test2,test3,test4,test5,test6,test7, test8 , test9 , test10]\n",
    "\n",
    "    return testlist,ans\n"
   ]
  },
  {
   "cell_type": "code",
   "execution_count": 2,
   "metadata": {},
   "outputs": [
    {
     "name": "stdout",
     "output_type": "stream",
     "text": [
      "1 B\n",
      "2 C\n",
      "3 A\n",
      "4 C\n",
      "5 A\n",
      "6 C\n",
      "7 D\n",
      "8 A\n",
      "9 B\n",
      "10 A\n",
      "That's all\n"
     ]
    }
   ],
   "source": [
    "ans_dict={0:\"A\",1:\"B\",2:\"C\",3:\"D\"}\n",
    "for a1 in range(4):\n",
    "    for a2 in range(4):\n",
    "        for a3 in range(4):\n",
    "            for a4 in range(4):\n",
    "                for a5 in range(4):\n",
    "                    for a6 in range(4):\n",
    "                        for a7 in range(4):\n",
    "                            for a8 in range(4):\n",
    "                                for a9 in range(4):\n",
    "                                    for a10 in range(4):\n",
    "                                        allans=[a1,a2,a3,a4,a5,a6,a7,a8,a9,a10]\n",
    "                                        testlist,test=CSI_check(a1,a2,a3,a4,a5,a6,a7,a8,a9,a10)\n",
    "                                        if test:\n",
    "                                            for ind,ans in zip(range(1,11),allans):\n",
    "                                                print(ind,ans_dict[ans])\n",
    "                                \n",
    "print(\"That's all\")"
   ]
  },
  {
   "cell_type": "markdown",
   "metadata": {},
   "source": [
    "# 答案: \n",
    "![answer.jpg](https://i.loli.net/2018/03/01/5a9821ddb1dc7.jpg)\n"
   ]
  },
  {
   "cell_type": "code",
   "execution_count": null,
   "metadata": {},
   "outputs": [],
   "source": []
  }
 ],
 "metadata": {
  "nikola": {
   "category": "",
   "date": "2018-3-1 23:30 UTC+08:00",
   "description": "",
   "link": "",
   "slug": "CSI-exam",
   "tags": "python",
   "title": "2018年刑侦推理试题解答",
   "type": "text"
  },
  "kernelspec": {
   "display_name": "Python 3",
   "language": "python",
   "name": "python3"
  },
  "language_info": {
   "codemirror_mode": {
    "name": "ipython",
    "version": 3
   },

   "file_extension": ".py",
   "mimetype": "text/x-python",
   "name": "python",
   "nbconvert_exporter": "python",
   "pygments_lexer": "ipython3",
   "version": "3.5.2"
  }
 },
 "nbformat": 4,
 "nbformat_minor": 2
}
