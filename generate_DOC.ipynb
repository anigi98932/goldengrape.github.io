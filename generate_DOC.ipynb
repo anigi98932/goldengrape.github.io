{
 "cells": [
  {
   "cell_type": "markdown",
   "metadata": {},
   "source": [
    "# 从PDF生成"
   ]
  },
  {
   "cell_type": "code",
   "execution_count": 1,
   "metadata": {
    "ExecuteTime": {
     "end_time": "2018-03-11T02:05:45.641567Z",
     "start_time": "2018-03-11T02:05:45.627417Z"
    },
    "collapsed": true
   },
   "outputs": [],
   "source": [
    "if __name__==\"__main__\":\n",
    "    input_path='20180309'\n",
    "    output_path='export'\n",
    "    \n",
    "    docx_name='01206765xC4DAF_test.docx'\n",
    "    txt_name='01207200xC4DAF.txt'\n",
    "    pdf_name='Report_MHC2397.pdf'\n",
    "    name_pattern_to_compile=r\"(\\d+[A-Z]+\\d+[A-Z])\""
   ]
  },
  {
   "cell_type": "code",
   "execution_count": 2,
   "metadata": {
    "ExecuteTime": {
     "end_time": "2018-03-11T02:05:45.654869Z",
     "start_time": "2018-03-11T02:05:45.644456Z"
    },
    "collapsed": true
   },
   "outputs": [],
   "source": [
    "if __name__==\"__main__\":\n",
    "    table_catalog_dict={\n",
    "        0: {\"head\": 1, \"seqtype\":'chain', \"chaintype\":'HeavyChain'},\n",
    "        1: {\"head\": 1, \"seqtype\":'chain', \"chaintype\":'LightChain'},\n",
    "        2: {\"head\": 1, \"seqtype\":'CDR', \"chaintype\":'HC'}, \n",
    "        3: {\"head\": 1, \"seqtype\":'CDR', \"chaintype\":'LC'}, \n",
    "        4: {\"head\": 1, \"seqtype\":'CDR', \"chaintype\":'HC'},\n",
    "        5: {\"head\": 1, \"seqtype\":'CDR', \"chaintype\":'LC'},\n",
    "    }"
   ]
  },
  {
   "cell_type": "markdown",
   "metadata": {},
   "source": [
    "## 载入依赖包\n",
    "\n",
    "在azure notebook上运行时, 由于远程服务器在1小时后会自动关闭并清除所有安装内容, 所以临时安装的依赖软件包并不能正常加载. 需要使用服务器上的预制程序进行设置: \n",
    "建立script.txt文件: \n",
    "```txt\n",
    "export PATH=~/anaconda3_410/bin:$PATH\n",
    "conda install -c anaconda biopython --yes\n",
    "pip install python-docx\n",
    "```\n",
    "然后在setting中加载. 这样每次启动azure notebook时会自动安装biopython和python-docx"
   ]
  },
  {
   "cell_type": "code",
   "execution_count": 3,
   "metadata": {
    "ExecuteTime": {
     "end_time": "2018-03-11T02:05:47.436276Z",
     "start_time": "2018-03-11T02:05:45.657442Z"
    },
    "collapsed": true
   },
   "outputs": [],
   "source": [
    "# pandas包, 需安装\n",
    "import pandas as pd\n",
    "from pandas import DataFrame, Series\n",
    "\n",
    "# python-docx包, 需安装\n",
    "from docx import Document\n",
    "\n",
    "# biopython包, 需安装\n",
    "from Bio.SeqUtils import seq1\n",
    "\n",
    "\n",
    "\n",
    "# 系统自带包, 无需安装\n",
    "from collections import OrderedDict # 有序字典\n",
    "import re\n",
    "import os\n",
    "import numpy as np\n",
    "\n",
    "# 自建包\n",
    "from save_sequence import save_seq_to_csv \n",
    "\n",
    "# from reconstruct_TXT import reconstruct_TXT\n",
    "# from reconstruct_DOC import reconstruct_DOC\n",
    "from reconstruct_PDF import reconstruct_PDF"
   ]
  },
  {
   "cell_type": "code",
   "execution_count": 4,
   "metadata": {
    "ExecuteTime": {
     "end_time": "2018-03-11T02:05:47.443451Z",
     "start_time": "2018-03-11T02:05:47.438941Z"
    },
    "collapsed": true
   },
   "outputs": [],
   "source": [
    "if __name__==\"__main__\":\n",
    "    fname=pdf_name\n",
    "    name_pattern=re.compile(name_pattern_to_compile)"
   ]
  },
  {
   "cell_type": "markdown",
   "metadata": {},
   "source": [
    "## 读取文件\n",
    "\n",
    "文件通过两个程序读入: \n",
    "* read_sequence_from_docx 用于读取docx文件, \n",
    "* read_sequence_from_txt 用于读取txt文件\n",
    "\n",
    "由于可能调换source文件和target文件的对应方式, 所以使用了字典source_target_dict来记录对应关系. \n",
    "使用文件名的末尾3位来判断文件的类型, 是docx/txt\n",
    "\n",
    "文件读取后经过清理, 转换成pandas DataFrame的数据形式进行操作处理. 并且将转换后的DataFrame保存为**同名csv文件**, 存放在output_path文件夹之下"
   ]
  },
  {
   "cell_type": "code",
   "execution_count": 5,
   "metadata": {
    "ExecuteTime": {
     "end_time": "2018-03-11T02:05:47.486810Z",
     "start_time": "2018-03-11T02:05:47.446664Z"
    },
    "collapsed": true
   },
   "outputs": [],
   "source": [
    "def get_chains(input_path,pdf_name,output_path,name_pattern):\n",
    "    pdf_df=reconstruct_PDF(input_path,pdf_name,output_path,name_pattern)\n",
    "    pdf_df[\"ID\"]=np.arange(len(pdf_df),dtype=np.int32)+1\n",
    "    HC_df=(pdf_df.where(pdf_df[\"CHAINTYPE\"]==\"HeavyChain\").dropna())\n",
    "    LC_df=(pdf_df.where(pdf_df[\"CHAINTYPE\"]==\"LightChain\").dropna())\n",
    "    HC_df=(HC_df.drop(\"CHAINTYPE\",axis=1)[[\"NAME\",\"SEQUENCE\",\"ID\"]])\n",
    "    HC_df.columns=[\"mAb\",\"VH\",\"ID\"]\n",
    "    HC_df.ID=HC_df.ID.astype(\"int32\")\n",
    "    LC_df=LC_df.drop(\"CHAINTYPE\",axis=1)[[\"NAME\",\"SEQUENCE\",\"ID\"]]\n",
    "    LC_df.columns=[\"mAb\",\"VL\",\"ID\"]\n",
    "    LC_df.ID=LC_df.ID.astype(\"int32\")\n",
    "\n",
    "    maxID=len(pdf_df)\n",
    "    return HC_df,LC_df,maxID"
   ]
  },
  {
   "cell_type": "code",
   "execution_count": 6,
   "metadata": {
    "ExecuteTime": {
     "end_time": "2018-03-11T02:05:47.498535Z",
     "start_time": "2018-03-11T02:05:47.490804Z"
    },
    "collapsed": true
   },
   "outputs": [],
   "source": [
    "# if __name__==\"__main__\":\n",
    "#     fname=pdf_name\n",
    "#     name_pattern=re.compile(name_pattern_to_compile)\n",
    "#     HC_df,LC_df,maxID=get_chains(input_path,pdf_name,output_path,name_pattern)"
   ]
  },
  {
   "cell_type": "markdown",
   "metadata": {
    "ExecuteTime": {
     "end_time": "2018-03-10T08:31:27.943775Z",
     "start_time": "2018-03-10T08:31:27.881772Z"
    }
   },
   "source": [
    "# 生成CDR"
   ]
  },
  {
   "cell_type": "code",
   "execution_count": null,
   "metadata": {
    "ExecuteTime": {
     "start_time": "2018-03-11T05:13:59.086Z"
    }
   },
   "outputs": [],
   "source": [
    "def HC_to_CDR(seq):\n",
    "    '''\n",
    "    http://www.bioinf.org.uk/abs/#cdrdef\n",
    "    '''\n",
    "    CDR1_pattern=\"(C[A-Z]{3})([A-Z]*?)(W[V|I|A])\"\n",
    "    CDR2_pattern=\"([A-Z]{12})([A-Z]*?)([K|R])([L|I|V|F|T|A])([T|S|I|A])\"\n",
    "    CDR3_pattern=\"([A-Z]*)(C[A-Z]{2})([A-Z]{3,25})(WG[A-Z]G)\"\n",
    "    CDRs=re.findall(CDR1_pattern+CDR2_pattern+CDR3_pattern,seq)\n",
    "#     print(CDRs)\n",
    "    try:\n",
    "        CDR1=CDRs[0][1]\n",
    "        CDR2=CDRs[0][4]\n",
    "        CDR3=CDRs[0][-2]\n",
    "    except:\n",
    "        CDR1=\"\"\n",
    "        CDR2=\"\"\n",
    "        CDR3=\"\"\n",
    "    return [CDR1,CDR2,CDR3]\n",
    "\n",
    "def LC_to_CDR(seq):\n",
    "    '''\n",
    "    假定能够生成CDR\n",
    "    '''\n",
    "#     CDR1_pattern=\"^([A-Z]{20,26}C)([A-Z]{10,17})(W(YQ)|(LQ)|(FQ)|(YL))\"\n",
    "#     CDR2_pattern=\"([A-Z]{10})((IY)|(VY)|(IK)|(IF))*([A-Z]{7})\"\n",
    "#     CDR3_pattern=\"([A-Z]{31}C)([A-Z]{7,11})(FG[A-Z]G)\"\n",
    "#     CDRs=re.findall(CDR1_pattern+CDR2_pattern+CDR3_pattern,seq)\n",
    "    CDR1_pattern=\"(^[A-Z]{22}C)\"+\"([A-Z]{10,17})\"+\"(WYQ|WLQ|WFQ|WYL)\"\n",
    "    CDR2_pattern=\"([A-Z]*?)\"+\"([A-Z]{7})\"+\"(IY|VY|IK|IF)\"\n",
    "    CDR3_pattern=\"([A-Z]*?C)\"+\"([A-Z]{7,11})\"+\"(FG[A-Z]G)\"\n",
    "    CDR_pattern=CDR1_pattern+CDR2_pattern+CDR3_pattern\n",
    "\n",
    "    CDRs=re.findall(CDR_pattern,seq)\n",
    "    try:\n",
    "        CDR1=CDRs[0][1]\n",
    "        CDR2=CDRs[0][4]\n",
    "        CDR3=CDRs[0][7]\n",
    "    except:\n",
    "        CDR1=\"\"\n",
    "        CDR2=\"\"\n",
    "        CDR3=\"\"\n",
    "    return [CDR1,CDR2,CDR3]"
   ]
  },
  {
   "cell_type": "code",
   "execution_count": null,
   "metadata": {
    "ExecuteTime": {
     "start_time": "2018-03-11T05:13:59.604Z"
    }
   },
   "outputs": [],
   "source": [
    "seq=\"DVVMTQTPLSLPVSLGDQASISCRSSQNLVHSYGNTYLHWYLQKPGQSPKLLIYKVSNRFSGVPDRFSGSGSGTDFTLKISRVEAEDLGVYFCSQNTHVPWTFGGGTKLEIQ\"\n",
    "LC_to_CDR(seq)"
   ]
  },
  {
   "cell_type": "code",
   "execution_count": 9,
   "metadata": {
    "ExecuteTime": {
     "end_time": "2018-03-11T02:05:47.690075Z",
     "start_time": "2018-03-11T02:05:47.646632Z"
    },
    "collapsed": true,
    "scrolled": true
   },
   "outputs": [],
   "source": [
    "def get_CDR_df(select_df,chain_name_base,CDR_method,seq_No_base):\n",
    "    tempCDRs=select_df.iloc[:,1].apply(CDR_method)\n",
    "    CDR_index_max=len(tempCDRs)\n",
    "    CDRs=DataFrame()\n",
    "    CDRs[\"mAb\"]=select_df[\"mAb\"]\n",
    "\n",
    "    CDRs[\"CDR1\"]=tempCDRs.apply(lambda x:x[0])\n",
    "    CDRs[\"SEQ No. of CDR1\"]=np.arange(CDR_index_max)*3+1+seq_No_base\n",
    "\n",
    "    CDRs[\"CDR2\"]=tempCDRs.apply(lambda x:x[1])\n",
    "    CDRs[\"SEQ No. of CDR2\"]=np.arange(CDR_index_max)*3+2+seq_No_base\n",
    "\n",
    "    CDRs[\"CDR3\"]=tempCDRs.apply(lambda x:x[2])\n",
    "    CDRs[\"SEQ No. of CDR3\"]=np.arange(CDR_index_max)*3+3+seq_No_base\n",
    "\n",
    "    CDRs.columns=['mAb',\n",
    "                    chain_name_base+\"CDR1\",\"ID\",\n",
    "                    chain_name_base+\"CDR2\",\"ID\",\n",
    "                    chain_name_base+\"CDR3\",\"ID\"]\n",
    "    maxID=CDR_index_max*3+seq_No_base\n",
    "    return CDRs,maxID"
   ]
  },
  {
   "cell_type": "code",
   "execution_count": 10,
   "metadata": {
    "ExecuteTime": {
     "end_time": "2018-03-11T02:05:47.700118Z",
     "start_time": "2018-03-11T02:05:47.692660Z"
    },
    "collapsed": true
   },
   "outputs": [],
   "source": [
    "# if __name__==\"__main__\":\n",
    "#     fname=pdf_name\n",
    "#     name_pattern=re.compile(name_pattern_to_compile)\n",
    "    \n",
    "#     HC_df,LC_df,maxID=get_chains(input_path,pdf_name,output_path,name_pattern)\n",
    "#     HCCDRs_typeA,maxID=get_CDR_df(HC_df,\"HC \",HC_to_CDR,maxID)\n",
    "#     LCCDRs_typeA,maxID=get_CDR_df(LC_df,\"LC \",LC_to_CDR,maxID)\n",
    "#     HCCDRs_typeB,maxID=get_CDR_df(HC_df,\"HC \",HC_to_CDR,maxID)\n",
    "#     LCCDRs_typeB,maxID=get_CDR_df(LC_df,\"LC \",LC_to_CDR,maxID)"
   ]
  },
  {
   "cell_type": "markdown",
   "metadata": {},
   "source": [
    "# 生成word文档表格"
   ]
  },
  {
   "cell_type": "code",
   "execution_count": 11,
   "metadata": {
    "ExecuteTime": {
     "end_time": "2018-03-11T02:05:47.737061Z",
     "start_time": "2018-03-11T02:05:47.704483Z"
    },
    "collapsed": true
   },
   "outputs": [],
   "source": [
    "def write_table(document,df,table_describe):\n",
    "    paragraph = document.add_paragraph('\\n'+table_describe)\n",
    "    \n",
    "    table = document.add_table(rows=df.shape[0]+1, cols=df.shape[1])\n",
    "#     table.style = 'LightShading-Accent1'\n",
    "    table.style = 'TableGrid'\n",
    "    hdr_cells = table.rows[0].cells\n",
    "    for c,h in zip(df.columns,table.rows[0].cells):\n",
    "        h.text=c\n",
    "    for row_idx in range(df.shape[0]):\n",
    "        row_cells = table.rows[row_idx+1].cells\n",
    "        for col_idx in range(df.shape[1]):\n",
    "    #         print(\"writing ({},{}) with {}\".format(row_idx,col_idx,df.iloc[row_idx,col_idx]))\n",
    "            row_cells[col_idx].text=str(df.iloc[row_idx,col_idx])\n",
    "    return document"
   ]
  },
  {
   "cell_type": "code",
   "execution_count": 12,
   "metadata": {
    "ExecuteTime": {
     "end_time": "2018-03-11T02:05:55.168219Z",
     "start_time": "2018-03-11T02:05:47.745637Z"
    },
    "scrolled": false
   },
   "outputs": [
    {
     "name": "stdout",
     "output_type": "stream",
     "text": [
      "all dataframe are done\n",
      "write a table\n",
      "write a table\n",
      "write a table\n"
     ]
    },
    {
     "name": "stderr",
     "output_type": "stream",
     "text": [
      "/Users/goldengrape/anaconda3/envs/for_biopython/lib/python3.6/site-packages/docx/styles/styles.py:54: UserWarning: style lookup by style_id is deprecated. Use style name as key instead.\n",
      "  warn(msg, UserWarning)\n"
     ]
    },
    {
     "name": "stdout",
     "output_type": "stream",
     "text": [
      "write a table\n",
      "write a table\n",
      "write a table\n"
     ]
    }
   ],
   "source": [
    "if __name__==\"__main__\":\n",
    "    fname=pdf_name\n",
    "    name_pattern=re.compile(name_pattern_to_compile)\n",
    "    \n",
    "    HC_df,LC_df,maxID=get_chains(input_path,pdf_name,output_path,name_pattern)\n",
    "    HCCDRs_typeA,maxID=get_CDR_df(HC_df,\"HC \",HC_to_CDR,maxID)\n",
    "    LCCDRs_typeA,maxID=get_CDR_df(LC_df,\"LC \",LC_to_CDR,maxID)\n",
    "    HCCDRs_typeB,maxID=get_CDR_df(HC_df,\"HC \",HC_to_CDR,maxID)\n",
    "    LCCDRs_typeB,maxID=get_CDR_df(LC_df,\"LC \",LC_to_CDR,maxID)\n",
    "    print(\"all dataframe are done\")\n",
    "    df_list=[HC_df,LC_df,HCCDRs_typeA,LCCDRs_typeA,HCCDRs_typeB,LCCDRs_typeB]\n",
    "    table_des_list=[\n",
    "        \"Table 1: Sequences of heavy chain variable regions for anti-CD73 mAbs\",\n",
    "        \"Table 2: Sequences of light chain variable regions for anti-CD73 mAbs\",\n",
    "        \"Table 3: CDR regions 1-3 of heavy chain for anti-CD73 mAbs\",\n",
    "        \"Table 4: CDR regions 1-3 of light chain for anti-CD73 mAbs\",\n",
    "        \"Table 5: CDR regions 1-3 of heavy chain for anti-CD73 mAbs\",\n",
    "        \"Table 6: CDR regions 1-3 of light chain for anti-CD73 mAbs\"\n",
    "    ]\n",
    "    document = Document()\n",
    "    for df,table_des in zip(df_list,table_des_list):\n",
    "        print(\"write a table\")\n",
    "        document=write_table(document,df,table_des)\n",
    "    document.save(os.path.join(input_path,output_path,docx_name))"
   ]
  },
  {
   "cell_type": "code",
   "execution_count": null,
   "metadata": {
    "collapsed": true
   },
   "outputs": [],
   "source": []
  }
 ],
 "metadata": {
  "kernelspec": {
   "display_name": "Python 3",
   "language": "python",
   "name": "python3"
  },
  "language_info": {
   "codemirror_mode": {
    "name": "ipython",
    "version": 3
   },
   "file_extension": ".py",
   "mimetype": "text/x-python",
   "name": "python",
   "nbconvert_exporter": "python",
   "pygments_lexer": "ipython3",
   "version": "3.6.1"
  },
  "toc": {
   "colors": {
    "hover_highlight": "#DAA520",
    "navigate_num": "#000000",
    "navigate_text": "#333333",
    "running_highlight": "#FF0000",
    "selected_highlight": "#FFD700",
    "sidebar_border": "#EEEEEE",
    "wrapper_background": "#FFFFFF"
   },
   "moveMenuLeft": true,
   "nav_menu": {
    "height": "114px",
    "width": "254px"
   },
   "navigate_menu": true,
   "number_sections": true,
   "sideBar": true,
   "threshold": 4,
   "toc_cell": false,
   "toc_section_display": "block",
   "toc_window_display": false,
   "widenNotebook": false
  }
 },
 "nbformat": 4,
 "nbformat_minor": 2
}
