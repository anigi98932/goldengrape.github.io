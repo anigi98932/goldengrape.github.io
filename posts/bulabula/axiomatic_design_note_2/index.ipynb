{
 "cells": [
  {
   "cell_type": "markdown",
   "metadata": {},
   "source": [
    "如同商学院说事一定要画四格表，工学院说事一定要写向量和矩阵的。这种表述就是工科癖好，虽然在后续的语境中确实好用，但复习笔记中还是以平实的语言描述比较好。\n",
    "\n",
    "<!-- TEASER_END -->"
   ]
  },
  {
   "cell_type": "markdown",
   "metadata": {},
   "source": [
    "有四个域（Domain）："
   ]
  },
  {
   "cell_type": "markdown",
   "metadata": {},
   "source": [
    "* CNs：Customer Needs，\n",
    "    * 客户需求。\n",
    "    * 客户域\n",
    "    * 就是客户描述的一大堆自然语言也说不清楚的事情，什么高端大气上档次之类的东西。\n",
    "    * What adds value\n",
    "* FRs：Functional Requirements，\n",
    "    * 功能需求。\n",
    "    * 功能域\n",
    "    * 从CNs域到FRs域的变换，就是把客户漫无边际的需求翻译成一些可定量的参数，比如战舰控制系统的FR有二：1）控制航行方向。2）控制开炮方向。\n",
    "    * What it does\n",
    "* DPs：Design Parameters，\n",
    "    * 设计参数。\n",
    "    * 物理域\n",
    "    * 实现FRs的物理参数，比如航向控制器和炮塔控制器。\n",
    "    * What it looks like\n",
    "* PVs：Process Variables，\n",
    "    * 过程变量。\n",
    "    * 过程域\n",
    "    * 没细说，大概是如何实现DPs\n",
    "    * How you make it"
   ]
  },
  {
   "cell_type": "markdown",
   "metadata": {},
   "source": [
    "这四个域里，最重要的是FRs（功能需求）到DPs（设计参数）的映射。 （考虑到我一向憎恶缩写，我会在每一个FRs后面都写上功能需求四个字）。其实我觉得从CNs(客户需求)到FRs(功能需求)的翻译也很重要，但这涉及到人类语言的模糊性，这个步骤还很难科学化。至于DPs(涉及参数）到PVs（过程变量）也就是实现过程，我们写发明通常就是引述为“现有技术”了。\n"
   ]
  },
  {
   "cell_type": "markdown",
   "metadata": {},
   "source": [
    "FRs（功能需求）会有很多啦，可以写成\n",
    "\n",
    "$$\n",
    "FRs=\n",
    "\\begin{bmatrix}FR_1 \n",
    "\\\\ FR_2\n",
    "\\\\ ...\n",
    "\\\\ FR_n\n",
    "\\end{bmatrix}\n",
    "$$\n",
    "\n",
    "类似的，能够达成FRs（功能需求）的DPs（设计参数）也有很多，可以写成\n",
    "\n",
    "$$\n",
    "DPs=\n",
    "\\begin{bmatrix}DP_1 \n",
    "\\\\ DP_2\n",
    "\\\\ ...\n",
    "\\\\ DP_m\n",
    "\\end{bmatrix}\n",
    "$$"
   ]
  },
  {
   "cell_type": "markdown",
   "metadata": {},
   "source": [
    "于是，DPs（设计参数）实现FRs（功能需求）这件事情，就可以写成矩阵乘法的形式\n",
    "$$\n",
    "FRs=A \\times DPs\n",
    "$$\n",
    "或者说：\n",
    "$$\n",
    "\\begin{bmatrix}FR_1 \n",
    "\\\\ FR_2\n",
    "\\\\ ...\n",
    "\\\\ FR_n\n",
    "\\end{bmatrix}=\n",
    "\\begin{bmatrix}A_{11} & A_{12} & ... & A_{1m}\n",
    "\\\\ A_{21} &  A_{22} & ... & A_{2m}\n",
    "\\\\ ...\n",
    "\\\\ A_{n1} &  A_{n2} & ... & A_{nm}\n",
    "\\end{bmatrix}\n",
    "\\begin{bmatrix}DP_1 \n",
    "\\\\ DP_2\n",
    "\\\\ ...\n",
    "\\\\ DP_m\n",
    "\\end{bmatrix}\n",
    "$$\n",
    "\n",
    "当然，不一定是线性的，那工科标准做法就是就求导，反正在小量范围内可以近似成线性的。其实还是类似上面的矩阵，只不过带上了偏导符号而已，还不如原来看得清楚，所以后面就按线性近似来说了。\n"
   ]
  },
  {
   "cell_type": "markdown",
   "metadata": {},
   "source": [
    "然后，华丽丽的矩阵写好以后，其实我们不关心$A_{ij}$的系数具体是怎样的，只关心是否为0，如果不是0，就画个x。\n",
    "比如USS Monitor号上的情况。\n",
    "* $FR_1$（功能需求1）：调整航向\n",
    "* $FR_2$（功能需求2）：调整开炮方向\n",
    "* $DP_1$（设计参数1）：船舵\n",
    "* $DP_2$（设计参数1）：旋转炮塔\n",
    "\n",
    "$$\n",
    "\\begin{bmatrix}FR_1 \n",
    "\\\\ FR_2\n",
    "\\end{bmatrix}=\n",
    "\\begin{bmatrix}A_{11} &  A_{12}\n",
    "\\\\ A_{21} &  A_{22}\n",
    "\\end{bmatrix}\n",
    "\\begin{bmatrix}DP_1 \n",
    "\\\\ DP_2\n",
    "\\end{bmatrix}\n",
    "$$\n",
    "\n",
    "$$\n",
    "\\begin{bmatrix}FR_1 \n",
    "\\\\ FR_2\n",
    "\\end{bmatrix}=\n",
    "\\begin{bmatrix}X &  0\n",
    "\\\\ X &  X\n",
    "\\end{bmatrix}\n",
    "\\begin{bmatrix}DP_1 \n",
    "\\\\ DP_2\n",
    "\\end{bmatrix}\n",
    "$$\n",
    "\n",
    "其中转动船舵的时候，船会转向，所以$A_{11}$这里是X，同时船身上的炮塔也跟着船一起转向，所以也影响开炮方向$FR_2$，因此$A_{21}$也是X。\n",
    "而在旋转炮塔的时候，不影响船的航行方向，所以$A_{12}$这里是0。\n",
    "\n",
    "\n"
   ]
  },
  {
   "cell_type": "markdown",
   "metadata": {},
   "source": [
    "# 好的设计\n",
    "\n",
    "一个好的设计是什么呢？\n",
    "\n",
    "* 首先FRs（功能需求）的数量N，应当等于DPs(设计参数）的数量M。\n",
    "* 每一个FR（功能需求）有且只有一个DP（设计参数）来调整。\n",
    "\n",
    "就是A矩阵应当是一个对角矩阵，也就是说：\n",
    "\n",
    "$$\n",
    "A=\\begin{bmatrix}\n",
    "X & 0 & ... & 0\n",
    "\\\\ 0 &  X & ... & 0\n",
    "\\\\ ...\n",
    "\\\\ 0 &  0 & ... & X\n",
    "\\end{bmatrix}\n",
    "$$"
   ]
  },
  {
   "cell_type": "markdown",
   "metadata": {},
   "source": [
    "# 可行的设计\n",
    "\n",
    "A矩阵是一个三角形矩阵，如果按照调整顺序来规划DPs(设计参数），那么更确切的说，应当是上三角矩阵\n",
    "\n",
    "$$\n",
    "\\mathbf{A}=\\left[\\begin{array}{ccccc}{X} & {} & {\\cdots} & {} & {0} \\\\ {X} & {X} & {} & {(0)} & {} \\\\ {X} & {X} & {\\ddots} & {} & {\\vdots} \\\\ {\\vdots} & {\\vdots} & {\\ddots} & {\\ddots} & {} \\\\ {X} & {X} & {\\dots} & {X} & {X}\\end{array}\\right]\n",
    "$$\n",
    "\n",
    "在这种情况下，DPs(设计参数）仍然是可以一定程度decouple的，比如先调整船的航向，然后再调整炮塔的方向，但炮塔方向要先补偿船的转向，再加上需要旋转的角度。"
   ]
  },
  {
   "cell_type": "markdown",
   "metadata": {},
   "source": [
    "# 糟糕的设计\n",
    "\n",
    "A里面到处都是X，并且无法通过交换FRs（功能需求）和DPs（设计参数）的顺序来形成三角形矩阵。比如：\n",
    "*  FRs（功能需求）的数量N，小于 DPs(设计参数）的数量M。\n",
    "\n",
    "CSS Virginia号的情况就是这样，有2个FRs(功能需求）\n",
    "* $FR_1$（功能需求1）：调整航向\n",
    "* $FR_2$（功能需求2）：调整开炮方向\n",
    "\n",
    "但只有一个DP(设计参数）\n",
    "* $DP_1$（设计参数1）：船舵\n",
    "\n",
    "$$\n",
    "\\begin{bmatrix}FR_1 \n",
    "\\\\ FR_2\n",
    "\\end{bmatrix}=\n",
    "\\begin{bmatrix}X \n",
    "\\\\ X \n",
    "\\end{bmatrix}\n",
    "\\begin{bmatrix}DP_1 \n",
    "\\end{bmatrix}\n",
    "$$\n",
    "\n",
    "写不成三角矩阵\n",
    "\n",
    "于是只好靠装甲厚实扛打"
   ]
  }
 ],
 "metadata": {
  "kernelspec": {
   "display_name": "Python 3",
   "language": "python",
   "name": "python3"
  },
  "language_info": {
   "codemirror_mode": {
    "name": "ipython",
    "version": 3
   },
   "file_extension": ".py",
   "mimetype": "text/x-python",
   "name": "python",
   "nbconvert_exporter": "python",
   "pygments_lexer": "ipython3",
   "version": "3.6.8"
  },
  "nikola": {
   "category": "",
   "date": "2019-07-17 22:00 UTC+08:00",
   "description": "",
   "link": "",
   "slug": "axiomatic_design_note_2",
   "tags": "公理设计",
   "title": "公理设计笔记（2）",
   "type": "text"
  }
 },
 "nbformat": 4,
 "nbformat_minor": 2
}
