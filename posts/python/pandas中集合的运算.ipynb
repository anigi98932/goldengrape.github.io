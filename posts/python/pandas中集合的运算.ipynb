{
 "cells": [
  {
   "cell_type": "markdown",
   "metadata": {},
   "source": [
    "快要被Pandas搞疯了. 各种奇技淫巧太多, \n",
    "\n",
    "我觉得pandas, 或者说python的”大数据\"处理技巧两种: \n",
    "\n",
    "    a0. 确定你需要的数据文件是什么名字\n",
    "    a1. 去stackoverflow搜数据文件名字看看教程. \n",
    "    a2. 如果不能满足自己的要求, 提个问题, 然后等一周. \n",
    "\n",
    "或者: \n",
    "\n",
    "    b0. 自己查文档埋头苦干一周\n",
    "\n",
    "通常前者的解决方案效果优于后者, 而且代码更为优雅易读. \n",
    "\n",
    "例如: \n",
    "\n",
    "你发现自己研究的数据来自 City_Zhvi_AllHomes.csv (From the [Zillow research data site](http://www.zillow.com/research/data/) there is housing data for the United States. In particular the datafile for [all homes at a city level](http://files.zillowstatic.com/research/public/City/City_Zhvi_AllHomes.csv), ```City_Zhvi_AllHomes.csv```, has median home sale prices at a fine grained level.)\n",
    "\n",
    "那么, 只需要在StackOverFlow上[搜索City_Zhvi_AllHomes.csv](https://stackoverflow.com/search?q=City_Zhvi_AllHomes.csv) 即可. \n",
    "\n",
    "<!-- TEASER_END -->\n"
   ]
  },
  {
   "cell_type": "markdown",
   "metadata": {},
   "source": [
    "# 但我还是喜欢有理有据的解决\n",
    "\n",
    "作业题中是美国各个城市的房价, 城市分两类, 一类是有大学的, 一类是没大学的, 那么看看这两类城市房价的区别, \n",
    "\n",
    "可以取得的数据集是各个城市的房价, 是一个DataFrame, 还有一个是大学城名称的DataFrame. 但这两个DataFrame都是MultiIndex的, index中包含州的名字和城市的名字. \n",
    "\n",
    "所以问题就是对于MultiIndex的两个DataFrame, 如何取得交集和补集. 注意数据的Index有关系, 但数据内容可不一定有关系. coursera上讨论区中[高票支持的回答](https://www.coursera.org/learn/python-data-analysis/discussions/weeks/4/threads/n6epwLCKEeewNAofllqCYg)里各种奇技淫巧, 各种奇技淫巧. 而且你如果用他的方法, 在不同的python/pandas版本貌似出来的结果是不同的. \n",
    "\n",
    "不调用原始题目了, 用一个简化模型来说明. "
   ]
  },
  {
   "cell_type": "markdown",
   "metadata": {},
   "source": [
    "## 建立两个MultiIndex的DataFrame\n",
    "\n",
    "分别是s1和s2, 一会儿求他们的交集和差集. \n",
    "\n",
    "S1:\n",
    "\n",
    "|first | second |       |\n",
    "|----|----|----|\n",
    "|bar |   one|       0.502489|\n",
    "|    | two|       1.061737|\n",
    "|baz   | one|      -0.207277|\n",
    "|       |two|       2.042837|\n",
    "|foo    |one|      -0.792736|\n",
    "|       |two|      -0.204785|\n",
    "|qux    |one|       1.596757|\n",
    "|       |two|      -0.585016|\n",
    "\n",
    "S2: \n",
    "\n",
    "|first | second |       |\n",
    "|----|----|----|\n",
    "|bar   | one   |    0.553635|\n",
    "|foo   | two    |   1.049258|\n",
    "|cool  | three   | -1.059016|\n"
   ]
  },
  {
   "cell_type": "code",
   "execution_count": 3,
   "metadata": {
    "ExecuteTime": {
     "end_time": "2018-01-09T08:17:38.911189Z",
     "start_time": "2018-01-09T08:17:38.887210Z"
    }
   },
   "outputs": [
    {
     "data": {
      "text/plain": [
       "first  second\n",
       "bar    one       0.502489\n",
       "       two       1.061737\n",
       "baz    one      -0.207277\n",
       "       two       2.042837\n",
       "foo    one      -0.792736\n",
       "       two      -0.204785\n",
       "qux    one       1.596757\n",
       "       two      -0.585016\n",
       "dtype: float64"
      ]
     },
     "execution_count": 3,
     "metadata": {},
     "output_type": "execute_result"
    }
   ],
   "source": [
    "import pandas as pd\n",
    "import numpy as np\n",
    "arrays1 = [['bar', 'bar', 'baz', 'baz', 'foo', 'foo', 'qux', 'qux'],\n",
    "          ['one', 'two', 'one', 'two', 'one', 'two', 'one', 'two']]\n",
    "tuples1 = list(zip(*arrays1))\n",
    "index1 = pd.MultiIndex.from_tuples(tuples1, names=['first', 'second'])\n",
    "s1 = pd.Series(np.random.randn(len(tuples1)), index=index1)\n",
    "s1"
   ]
  },
  {
   "cell_type": "code",
   "execution_count": 5,
   "metadata": {
    "ExecuteTime": {
     "end_time": "2018-01-09T08:22:13.666700Z",
     "start_time": "2018-01-09T08:22:13.647897Z"
    },
    "scrolled": true
   },
   "outputs": [
    {
     "data": {
      "text/plain": [
       "first  second\n",
       "bar    one       0.553635\n",
       "foo    two       1.049258\n",
       "cool   three    -1.059016\n",
       "dtype: float64"
      ]
     },
     "execution_count": 5,
     "metadata": {},
     "output_type": "execute_result"
    }
   ],
   "source": [
    "arrays2 = [['bar', 'foo', \"cool\"],\n",
    "          ['one', 'two', \"three\"]]\n",
    "tuples2 = list(zip(*arrays2))\n",
    "index1 = pd.MultiIndex.from_tuples(tuples2, names=['first', 'second'])\n",
    "s2 = pd.Series(np.random.randn(len(tuples2)), index=index1)\n",
    "s2"
   ]
  },
  {
   "cell_type": "markdown",
   "metadata": {},
   "source": [
    "现在要求解:\n",
    "s1, s2中index的交集, 差集. \n",
    "\n",
    "可以参考[Python For Data Analysis ](https://pda.readthedocs.io/en/latest/chp5.html)\n",
    "![](https://pda.readthedocs.io/en/latest/_static/cover.jpg)\n",
    "\n",
    "索引方法和属性\n",
    "* append\t链接额外的索引对象，产生一个新的索引\n",
    "* diff\t计算索引的差集\n",
    "* intersection\t计算交集\n",
    "* union\t计算并集\n",
    "* isin\t计算出一个布尔数组表示每一个值是否包含在所传递的集合里\n",
    "* delete\t计算删除位置i的元素的索引\n",
    "* drop\t计算删除所传递的值后的索引\n",
    "* insert\t计算在位置i插入元素后的索引\n",
    "* is_monotonic\t返回True，如果每一个元素都比它前面的元素大或相等\n",
    "* is_unique\t返回True，如果索引没有重复的值\n",
    "* unique\t计算索引的唯一值数组\n",
    "\n",
    "当然, 如果你完全相信他, 那就上当了. 我反复说过, 开源社区有一定的**反社会倾向**, 不能不信, 也不能全信. 比如我想用的最重要的这个差集的计算方法, 如果用diff就报错了. 要用difference.\n",
    "\n",
    "要回到pandas的文档中找证据: [pandas.Index.difference](https://pandas.pydata.org/pandas-docs/stable/generated/pandas.Index.difference.html)"
   ]
  },
  {
   "cell_type": "code",
   "execution_count": 7,
   "metadata": {
    "ExecuteTime": {
     "end_time": "2018-01-09T08:29:50.756465Z",
     "start_time": "2018-01-09T08:29:50.738796Z"
    }
   },
   "outputs": [
    {
     "data": {
      "text/plain": [
       "Int64Index([1, 2], dtype='int64')"
      ]
     },
     "execution_count": 7,
     "metadata": {},
     "output_type": "execute_result"
    }
   ],
   "source": [
    "idx1 = pd.Index([1, 2, 3, 4])\n",
    "idx2 = pd.Index([3, 4, 5, 6])\n",
    "idx1.difference(idx2)"
   ]
  },
  {
   "cell_type": "markdown",
   "metadata": {},
   "source": [
    "如果你想把MultiIndex的例子简单代入\n",
    "```python\n",
    "s1.difference(s2)\n",
    "```\n",
    "那么又错了. 反社会倾向, 注意. \n",
    "\n",
    "Pandas文档中的例子里idx1和idx不是DataFrame, 而是index. 被反社会以后, 我还得承认是自己看错了. \n",
    "\n",
    "所以: "
   ]
  },
  {
   "cell_type": "code",
   "execution_count": 16,
   "metadata": {
    "ExecuteTime": {
     "end_time": "2018-01-09T08:36:06.418622Z",
     "start_time": "2018-01-09T08:36:06.408626Z"
    }
   },
   "outputs": [
    {
     "data": {
      "text/plain": [
       "MultiIndex(levels=[['bar', 'baz', 'foo', 'qux'], ['one', 'two']],\n",
       "           labels=[[0, 1, 1, 2, 3, 3], [1, 0, 1, 0, 0, 1]],\n",
       "           names=['first', 'second'],\n",
       "           sortorder=0)"
      ]
     },
     "execution_count": 16,
     "metadata": {},
     "output_type": "execute_result"
    }
   ],
   "source": [
    "s1.index.difference(s2.index)"
   ]
  },
  {
   "cell_type": "markdown",
   "metadata": {},
   "source": [
    "求解两个集合的交集: "
   ]
  },
  {
   "cell_type": "code",
   "execution_count": 17,
   "metadata": {
    "ExecuteTime": {
     "end_time": "2018-01-09T08:36:08.097940Z",
     "start_time": "2018-01-09T08:36:08.085919Z"
    }
   },
   "outputs": [
    {
     "data": {
      "text/plain": [
       "first  second\n",
       "bar    one       0.502489\n",
       "foo    two      -0.204785\n",
       "dtype: float64"
      ]
     },
     "execution_count": 17,
     "metadata": {},
     "output_type": "execute_result"
    }
   ],
   "source": [
    "s1.loc[s1.index.intersection(s2.index)]"
   ]
  },
  {
   "cell_type": "markdown",
   "metadata": {},
   "source": [
    "从集合s1中扣除s2, 剩下的差集"
   ]
  },
  {
   "cell_type": "code",
   "execution_count": 18,
   "metadata": {
    "ExecuteTime": {
     "end_time": "2018-01-09T08:36:12.657534Z",
     "start_time": "2018-01-09T08:36:12.646725Z"
    }
   },
   "outputs": [
    {
     "data": {
      "text/plain": [
       "first  second\n",
       "bar    two       1.061737\n",
       "baz    one      -0.207277\n",
       "       two       2.042837\n",
       "foo    one      -0.792736\n",
       "qux    one       1.596757\n",
       "       two      -0.585016\n",
       "dtype: float64"
      ]
     },
     "execution_count": 18,
     "metadata": {},
     "output_type": "execute_result"
    }
   ],
   "source": [
    "s1.loc[s1.index.difference(s2.index)]"
   ]
  },
  {
   "cell_type": "code",
   "execution_count": null,
   "metadata": {
    "collapsed": true
   },
   "outputs": [],
   "source": []
  }
 ],
 "metadata": {
  "kernelspec": {
   "display_name": "Python 3",
   "language": "python",
   "name": "python3"
  },
  "language_info": {
   "codemirror_mode": {
    "name": "ipython",
    "version": 3
   },
   "file_extension": ".py",
   "mimetype": "text/x-python",
   "name": "python",
   "nbconvert_exporter": "python",
   "pygments_lexer": "ipython3",
   "version": "3.5.2"
  },
  "nikola": {
   "category": "",
   "date": "2018-01-09 16:02:34 UTC+08:00",
   "description": "",
   "link": "",
   "slug": "pandaszhong-ji-he-de-yun-suan",
   "tags": "",
   "title": "Pandas中集合的运算",
   "type": "text"
  },
  "toc": {
   "colors": {
    "hover_highlight": "#DAA520",
    "navigate_num": "#000000",
    "navigate_text": "#333333",
    "running_highlight": "#FF0000",
    "selected_highlight": "#FFD700",
    "sidebar_border": "#EEEEEE",
    "wrapper_background": "#FFFFFF"
   },
   "moveMenuLeft": true,
   "nav_menu": {
    "height": "58px",
    "width": "254px"
   },
   "navigate_menu": true,
   "number_sections": true,
   "sideBar": true,
   "threshold": 4,
   "toc_cell": false,
   "toc_section_display": "block",
   "toc_window_display": false,
   "widenNotebook": false
  }
 },
 "nbformat": 4,
 "nbformat_minor": 2
}
