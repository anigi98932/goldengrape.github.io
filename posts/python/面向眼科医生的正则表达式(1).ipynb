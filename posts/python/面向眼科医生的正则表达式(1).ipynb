{
 "cells": [
  {
   "cell_type": "markdown",
   "metadata": {},
   "source": [
    "以从抗体序列中定位CDR来练习正则表达式. \n",
    "\n",
    "正则表达式的基础和简介放在以后写\n",
    "<!-- TEASER_END -->"
   ]
  },
  {
   "cell_type": "markdown",
   "metadata": {},
   "source": [
    "# 定位抗体序列中的CDR"
   ]
  },
  {
   "cell_type": "markdown",
   "metadata": {},
   "source": [
    "在设计抗体时, 如何找出抗体序列中的CDR是一个问题, \n",
    "\n",
    "按照[这个网页](http://www.bioinf.org.uk/abs/#cdrdef)上所描述的方法, 也可以使用对序列进行分析"
   ]
  },
  {
   "cell_type": "markdown",
   "metadata": {},
   "source": [
    "## 轻链的CDR-L"
   ]
  },
  {
   "cell_type": "markdown",
   "metadata": {},
   "source": [
    "* CDR-L1\n",
    "    * Start\tApprox residue 24\n",
    "    * Residue before \talways a Cys\n",
    "    * Residue after\talways a Trp. Typically Trp-Tyr-Gln, but also, Trp-Leu-Gln, Trp-Phe-Gln, Trp-Tyr-Leu\n",
    "    * Length\t10 to 17 residues\n",
    "* CDR-L2\n",
    "    * Start\talways 16 residues after the end of L1\n",
    "    * Residues before \tgenerally Ile-Tyr, but also, Val-Tyr, Ile-Lys, Ile-Phe\n",
    "    * Length\talways 7 residues (except NEW (7FAB) which has a deletion in this region)\n",
    "* CDR-L3\n",
    "    * Start\talways 33 residues after end of L2 (except NEW (7FAB) which has the deletion at the end of CDR-L2)\n",
    "    * Residue before \talways Cys\n",
    "    * Residues after\talways Phe-Gly-XXX-Gly\n",
    "    * Length\t7 to 11 residues"
   ]
  },
  {
   "cell_type": "markdown",
   "metadata": {},
   "source": [
    "以大名鼎鼎的[Lucentis(Ranibizumab)序列](https://www.drugbank.ca/drugs/DB01270)为例"
   ]
  },
  {
   "cell_type": "code",
   "execution_count": 1,
   "metadata": {},
   "outputs": [
    {
     "name": "stdout",
     "output_type": "stream",
     "text": [
      ">Ranibizumab Light Chain\n",
      " DIQLTQSPSSLSASVGDRVTITCSASQDISNYLNWYQQKPGKAPKVLIYFTSSLHSGVPSRFSGSGSGTDFTLTISSLQPEDFATYYCQQYSTVPWTFGQGTKVEIKRTVAAPSVFIFPPSDEQLKSGTASVVCLLNNFYPREAKVQWKVDNALQSGNSQESVTEQDSKDSTYSLSSTLTLSKADYEKHKVYACEVTHQGLSSPVTKSFNRGEC\n",
      ">Ranibizumab Heavy Chain\n",
      " EVQLVESGGGLVQPGGSLRLSCAASGYDFTHYGMNWVRQAPGKGLEWVGWINTYTGEPTYAADFKRRFTFSLDTSKSTAYLQMNSLRAEDTAVYYCAKYPYYYGTSHWYFDVWGQGTLVTVSSASTKGPSVFPLAPSSKSTSGGTAALGCLVKDYFPEPVTVSWNSGALTSGVHTFPAVLQSSGLYSLSSVVTVPSSSLGTQTYICNVNHKPSNTKVDKKVEPKSCDKTHL\n"
     ]
    }
   ],
   "source": [
    "import re\n",
    "VL=\"DIQLTQSPSSLSASVGDRVTITCSASQDISNYLNWYQQKPGKAPKVLIYFTSSLHSGVPS\\\n",
    "RFSGSGSGTDFTLTISSLQPEDFATYYCQQYSTVPWTFGQGTKVEIKRTVAAPSVFIFPP\\\n",
    "SDEQLKSGTASVVCLLNNFYPREAKVQWKVDNALQSGNSQESVTEQDSKDSTYSLSSTLT\\\n",
    "LSKADYEKHKVYACEVTHQGLSSPVTKSFNRGEC\"\n",
    "VH=\"EVQLVESGGGLVQPGGSLRLSCAASGYDFTHYGMNWVRQAPGKGLEWVGWINTYTGEPTY\\\n",
    "AADFKRRFTFSLDTSKSTAYLQMNSLRAEDTAVYYCAKYPYYYGTSHWYFDVWGQGTLVT\\\n",
    "VSSASTKGPSVFPLAPSSKSTSGGTAALGCLVKDYFPEPVTVSWNSGALTSGVHTFPAVL\\\n",
    "QSSGLYSLSSVVTVPSSSLGTQTYICNVNHKPSNTKVDKKVEPKSCDKTHL\"\n",
    "print(\">Ranibizumab Light Chain\\n\",VL)\n",
    "print(\">Ranibizumab Heavy Chain\\n\",VH)\n"
   ]
  },
  {
   "cell_type": "markdown",
   "metadata": {},
   "source": [
    "### CDR-L1\n",
    "\n",
    "#### CDR-L1之前的部分\n",
    "* 开始于第24个字母: \n",
    "    * 正则表达式: ```^[A-Z]{24}```\n",
    "    * ^表示从字符串开始\n",
    "    * [A-Z]表示一个字母\n",
    "    * {24}, 表示该字母重复了24次.\n",
    "    * 但其实CDR序列开始于第24个字母, 它前面应该是24-1=23个字母, 所以应当是^[A-Z]{23}\n",
    "* 序列之前总是Cys(单字母C): ```(^([A-Z]{22})C)```\n",
    "    * 也就是CDR之前的序列最后一个字母是C, 那么又用掉一个字母, 应当是23-1=22"
   ]
  },
  {
   "cell_type": "code",
   "execution_count": 2,
   "metadata": {},
   "outputs": [
    {
     "data": {
      "text/plain": [
       "['DIQLTQSPSSLSASVGDRVTITC']"
      ]
     },
     "execution_count": 2,
     "metadata": {},
     "output_type": "execute_result"
    }
   ],
   "source": [
    "CDR1_before=\"(^[A-Z]{22}C)\"\n",
    "re.findall(CDR1_before,VL)"
   ]
  },
  {
   "cell_type": "markdown",
   "metadata": {},
   "source": [
    "#### CDR-L1序列的部分\n",
    "* 长度是10 to 17个字母: \n",
    "    * 正则表达式: [A-Z]{10,17}"
   ]
  },
  {
   "cell_type": "code",
   "execution_count": 3,
   "metadata": {},
   "outputs": [
    {
     "data": {
      "text/plain": [
       "[('DIQLTQSPSSLSASVGDRVTITC', 'SASQDISNYLNWYQQKP')]"
      ]
     },
     "execution_count": 3,
     "metadata": {},
     "output_type": "execute_result"
    }
   ],
   "source": [
    "CDR1_itself=\"([A-Z]{10,17})\"\n",
    "re.findall(CDR1_before+CDR1_itself,VL)\n",
    "# 注意现在还没有定义结尾部分, 所以会直接找到{10, 17}中最大的17这个值"
   ]
  },
  {
   "cell_type": "markdown",
   "metadata": {},
   "source": [
    "#### CDR-L1序列之后的部分\n",
    "* 序列之后总是Trp(单字母W). 典型的是Trp-Tyr-Gln(WYQ), 但也可能Trp-Leu-Gln(WLQ), Trp-Phe-Gln(WFQ), Trp-Tyr-Leu(WYL): \n",
    "    * 正则表达式: ```(WYQ|WLQ|WFQ|WYL)```\n",
    "    * 用|表示或的关系, 考虑到可读性, 我还是把所有的W都写出来了\n",
    "    * 如果不想记住语言的优先级, 加括号会更安全一些: ```((WYQ)|(WLQ)|(WFQ)|(WYL))```"
   ]
  },
  {
   "cell_type": "code",
   "execution_count": 4,
   "metadata": {},
   "outputs": [
    {
     "data": {
      "text/plain": [
       "[('DIQLTQSPSSLSASVGDRVTITC', 'SASQDISNYLN', 'WYQ')]"
      ]
     },
     "execution_count": 4,
     "metadata": {},
     "output_type": "execute_result"
    }
   ],
   "source": [
    "CDR1_after=\"(WYQ|WLQ|WFQ|WYL)\"\n",
    "CDR1_pattern=\"(^[A-Z]{22}C)\"+\"([A-Z]{10,17})\"+\"(WYQ|WLQ|WFQ|WYL)\"\n",
    "re.findall(CDR1_pattern,VL)"
   ]
  },
  {
   "cell_type": "markdown",
   "metadata": {},
   "source": [
    "### CDR-L2\n",
    "* L1结束后16个字母: \n",
    "    * 正则表达式: [A-Z]{16}\n",
    "    * 但之前有WYQ已经用掉了3个字母, 又以1个字母开头, 所以应当是[A-Z]{12}\n",
    "    * 实际操作中我发现这条好像很难匹配上, 不限定字母数字好像更好些, 用[A-Z]*?\n",
    "* 序列长度7个字母: \n",
    "    * 正则表达式: [A-Z]{7}\n",
    "* 序列之后通常是Ile-Tyr(IY), but also, Val-Tyr(VY), Ile-Lys(IK), Ile-Phe(IF)\n",
    "    * 正则表达式: (IY|VY|IK|IF)"
   ]
  },
  {
   "cell_type": "code",
   "execution_count": 5,
   "metadata": {},
   "outputs": [
    {
     "data": {
      "text/plain": [
       "[('DIQLTQSPSSLSASVGDRVTITC', 'SASQDISNYLN', 'WYQ', 'QKP', 'GKAPKVL', 'IY')]"
      ]
     },
     "execution_count": 5,
     "metadata": {},
     "output_type": "execute_result"
    }
   ],
   "source": [
    "CDR1_pattern=\"(^[A-Z]{22}C)\"+\"([A-Z]{10,17})\"+\"(WYQ|WLQ|WFQ|WYL)\"\n",
    "CDR2_pattern=\"([A-Z]*?)\"+\"([A-Z]{7})\"+\"(IY|VY|IK|IF)\"\n",
    "CDR_pattern=CDR1_pattern+CDR2_pattern\n",
    "re.findall(CDR_pattern,VL)"
   ]
  },
  {
   "cell_type": "markdown",
   "metadata": {},
   "source": [
    "### CDR-L3\n",
    "* L2结束后第33个字母开始, 开始前总是Cys(C), \n",
    "    * 正则表达式: [A-Z]{33}C\n",
    "    * 但前面的IY用掉了2个, 开头用掉1个, C用掉1个, 所以是[A-Z]{29}C\n",
    "    * 实际操作中我发现这条好像很难匹配上, 不限定字母数字好像更好些, 用[A-Z]*?C\n",
    "\n",
    "* 序列长度7 to 11 字母: \n",
    "    * 正则表达式: [A-Z]{7, 11}\n",
    "* 序列之后总是Phe-Gly-XXX-Gly(FG?G)\n",
    "    * 正则表达式: FG[A-Z]G\n",
    "    * XXX表示的是任意, 所以用[A-Z]表示"
   ]
  },
  {
   "cell_type": "code",
   "execution_count": 6,
   "metadata": {},
   "outputs": [
    {
     "name": "stdout",
     "output_type": "stream",
     "text": [
      "[('DIQLTQSPSSLSASVGDRVTITC', 'SASQDISNYLN', 'WYQ', 'QKP', 'GKAPKVL', 'IY', 'FTSSLHSGVPSRFSGSGSGTDFTLTISSLQPEDFATYYC', 'QQYSTVPWT', 'FGQG')]\n",
      "SASQDISNYLN GKAPKVL QQYSTVPWT\n"
     ]
    }
   ],
   "source": [
    "CDR1_pattern=\"(^[A-Z]{22}C)\"+\"([A-Z]{10,17})\"+\"(WYQ|WLQ|WFQ|WYL)\"\n",
    "CDR2_pattern=\"([A-Z]*?)\"+\"([A-Z]{7})\"+\"(IY|VY|IK|IF)\"\n",
    "CDR3_pattern=\"([A-Z]*?C)\"+\"([A-Z]{7,11})\"+\"(FG[A-Z]G)\"\n",
    "CDR_pattern=CDR1_pattern+CDR2_pattern+CDR3_pattern\n",
    "\n",
    "CDRs=re.findall(CDR_pattern,VL)\n",
    "CDR1=CDRs[0][1]\n",
    "CDR2=CDRs[0][4]\n",
    "CDR3=CDRs[0][7]\n",
    "print(CDRs)\n",
    "print(CDR1,CDR2,CDR3)"
   ]
  },
  {
   "cell_type": "markdown",
   "metadata": {},
   "source": [
    "# 重链的CDR-H\n",
    "\n",
    "* CDR-H1\n",
    "    * Start\tApprox residue 26 (always 4 after a Cys) [Chothia / AbM defintion]; Kabat definition starts 5 residues later\n",
    "    * Residues before \talways Cys-XXX-XXX-XXX\n",
    "    * Residues after\talways a Trp. Typically Trp-Val, but also, Trp-Ile, Trp-Ala\n",
    "    * Length\t10 to 12 residues [AbM definition]; Chothia definition excludes the last 4 residues\n",
    "* CDR-H2\n",
    "    * Start\talways 15 residues after the end of Kabat / AbM definition) of CDR-H1\n",
    "    * Residues before \ttypically Leu-Glu-Trp-Ile-Gly, but a number of variations\n",
    "    * Residues after\tLys/Arg-Leu/Ile/Val/Phe/Thr/Ala-Thr/Ser/Ile/Ala\n",
    "    * Length\tKabat definition 16 to 19 residues; AbM (and recent Chothia) definition ends 7 residues earlier\n",
    "* CDR-H3\n",
    "    * Start\talways 33 residues after end of CDR-H2 (always 2 after a Cys)\n",
    "    * Residues before \talways Cys-XXX-XXX (typically Cys-Ala-Arg)\n",
    "    * Residues after\talways Trp-Gly-XXX-Gly\n",
    "    * Length\t3 to 25(!) residues"
   ]
  },
  {
   "cell_type": "markdown",
   "metadata": {},
   "source": [
    "### CDR-H1\n",
    "* 开始于26个字母后, 序列前总是 Cys-XXX-XXX-XXX: \n",
    "    * 正则表达式: ^[A-Z]{21}C[A-Z]{3}\n",
    "* 长度10-12个字母: \n",
    "    * 正则表达式: [A-Z]{10,12}\n",
    "* 序列后总是Trp(W). 典型Trp-Val(WV), 但也可能Trp-Ile(WI), Trp-Ala(WA)\n",
    "    * 正则表达式: (WV|WI|WA)"
   ]
  },
  {
   "cell_type": "code",
   "execution_count": 7,
   "metadata": {},
   "outputs": [
    {
     "data": {
      "text/plain": [
       "[('EVQLVESGGGLVQPGGSLRLSCAAS', 'GYDFTHYGMN', 'WV')]"
      ]
     },
     "execution_count": 7,
     "metadata": {},
     "output_type": "execute_result"
    }
   ],
   "source": [
    "CDR1_pattern=\"(^[A-Z]{21}C[A-Z]{3})\"+\"([A-Z]{10,12})\"+\"(WV|WI|WA)\"\n",
    "CDR_pattern=CDR1_pattern\n",
    "re.findall(CDR_pattern,VH)"
   ]
  },
  {
   "cell_type": "markdown",
   "metadata": {},
   "source": [
    "### CDR-H2\n",
    "\n",
    "* 开始总是在CDR-H1结束后15个字母, 序列开始前典型是Leu-Glu-Trp-Ile-Gly(LEWIG), 但也有一堆变化(WTF)\n",
    "    * 正则表达式: [A-Z]*?LEWIG\n",
    "    * 此处重重吐槽下, WTF表示what the fuck! 为什么生物学不找人待见, 别说生物学了, 连有机化学都是!说个什么规律, 结果反常情况比规律还多\n",
    "* 长度16到19(Kabat定义), 或者7(AbM, Chothia定义)\n",
    "    * 正则表达式: [A-Z]{7,19}\n",
    "* 序列之后Lys/Arg-Leu/Ile/Val/Phe/Thr/Ala-Thr/Ser/Ile/Ala, 看起来生物学家也使用某种正则表达式的雏形了, 这句话的意思是Lys或者Arg, 然后Leu/Ile/Val/Phe/Thr/Ala之中的1个, 然后Thr/Ser/Ile/Ala之中的一个\n",
    "    * 正则表达式: ```[K|R][L|I|V|F|T|A][T|S|I|A]```"
   ]
  },
  {
   "cell_type": "code",
   "execution_count": 8,
   "metadata": {},
   "outputs": [
    {
     "data": {
      "text/plain": [
       "[('EVQLVESGGGLVQPGGSLRLSCAAS',\n",
       "  'GYDFTHYGMN',\n",
       "  'WV',\n",
       "  'RQAPGKGLEW',\n",
       "  'VGWINTYTGEPTYAADFKR',\n",
       "  'RFT')]"
      ]
     },
     "execution_count": 8,
     "metadata": {},
     "output_type": "execute_result"
    }
   ],
   "source": [
    "CDR1_pattern=\"(^[A-Z]{21}C[A-Z]{3})\"+\"([A-Z]{10,12})\"+\"(WV|WI|WA)\"\n",
    "CDR2_pattern=\"([A-Z]*?)\"+\"([A-Z]{7,19})\"+\"([K|R][L|I|V|F|T|A][T|S|I|A])\"\n",
    "CDR_pattern=CDR1_pattern+CDR2_pattern\n",
    "re.findall(CDR_pattern,VH)"
   ]
  },
  {
   "cell_type": "markdown",
   "metadata": {},
   "source": [
    "### CDR-H3\n",
    "* 开时于CDR-H2后33个字母, 序列前总是Cys-XXX-XXX (典型是 Cys-Ala-Arg): \n",
    "    * 正则表达式: ```[A-Z]*? C[A-Z]{2}```\n",
    "* 长度通常是3到25个字母: \n",
    "    * 正则表达式: [A-Z]{3,25}\n",
    "* 序列之后总是Trp-Gly-XXX-Gly\n",
    "    * 正则表达式: WG[A-Z]G"
   ]
  },
  {
   "cell_type": "code",
   "execution_count": 9,
   "metadata": {},
   "outputs": [
    {
     "name": "stdout",
     "output_type": "stream",
     "text": [
      "[('EVQLVESGGGLVQPGGSLRLSCAAS', 'GYDFTHYGMN', 'WV', 'RQAPGKGLEW', 'VGWINTYTGEPTYAADFKR', 'RFT', 'FSLDTSKSTAYLQMNSLRAEDTAVYYCAK', 'YPYYYGTSHWYFDV', 'WGQG')]\n",
      "GYDFTHYGMN VGWINTYTGEPTYAADFKR YPYYYGTSHWYFDV\n"
     ]
    }
   ],
   "source": [
    "CDR1_pattern=\"(^[A-Z]{21}C[A-Z]{3})\"+\"([A-Z]{10,12})\"+\"(WV|WI|WA)\"\n",
    "CDR2_pattern=\"([A-Z]*?)\"+\"([A-Z]{7,19})\"+\"([K|R][L|I|V|F|T|A][T|S|I|A])\"\n",
    "CDR3_pattern=\"([A-Z]*?C[A-Z]{2})\"+\"([A-Z]{3,25})\"+\"(WG[A-Z]G)\"\n",
    "CDR_pattern=CDR1_pattern+CDR2_pattern+CDR3_pattern\n",
    "\n",
    "CDRs=re.findall(CDR_pattern,VH)\n",
    "CDR1=CDRs[0][1]\n",
    "CDR2=CDRs[0][4]\n",
    "CDR3=CDRs[0][7]\n",
    "print(CDRs)\n",
    "print(CDR1,CDR2,CDR3)"
   ]
  },
  {
   "cell_type": "code",
   "execution_count": null,
   "metadata": {},
   "outputs": [],
   "source": []
  }
 ],
 "metadata": {
  "kernelspec": {
   "display_name": "Python 3",
   "language": "python",
   "name": "python3"
  },
  "language_info": {
   "codemirror_mode": {
    "name": "ipython",
    "version": 3
   },
   "file_extension": ".py",
   "mimetype": "text/x-python",
   "name": "python",
   "nbconvert_exporter": "python",
   "pygments_lexer": "ipython3",
   "version": "3.5.2"
  },
  "nikola": {
   "category": "",
   "date": "2018-3-11 12:00 UTC+08:00",
   "description": "",
   "link": "",
   "slug": "reg101-for-ophthalmologist",
   "tags": "现代眼科医生知识扩展包, python",
   "title": "面向眼科医生的正则表达式(1)-练习",
   "type": "text"
  }
 },
 "nbformat": 4,
 "nbformat_minor": 2
}
