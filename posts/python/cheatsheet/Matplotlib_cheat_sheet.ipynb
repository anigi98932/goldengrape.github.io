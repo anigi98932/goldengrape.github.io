{
 "cells": [
  {
   "cell_type": "markdown",
   "metadata": {},
   "source": [
    "来自于[datacamp](https://s3.amazonaws.com/assets.datacamp.com/blog_assets/Python_Matplotlib_Cheat_Sheet.pdf), 我觉得一大张PDF不方便. 给改写成jupyter的. 有可能以后再做成竖排的小册子, 方便查阅. \n",
    "\n",
    "需要下载本文可以[点击此处](https://github.com/goldengrape/goldengrape.github.io/blob/gh-pages/posts/python/cheatsheet/Matplotlib_cheat_sheet.ipynb)\n",
    "\n",
    "<!-- TEASER_END -->"
   ]
  },
  {
   "cell_type": "markdown",
   "metadata": {},
   "source": [
    "# 工作流程\n",
    "\n",
    "1. 准备数据\n",
    "2. 建立plot\n",
    "3. plot\n",
    "4. 自定义plot\n",
    "5. 保存plot\n",
    "6. 显示plot"
   ]
  },
  {
   "cell_type": "code",
   "execution_count": null,
   "metadata": {},
   "outputs": [],
   "source": [
    "# 例子\n",
    "import matplotlib.pyplot as plt\n",
    "\n",
    "# 1.准备数据\n",
    "x = [1,2,3,4]\n",
    "y = [10,20,25,30]\n",
    "# 2. 建立plot\n",
    "fig = plt.figure()\n",
    "ax = fig.add_subplot(111)\n",
    "# 3. 画图, 4. 自定义\n",
    "ax.plot(x, y, color='lightblue', linewidth=3)\n",
    "ax.scatter([2,4,6],\n",
    " [5,15,25],\n",
    " color='darkgreen',\n",
    " marker='^')\n",
    "ax.set_xlim(1, 6.5)\n",
    "# 5. 保存\n",
    "plt.savefig()\n",
    "# 6. 显示\n",
    "plt.show()"
   ]
  },
  {
   "cell_type": "markdown",
   "metadata": {},
   "source": [
    "# 准备数据"
   ]
  },
  {
   "cell_type": "markdown",
   "metadata": {},
   "source": [
    "## 1D数据"
   ]
  },
  {
   "cell_type": "code",
   "execution_count": null,
   "metadata": {},
   "outputs": [],
   "source": [
    "import numpy as np\n",
    "x = np.linspace(0, 10, 100)\n",
    "y = np.cos(x)\n",
    "z = np.sin(x)"
   ]
  },
  {
   "cell_type": "markdown",
   "metadata": {},
   "source": [
    "## 2D Data or Images"
   ]
  },
  {
   "cell_type": "code",
   "execution_count": null,
   "metadata": {},
   "outputs": [],
   "source": [
    "data = 2 * np.random.random((10, 10))\n",
    "data2 = 3 * np.random.random((10, 10)) \n",
    "Y, X = np.mgrid[-3:3:100j, -3:3:100j] \n",
    "U = -1 - X**2 + Y\n",
    "V = 1 + X - Y**2\n",
    "from matplotlib.cbook import get_sample_data\n",
    "img = np.load(get_sample_data('axes_grid/bivariate_normal.npy'))"
   ]
  },
  {
   "cell_type": "markdown",
   "metadata": {},
   "source": [
    "# 建立plot"
   ]
  },
  {
   "cell_type": "code",
   "execution_count": null,
   "metadata": {},
   "outputs": [],
   "source": [
    "import matplotlib.pyplot as plt\n",
    "% matplotlib inline\n",
    "# % matplotlib notebook # 交互式的, 每次修改都在原图上"
   ]
  },
  {
   "cell_type": "markdown",
   "metadata": {},
   "source": [
    "## Figure"
   ]
  },
  {
   "cell_type": "code",
   "execution_count": null,
   "metadata": {},
   "outputs": [],
   "source": [
    "fig = plt.figure()\n",
    "fig2 = plt.figure(figsize=plt.figaspect(2.0))"
   ]
  },
  {
   "cell_type": "markdown",
   "metadata": {},
   "source": [
    "## Axes\n",
    "所有的绘图都在一个__Axes__里面. 在大多数情况下, subplot可以满足你的要求. subplot是一个axes中的一个网格系统"
   ]
  },
  {
   "cell_type": "code",
   "execution_count": null,
   "metadata": {},
   "outputs": [],
   "source": [
    "fig.add_axes()\n",
    "ax1 = fig.add_subplot(221) # row-col-num, 行-列-序数\n",
    "ax3 = fig.add_subplot(212)\n",
    "fig3, axes = plt.subplots(nrows=2,ncols=2)\n",
    "fig4, axes2 = plt.subplots(ncols=3)"
   ]
  },
  {
   "cell_type": "markdown",
   "metadata": {},
   "source": [
    "# Plot常规"
   ]
  },
  {
   "cell_type": "markdown",
   "metadata": {},
   "source": [
    "## 1D数据"
   ]
  },
  {
   "cell_type": "code",
   "execution_count": null,
   "metadata": {},
   "outputs": [],
   "source": [
    "lines = ax.plot(x,y) # 直线\n",
    "ax.scatter(x,y)      # 散点\n",
    "axes[0,0].bar([1,2,3],[3,4,5])\n",
    "axes[1,0].barh([0.5,1,2.5],[0,1,2])\n",
    "axes[1,1].axhline(0.45) # 垂直到轴的直线\n",
    "axes[0,1].axvline(0.65) # 水平到轴的直线\n",
    "ax.fill(x,y,color='blue') # 多边形填色\n",
    "ax.fill_between(x,y,color='yellow') # 上下数据之间填色, 用y1,y2好像更容易理解\n"
   ]
  },
  {
   "cell_type": "markdown",
   "metadata": {},
   "source": [
    "## 向量场"
   ]
  },
  {
   "cell_type": "code",
   "execution_count": null,
   "metadata": {},
   "outputs": [],
   "source": [
    "axes[0,1].arrow(0,0,0.5,0.5) # 在座标轴上加箭头\n",
    "axes[1,1].quiver(y,z) # 2D向量场带箭头\n",
    "axes[0,1].streamplot(X,Y,U,V) #2D向量场"
   ]
  },
  {
   "cell_type": "markdown",
   "metadata": {},
   "source": [
    "## 数据分布"
   ]
  },
  {
   "cell_type": "code",
   "execution_count": null,
   "metadata": {},
   "outputs": [],
   "source": [
    "ax1.hist(y) # histogram\n",
    "ax3.boxplot(y) # Make a box and whisker plot\n",
    "ax3.violinplot(z) # Make a violin plot"
   ]
  },
  {
   "cell_type": "markdown",
   "metadata": {},
   "source": [
    "## 2D 数据或图像"
   ]
  },
  {
   "cell_type": "code",
   "execution_count": null,
   "metadata": {},
   "outputs": [],
   "source": [
    "fig, ax = plt.subplots()\n",
    "im = ax.imshow(img, cmap='gist_earth', # Colormapped or RGB arrays \n",
    "               interpolation='nearest', \n",
    "               vmin=-2,\n",
    "               vmax=2)"
   ]
  },
  {
   "cell_type": "code",
   "execution_count": null,
   "metadata": {},
   "outputs": [],
   "source": [
    "axes2[0].pcolor(data2) # 伪彩色画2D矩阵\n",
    "axes2[0].pcolormesh(data) # 伪彩色画2D矩阵\n",
    "CS = plt.contour(Y,X,U) # 等高线\n",
    "axes2[2].contourf(data1) # 填充等高线\n",
    "axes2[2]= ax.clabel(CS) # 标记等高线"
   ]
  },
  {
   "cell_type": "markdown",
   "metadata": {},
   "source": [
    "# 自定义plot"
   ]
  },
  {
   "cell_type": "markdown",
   "metadata": {},
   "source": [
    "## 颜色, color bar, color map"
   ]
  },
  {
   "cell_type": "code",
   "execution_count": null,
   "metadata": {},
   "outputs": [],
   "source": [
    "plt.plot(x, x, x, x**2, x, x**3)\n",
    "ax.plot(x, y, alpha = 0.4)\n",
    "ax.plot(x, y, c='k')\n",
    "fig.colorbar(im, orientation='horizontal')\n",
    "im = ax.imshow(img,\n",
    "               cmap='seismic')"
   ]
  },
  {
   "cell_type": "markdown",
   "metadata": {},
   "source": [
    "## 点标记"
   ]
  },
  {
   "cell_type": "code",
   "execution_count": null,
   "metadata": {},
   "outputs": [],
   "source": [
    "fig, ax = plt.subplots()\n",
    "ax.scatter(x,y,marker=\".\") # 用点\n",
    "ax.plot(x,y,marker=\"o\") # 用大点"
   ]
  },
  {
   "cell_type": "markdown",
   "metadata": {},
   "source": [
    "## 线型"
   ]
  },
  {
   "cell_type": "code",
   "execution_count": null,
   "metadata": {},
   "outputs": [],
   "source": [
    "plt.plot(x,y,linewidth=4.0)\n",
    "plt.plot(x,y,ls='solid')\n",
    "plt.plot(x,y,ls='--')\n",
    "plt.plot(x,y,'--',x**2,y**2,'-.')\n",
    "plt.setp(lines,color='r',linewidth=4.0)"
   ]
  },
  {
   "cell_type": "markdown",
   "metadata": {},
   "source": [
    "## 文字与标注"
   ]
  },
  {
   "cell_type": "code",
   "execution_count": null,
   "metadata": {},
   "outputs": [],
   "source": [
    "ax.text(1,\n",
    "        -2.1, 'Example Graph', style='italic')\n",
    "ax.annotate(\"Sine\", xy=(8, 0),\n",
    "                    xycoords='data', xytext=(10.5, 0),\n",
    "                    textcoords='data', arrowprops=dict(arrowstyle=\"->\", connectionstyle=\"arc3\"),)"
   ]
  },
  {
   "cell_type": "markdown",
   "metadata": {},
   "source": [
    "## 数学文字符号"
   ]
  },
  {
   "cell_type": "code",
   "execution_count": null,
   "metadata": {},
   "outputs": [],
   "source": [
    "plt.title(r'$sigma_i=15$', fontsize=20)"
   ]
  },
  {
   "cell_type": "markdown",
   "metadata": {},
   "source": [
    "## 范围/ 图例/ 其他"
   ]
  },
  {
   "cell_type": "markdown",
   "metadata": {},
   "source": [
    "###  座标轴范围"
   ]
  },
  {
   "cell_type": "code",
   "execution_count": null,
   "metadata": {},
   "outputs": [],
   "source": [
    "ax.margins(x=0.0,y=0.1) # Add padding to a plot\n",
    "ax.axis('equal') # 纵横比Set the aspect ratio of the plot to 1\n",
    "ax.set(xlim=[0,10.5],ylim=[-1.5,1.5]) # x-,y-轴的范围\n",
    "ax.set_xlim(0,10.5) # 另一种轴范围设定方法"
   ]
  },
  {
   "cell_type": "markdown",
   "metadata": {},
   "source": [
    "### 图例"
   ]
  },
  {
   "cell_type": "code",
   "execution_count": null,
   "metadata": {},
   "outputs": [],
   "source": [
    "ax.set(title='An Example Axes',   #设定标题, x-y-轴的标签\n",
    " ylabel='Y-Axis', xlabel='X-Axis')\n",
    "ax.legend(loc='best') # 自动选择图例放置最佳位置\n"
   ]
  },
  {
   "cell_type": "markdown",
   "metadata": {},
   "source": [
    "### 座标轴"
   ]
  },
  {
   "cell_type": "code",
   "execution_count": null,
   "metadata": {},
   "outputs": [],
   "source": [
    "ax.xaxis.set(ticks=range(1,5), #手动设定x轴标注Manually set x-ticks\n",
    "             ticklabels=[3,100,-12,\"foo\"])\n",
    ">>> ax.tick_params(axis='y', # 让y轴标注更长一些. Make y-ticks longer and go in and out\n",
    " direction='inout', length=10)"
   ]
  },
  {
   "cell_type": "markdown",
   "metadata": {},
   "source": [
    "### Subplot 间距\n"
   ]
  },
  {
   "cell_type": "code",
   "execution_count": null,
   "metadata": {},
   "outputs": [],
   "source": [
    ">>> fig3.subplots_adjust(wspace=0.5, # 调整subplots之间的间距\n",
    " hspace=0.3,\n",
    " left=0.125,\n",
    " right=0.9,\n",
    " top=0.9,\n",
    " bottom=0.1)\n",
    ">>> fig.tight_layout() # 尽量在fig区域把subplots都挤下"
   ]
  },
  {
   "cell_type": "markdown",
   "metadata": {},
   "source": [
    "### 外框"
   ]
  },
  {
   "cell_type": "code",
   "execution_count": null,
   "metadata": {},
   "outputs": [],
   "source": [
    "ax1.spines['top'].set_visible(False) # 上框不可见\n",
    "ax1.spines['bottom'].set_position(('outward',10)) # 下框线外移"
   ]
  },
  {
   "cell_type": "markdown",
   "metadata": {},
   "source": [
    "# 保存plot"
   ]
  },
  {
   "cell_type": "markdown",
   "metadata": {},
   "source": [
    "## 保存图像"
   ]
  },
  {
   "cell_type": "code",
   "execution_count": null,
   "metadata": {},
   "outputs": [],
   "source": [
    "plt.savefig('foo.png')"
   ]
  },
  {
   "cell_type": "markdown",
   "metadata": {},
   "source": [
    "## 保存透明图像"
   ]
  },
  {
   "cell_type": "code",
   "execution_count": null,
   "metadata": {},
   "outputs": [],
   "source": [
    "plt.savefig('foo.png', transparent=True)"
   ]
  },
  {
   "cell_type": "markdown",
   "metadata": {},
   "source": [
    "# 显示图像"
   ]
  },
  {
   "cell_type": "code",
   "execution_count": null,
   "metadata": {},
   "outputs": [],
   "source": [
    "plt.show()\n",
    "\n",
    "plt.cla() # 清空axis\n",
    "plt.clf() # 清空整个figure\n",
    "plt.close() # 关闭窗口"
   ]
  }
 ],
 "metadata": {
  "kernelspec": {
   "display_name": "Python 3",
   "language": "python",
   "name": "python3"
  },
  "language_info": {
   "codemirror_mode": {
    "name": "ipython",
    "version": 3
   },
   "file_extension": ".py",
   "mimetype": "text/x-python",
   "name": "python",
   "nbconvert_exporter": "python",
   "pygments_lexer": "ipython3",
   "version": "3.5.2"
  },
  "nikola": {
   "category": "",
   "date": "2018-1-20 02:30 UTC+08:00",
   "description": "",
   "link": "",
   "slug": "matplotlib-cheat-sheet",
   "tags": "cheat sheet, python",
   "title": "Matplotlib Cheat Sheet",
   "type": "text"
  },
  "toc": {
   "colors": {
    "hover_highlight": "#DAA520",
    "navigate_num": "#000000",
    "navigate_text": "#333333",
    "running_highlight": "#FF0000",
    "selected_highlight": "#FFD700",
    "sidebar_border": "#EEEEEE",
    "wrapper_background": "#FFFFFF"
   },
   "moveMenuLeft": true,
   "nav_menu": {
    "height": "92px",
    "width": "254px"
   },
   "navigate_menu": true,
   "number_sections": true,
   "sideBar": true,
   "threshold": 4,
   "toc_cell": false,
   "toc_section_display": "block",
   "toc_window_display": false,
   "widenNotebook": false
  }
 },
 "nbformat": 4,
 "nbformat_minor": 2
}
