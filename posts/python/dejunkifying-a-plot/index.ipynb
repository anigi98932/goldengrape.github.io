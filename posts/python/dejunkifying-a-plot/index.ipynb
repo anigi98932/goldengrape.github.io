{
 "cells": [
  {
   "cell_type": "markdown",
   "metadata": {},
   "source": [
    "最近正在学[Applied Plotting, Charting & Data Representation in Python](https://www.coursera.org/learn/python-plotting/home/welcome), 老师在第一周的课程中先讲了一遍统计图的审美, 其中有一段是展示如何将图中无用的部分清除, 所谓Dejunkify, 以强调显示主题. 感觉非常好. 完成第二周的作业后, 我应该是能够用matplotlib进行基本的画图了. 所以试着把这个例子重现一遍. \n",
    "\n",
    "课程中的例子来自于[Dark Horse](https://www.darkhorseanalytics.com/blog/data-looks-better-naked)\n",
    "\n",
    "> 爱德华·图夫特（Edward Tufte）在他1983年经典的著作[“量化信息的视觉显示”](http://www.humanities.ufl.edu/pdf/tufte-aesthetics_and_technique.pdf)（The Visual Display of Quantitative Information） 一书中指出：“数据墨水(Data-ink)是图像中不可抹去的核心，是为了反映数字的变化而安排的不可或缺的印迹”\n",
    "\n",
    "> Edward Tufte introduced the concept of data-ink in his 1983 classic The Visual Display of Quantitative Information. In it he states \"Data-ink is the non-erasable core of the graphic, the non-redundant ink arranged in response to variation in the numbers represented\" (emphasis mine).\n",
    "\n",
    "一个\"好\"的统计图, 应当是尽可能多的保留data ink, 尽可能少的chart junk. 这一段动画显示了如何把一个凌乱的统计图删减到只包含必要的\"Data-ink\"的过程. \n",
    "![](http://static1.squarespace.com/static/56713bf4dc5cb41142f28d1f/5671e8bf816924fc22651410/5671eae2816924fc2265189a/1450306274301/data-ink.gif)\n",
    "\n",
    "接下来我试着用matplotlib重现这个过程, 也算是参照[matplotlib cheat sheet](../cheatsheet/Matplotlib_cheat_sheet) 的一次练习. \n",
    "<!-- TEASER_END -->\n"
   ]
  },
  {
   "cell_type": "markdown",
   "metadata": {},
   "source": [
    "# 基本数据 \n",
    "\n",
    "数据很简单, 五种食物中每100g所含的热量. 以卡路里为单位: \n",
    "\n",
    "* 炸薯条: 607\n",
    "* 薯片: 542\n",
    "* 培根: 533\n",
    "* 披萨: 296\n",
    "* 热狗: 260"
   ]
  },
  {
   "cell_type": "code",
   "execution_count": 68,
   "metadata": {},
   "outputs": [
    {
     "data": {
      "text/plain": [
       "French \\n Fries    607\n",
       "Potato\\nChips      542\n",
       "Bacon              533\n",
       "Pizza              296\n",
       "Chili Dog          260\n",
       "dtype: int64"
      ]
     },
     "execution_count": 68,
     "metadata": {},
     "output_type": "execute_result"
    }
   ],
   "source": [
    "import matplotlib.pyplot as plt\n",
    "import pandas as pd\n",
    "% matplotlib inline\n",
    "\n",
    "cal=[607,542,533,296,260]\n",
    "food=[\"French \\n Fries\", \"Potato\\nChips\", \"Bacon\", \"Pizza\", \"Chili Dog\"] # 我没办法使用中文label, 至少目前是\n",
    "df= pd.Series(data=cal,index=food)\n",
    "df"
   ]
  },
  {
   "cell_type": "markdown",
   "metadata": {},
   "source": [
    "# matplotlib绘图策略\n",
    "\n",
    "之前说过[pandas的最佳实践](../pandaszhong-ji-he-de-yun-suan)是: \n",
    "1. 确定你需要的数据文件是什么名字\n",
    "1. 去stackoverflow搜数据文件名字看看教程. \n",
    "1. 如果不能满足自己的要求, 提个问题, 然后等一周. \n",
    "\n",
    "对于MatPlotLib, 我估计最佳实践是这样的: \n",
    "1. 打开[matplotlib的gallery](https://matplotlib.org/gallery/)\n",
    "1. 看看那张图长得像你想要的. \n",
    "1. 打开链接然后copy代码改改. \n",
    "\n",
    "\n"
   ]
  },
  {
   "cell_type": "markdown",
   "metadata": {},
   "source": [
    "# 基础bar图\n",
    "\n",
    "三句话, 看起来还蛮简洁的. 所以我决定先去实现最终效果. 然后逆序表现Dejunkify过程. 说实话还挺难的"
   ]
  },
  {
   "cell_type": "code",
   "execution_count": 72,
   "metadata": {},
   "outputs": [
    {
     "data": {
      "image/png": "[encoded data removed]",
      "text/plain": [
       "<matplotlib.figure.Figure at 0x119cc84e0>"
      ]
     },
     "metadata": {},
     "output_type": "display_data"
    }
   ],
   "source": [
    "fig, ax = plt.subplots()\n",
    "plt.bar(range(5),df)\n",
    "plt.show()"
   ]
  },
  {
   "cell_type": "markdown",
   "metadata": {},
   "source": [
    "# Dejunkify版本"
   ]
  },
  {
   "cell_type": "code",
   "execution_count": 234,
   "metadata": {},
   "outputs": [],
   "source": [
    "# 自动标注数字\n",
    "def autolabel(rects): \n",
    "    for rect in rects:\n",
    "        height = rect.get_height()\n",
    "        plt.text(rect.get_x()+rect.get_width()/2., \n",
    "                 height-50, \n",
    "                 int(height),\n",
    "                 color=\"w\",\n",
    "                 horizontalalignment='center'\n",
    "                )\n",
    "def autoticks(rect,ticks):\n",
    "    for rect,tick in zip(rects,ticks):\n",
    "        plt.text(rect.get_x()+rect.get_width()/2., \n",
    "                 -80, \n",
    "                 tick,\n",
    "                 horizontalalignment='center'\n",
    "                )"
   ]
  },
  {
   "cell_type": "code",
   "execution_count": 242,
   "metadata": {},
   "outputs": [
    {
     "data": {
      "image/png": "[encoded data removed]",
      "text/plain": [
       "<matplotlib.figure.Figure at 0x11a023da0>"
      ]
     },
     "metadata": {},
     "output_type": "display_data"
    }
   ],
   "source": [
    "fig, ax = plt.subplots()\n",
    "\n",
    "# 自定义plot时的参数\n",
    "colors=['#B2B2B2','#B2B2B2',\"#CD5855\",'#B2B2B2','#B2B2B2']\n",
    "spines_visible={\"top\":False,\n",
    "                  \"bottom\":False,\n",
    "                  \"right\":False,\n",
    "                  \"left\":False}\n",
    "\n",
    "# 设置外框\n",
    "for key,value in spines_visible.items():\n",
    "    ax.spines[key].set_visible(value)\n",
    "    \n",
    "    \n",
    "\n",
    "# title\n",
    "plt.title('Calories per 100g', loc='left') # 如果使用ax.set(title=...), 不知道怎么设定loc\n",
    "\n",
    "rects = plt.bar(range(5),df,width =0.5,color=colors)\n",
    "\n",
    "# ticks\n",
    "ax.xaxis.set_visible(False)\n",
    "ax.yaxis.set_visible(False)\n",
    "autoticks(rects,food)\n",
    "\n",
    "# labels \n",
    "autolabel(rects)\n",
    "plt.show()"
   ]
  },
  {
   "cell_type": "markdown",
   "metadata": {},
   "source": [
    "其实, 相对后面的来说, 这个最简洁的版本反而是最容易写的. 其中稍微有点复杂的是要直接标注数字, 在这里是使用了plt.text往上写的. \n",
    "\n",
    "当使用plt.bar绘制柱状图以后, 原来产生了一个柱子的列表, 可以用for来循环访问每个柱子的参数. 通过这种方法把每个柱子上标记上数字. \n",
    "\n",
    "另一个困难是如果把x轴上的线去掉, xticks还在的话, 会出现一个细小的竖线标记. 所以只好用标记数字的方法把xticks标记在底部了. "
   ]
  },
  {
   "cell_type": "markdown",
   "metadata": {},
   "source": [
    "# (undo) Direct Label"
   ]
  },
  {
   "cell_type": "code",
   "execution_count": 243,
   "metadata": {},
   "outputs": [
    {
     "data": {
      "image/png": "[encoded data removed]",
      "text/plain": [
       "<matplotlib.figure.Figure at 0x1198fd400>"
      ]
     },
     "metadata": {},
     "output_type": "display_data"
    }
   ],
   "source": [
    "fig, ax = plt.subplots()\n",
    "\n",
    "# 自定义plot时的参数\n",
    "colors=['#B2B2B2','#B2B2B2',\"#CD5855\",'#B2B2B2','#B2B2B2']\n",
    "spines_visible={\"top\":False,\n",
    "                  \"bottom\":False,\n",
    "                  \"right\":False,\n",
    "                  \"left\":True}\n",
    "# 设置外框\n",
    "for key,value in spines_visible.items():\n",
    "    ax.spines[key].set_visible(value)\n",
    "\n",
    "# title\n",
    "plt.title('Calories per 100g', loc='left')\n",
    "\n",
    "# Limits\n",
    "ax.set_ylim(0,700)\n",
    "\n",
    "# ticks\n",
    "ax.xaxis.set_visible(False)\n",
    "\n",
    "rects=plt.bar(range(5),df,width =0.5,color=colors)\n",
    "autoticks(rects,food)\n",
    "\n",
    "\n",
    "plt.show()"
   ]
  },
  {
   "cell_type": "markdown",
   "metadata": {},
   "source": [
    "显示y轴很容易, matplotlib把四面的框叫做spines, 可以分别设定每个spine.set_visible()是True还是False, 注意还需要指定y轴的范围: ax.set_ylim(0,700)"
   ]
  },
  {
   "cell_type": "markdown",
   "metadata": {},
   "source": [
    "# (undo) Remove Lines"
   ]
  },
  {
   "cell_type": "code",
   "execution_count": 247,
   "metadata": {},
   "outputs": [
    {
     "data": {
      "image/png": "[encoded data removed]",
      "text/plain": [
       "<matplotlib.figure.Figure at 0x11939c550>"
      ]
     },
     "metadata": {},
     "output_type": "display_data"
    }
   ],
   "source": [
    "fig, ax = plt.subplots()\n",
    "\n",
    "# 自定义plot时的参数\n",
    "colors=['#B2B2B2','#B2B2B2',\"#CD5855\",'#B2B2B2','#B2B2B2']\n",
    "spines_visible={\"top\":False,\"bottom\":True,\"right\":False,\"left\":True}\n",
    "\n",
    "# 设置外框\n",
    "for key,value in spines_visible.items():\n",
    "    ax.spines[key].set_visible(value)\n",
    "\n",
    "# title\n",
    "plt.title('Calories per 100g', loc='left')\n",
    "\n",
    "# Limits\n",
    "ax.set_ylim(0,700)\n",
    "\n",
    "# ticks\n",
    "ax.xaxis.set(ticks=range(5), ticklabels=food )\n",
    "\n",
    "# grid\n",
    "plt.grid(axis='y') # 我不知道怎么设定 zorder\n",
    "\n",
    "plt.bar(range(5),df,width =0.5,color=colors)\n",
    "plt.show()"
   ]
  },
  {
   "cell_type": "markdown",
   "metadata": {},
   "source": [
    "水平的格线叫做grid, 如果是水平竖直都要, axis=\"both\", 在[grid的说明](https://matplotlib.org/api/_as_gen/matplotlib.axes.Axes.grid.html)中, 提到可以使用zorder, 但我试过很多数值, 也没办法把水平格线放到柱子后面去. "
   ]
  },
  {
   "cell_type": "markdown",
   "metadata": {},
   "source": [
    "# (undo)Remove Shade\n",
    "\n",
    "增加阴影效果太难找了, 最后[终于找到](https://matplotlib.org/users/transforms_tutorial.html#using-offset-transforms-to-create-a-shadow-effect), \n",
    "原来是要用transforms重新画一遍! "
   ]
  },
  {
   "cell_type": "code",
   "execution_count": 256,
   "metadata": {},
   "outputs": [
    {
     "data": {
      "image/png": "[encoded data removed]",
      "text/plain": [
       "<matplotlib.figure.Figure at 0x119f7a940>"
      ]
     },
     "metadata": {},
     "output_type": "display_data"
    }
   ],
   "source": [
    "import matplotlib.patches as patches\n",
    "import matplotlib.transforms as transforms\n",
    "\n",
    "fig, ax = plt.subplots()\n",
    "\n",
    "# 自定义plot时的参数\n",
    "colors=['#B2B2B2','#B2B2B2',\"#CD5855\",'#B2B2B2','#B2B2B2']\n",
    "spines_visible={\"top\":False,\n",
    "                  \"bottom\":True,\n",
    "                  \"right\":False,\n",
    "                  \"left\":True}\n",
    "\n",
    "# 设置外框\n",
    "for key,value in spines_visible.items():\n",
    "    ax.spines[key].set_visible(value)\n",
    "\n",
    "# title\n",
    "plt.title('Calories per 100g', loc='left')\n",
    "\n",
    "# Limits\n",
    "ax.set_ylim(0,700)\n",
    "\n",
    "# ticks\n",
    "ax.xaxis.set(ticks=range(5), ticklabels=food )\n",
    "\n",
    "\n",
    "rects = plt.bar(range(5),df,width =0.5,color=colors)\n",
    "\n",
    "# Shadow Effect!!\n",
    "\n",
    "# shift the object over 2 points, and down 2 points\n",
    "dx, dy = 10/72., -4/72.\n",
    "offset = transforms.ScaledTranslation(dx, dy,\n",
    "  fig.dpi_scale_trans)\n",
    "shadow_transform = ax.transData + offset\n",
    "\n",
    "# now plot the same data with our offset transform;\n",
    "# use the zorder to make sure we are below the line\n",
    "plt.bar(range(5),df,width =0.5,color='black', alpha = 0.5,\n",
    "  transform=shadow_transform,\n",
    "  zorder=0.9*1)\n",
    "\n",
    "ax.grid(axis='y',zorder=0.1) # 我不知道怎么设定zorder\n",
    "\n",
    "plt.show()\n",
    "\n"
   ]
  },
  {
   "cell_type": "markdown",
   "metadata": {},
   "source": [
    "画阴影这件事太可怕了, 我可不想做第二遍了. 很奇怪的是与grid不同, 在画阴影的时候是可以设定zorder的"
   ]
  },
  {
   "cell_type": "markdown",
   "metadata": {},
   "source": [
    "# (undo)Remove special effect\n",
    "\n",
    "原图上是每个柱子还有个隆起的3D效果, 我直接放弃了. "
   ]
  },
  {
   "cell_type": "markdown",
   "metadata": {},
   "source": [
    "# (undo)Reduce Colors"
   ]
  },
  {
   "cell_type": "code",
   "execution_count": 254,
   "metadata": {},
   "outputs": [
    {
     "data": {
      "image/png": "[encoded data removed]",
      "text/plain": [
       "<matplotlib.figure.Figure at 0x119f1cf98>"
      ]
     },
     "metadata": {},
     "output_type": "display_data"
    }
   ],
   "source": [
    "fig, ax = plt.subplots()\n",
    "\n",
    "# 自定义plot时的参数\n",
    "colors=['#05BCFA','#05B659',\"#CD5855\",'#856DB4','#FDFF02']\n",
    "spines_visible={\"top\":False,\n",
    "                  \"bottom\":True,\n",
    "                  \"right\":False,\n",
    "                  \"left\":True}\n",
    "\n",
    "# 设置外框\n",
    "for key,value in spines_visible.items():\n",
    "    ax.spines[key].set_visible(value)\n",
    "\n",
    "# title\n",
    "plt.title('Calories per 100g', loc='left')\n",
    "\n",
    "# Limits\n",
    "ax.set_ylim(0,700)\n",
    "\n",
    "# ticks\n",
    "ax.xaxis.set(ticks=range(5), ticklabels=food )\n",
    "\n",
    "\n",
    "\n",
    "rects = plt.bar(range(5),df,width =0.5,color=colors)\n",
    "\n",
    "# Shadow Effect!!\n",
    "\n",
    "# shift the object over 2 points, and down 2 points\n",
    "dx, dy = 10/72., -4/72.\n",
    "offset = transforms.ScaledTranslation(dx, dy,\n",
    "  fig.dpi_scale_trans)\n",
    "shadow_transform = ax.transData + offset\n",
    "\n",
    "# now plot the same data with our offset transform;\n",
    "# use the zorder to make sure we are below the line\n",
    "plt.bar(range(5),df,width =0.5,color='black', alpha = 0.3,\n",
    "  transform=shadow_transform,\n",
    "  zorder=0.9*1)\n",
    "\n",
    "ax.grid(axis='y',zorder=0.1) # 我不知道怎么设定zorder\n",
    "\n",
    "plt.show()"
   ]
  },
  {
   "cell_type": "markdown",
   "metadata": {},
   "source": [
    "# (undo)Remove Borders"
   ]
  },
  {
   "cell_type": "code",
   "execution_count": 213,
   "metadata": {},
   "outputs": [
    {
     "data": {
      "image/png": "[encoded data removed]",
      "text/plain": [
       "<matplotlib.figure.Figure at 0x11a201be0>"
      ]
     },
     "metadata": {},
     "output_type": "display_data"
    }
   ],
   "source": [
    "fig, ax = plt.subplots()\n",
    "fig.set_edgecolor(\"black\")\n",
    "# 自定义plot时的参数\n",
    "colors=['#05BCFA','#05B659',\"#CD5855\",'#856DB4','#FDFF02']\n",
    "spines_visible={\"top\":True,\n",
    "                  \"bottom\":True,\n",
    "                  \"right\":True,\n",
    "                  \"left\":True}\n",
    "\n",
    "# 设置外框\n",
    "for key,value in spines_visible.items():\n",
    "    ax.spines[key].set_visible(value)\n",
    "\n",
    "# title\n",
    "plt.title('Calories per 100g', loc='left')\n",
    "\n",
    "# Limits\n",
    "ax.set_ylim(0,700)\n",
    "\n",
    "# ticks\n",
    "ax.xaxis.set(ticks=range(5), ticklabels=food )\n",
    "\n",
    "\n",
    "\n",
    "rects = plt.bar(range(5),df,width =0.5,color=colors, edgecolor=\"black\",linewidth=2)\n",
    "\n",
    "# Shadow Effect!!\n",
    "\n",
    "# shift the object over 2 points, and down 2 points\n",
    "dx, dy = 10/72., -4/72.\n",
    "offset = transforms.ScaledTranslation(dx, dy,\n",
    "  fig.dpi_scale_trans)\n",
    "shadow_transform = ax.transData + offset\n",
    "\n",
    "# now plot the same data with our offset transform;\n",
    "# use the zorder to make sure we are below the line\n",
    "plt.bar(range(5),df,width =0.5,color='black', alpha = 0.3,\n",
    "  transform=shadow_transform,\n",
    "  zorder=0.9*1)\n",
    "\n",
    "ax.grid(axis='y',zorder=0.1) # 我不知道怎么设定zorder\n",
    "\n",
    "plt.show()"
   ]
  },
  {
   "cell_type": "markdown",
   "metadata": {},
   "source": [
    "border的设定, 一般是edgecolor来做, 多个元素看起来都可以画edgecolor"
   ]
  },
  {
   "cell_type": "markdown",
   "metadata": {},
   "source": [
    "# (undo)Remove redundant labels"
   ]
  },
  {
   "cell_type": "code",
   "execution_count": 265,
   "metadata": {},
   "outputs": [
    {
     "data": {
      "image/png": "[encoded data removed]",
      "text/plain": [
       "<matplotlib.figure.Figure at 0x11a141ba8>"
      ]
     },
     "metadata": {},
     "output_type": "display_data"
    }
   ],
   "source": [
    "fig, ax = plt.subplots()\n",
    "fig.set_edgecolor(\"black\")\n",
    "# 自定义plot时的参数\n",
    "colors=['#05BCFA','#05B659',\"#CD5855\",'#856DB4','#FDFF02']\n",
    "spines_visible={\"top\":True,\n",
    "                  \"bottom\":True,\n",
    "                  \"right\":True,\n",
    "                  \"left\":True}\n",
    "\n",
    "# 设置外框\n",
    "for key,value in spines_visible.items():\n",
    "    ax.spines[key].set_visible(value)\n",
    "\n",
    "# Limits\n",
    "ax.set_ylim(0,700)\n",
    "\n",
    "# ticks\n",
    "ax.xaxis.set(ticks=range(5), ticklabels=food )\n",
    "\n",
    "\n",
    "rects = plt.bar(range(5),df,width =0.5,color=colors, edgecolor=\"black\",linewidth=2)\n",
    "\n",
    "# Shadow Effect!!\n",
    "\n",
    "# shift the object over 2 points, and down 2 points\n",
    "dx, dy = 10/72., -4/72.\n",
    "offset = transforms.ScaledTranslation(dx, dy,\n",
    "  fig.dpi_scale_trans)\n",
    "shadow_transform = ax.transData + offset\n",
    "\n",
    "# now plot the same data with our offset transform;\n",
    "# use the zorder to make sure we are below the line\n",
    "plt.bar(range(5),df,width =0.5,color='black', alpha = 0.3,\n",
    "  transform=shadow_transform,\n",
    "  zorder=0.9*1)\n",
    "\n",
    "ax.grid(axis='y',zorder=0.1) # 我不知道怎么设定zorder\n",
    "\n",
    "# labels\n",
    "ax.set(title=\"Calories per 100g for different food\",\n",
    "       xlabel=\"Type of Food\",\n",
    "       ylabel=\"Number of Calories\"\n",
    "      )\n",
    "plt.legend(rects,food, bbox_to_anchor=(1.05, 1), edgecolor=\"black\",  loc=2)\n",
    "\n",
    "plt.show()"
   ]
  },
  {
   "cell_type": "markdown",
   "metadata": {},
   "source": [
    "可以用ax.set来统一设定title, xlabel, ylable\n",
    "\n",
    "legend设定是, 如果是plt.plot画线的图, 可以在每条线上设定label, 那么legend的时候可以自动找到label的标记. 但bar图里, 大概还是要把柱子和标签分别放上. 注意legend的位置, 默认是在图片内定位的, 用loc的时候总在图里面转来转去, 要把legend放在图片外面, 需要设定它的bbox_to_anchor, 参考[legend guide](https://matplotlib.org/2.0.0/users/legend_guide.html#legend-location)"
   ]
  },
  {
   "cell_type": "markdown",
   "metadata": {},
   "source": [
    "# (undo)Remove Background Colors\n",
    "\n",
    "如此村儿的配色, 难道原作是用的MS Powerpoint?\n",
    "\n",
    "原作中还用的是图片作为底色, 我还没学会. 先用纯色好了. "
   ]
  },
  {
   "cell_type": "code",
   "execution_count": 259,
   "metadata": {},
   "outputs": [
    {
     "data": {
      "image/png": "[encoded data removed]",
      "text/plain": [
       "<matplotlib.figure.Figure at 0x11a11ad68>"
      ]
     },
     "metadata": {},
     "output_type": "display_data"
    }
   ],
   "source": [
    "fig, ax = plt.subplots(facecolor='#DDC27D')\n",
    "\n",
    "fig.set_edgecolor(\"black\")\n",
    "ax.set_facecolor(\"#BEC1C0\")\n",
    "# 自定义plot时的参数\n",
    "colors=['#05BCFA','#05B659',\"#CD5855\",'#856DB4','#FDFF02']\n",
    "spines_visible={\"top\":True,\n",
    "                  \"bottom\":True,\n",
    "                  \"right\":True,\n",
    "                  \"left\":True}\n",
    "\n",
    "# 设置外框\n",
    "for key,value in spines_visible.items():\n",
    "    ax.spines[key].set_visible(value)\n",
    "\n",
    "# Limits\n",
    "ax.set_ylim(0,700)\n",
    "\n",
    "# ticks\n",
    "ax.xaxis.set(ticks=range(5), ticklabels=food )\n",
    "\n",
    "\n",
    "rects = plt.bar(range(5),df,width =0.5,color=colors, edgecolor=\"black\",linewidth=2,\n",
    "               # backgroundcolor=\"#BEC1C0\"\n",
    "               )\n",
    "\n",
    "# Shadow Effect!!\n",
    "\n",
    "# shift the object over 2 points, and down 2 points\n",
    "dx, dy = 10/72., -4/72.\n",
    "offset = transforms.ScaledTranslation(dx, dy,\n",
    "  fig.dpi_scale_trans)\n",
    "shadow_transform = ax.transData + offset\n",
    "\n",
    "# now plot the same data with our offset transform;\n",
    "# use the zorder to make sure we are below the line\n",
    "plt.bar(range(5),df,width =0.5,color='black', alpha = 0.3,\n",
    "  transform=shadow_transform,\n",
    "  zorder=0.9*1)\n",
    "\n",
    "ax.grid(axis='y',zorder=0.1) # 我不知道怎么设定zorder\n",
    "\n",
    "# labels\n",
    "ax.set(title=\"Calories per 100g for different food\",\n",
    "       xlabel=\"Type of Food\",\n",
    "       ylabel=\"Number of Calories\"\n",
    "      )\n",
    "ax.legend(rects,food,facecolor='#DDC27D',\n",
    "          edgecolor=\"black\",\n",
    "          bbox_to_anchor=(1.05, 1), loc=2)\n",
    "\n",
    "plt.show()"
   ]
  },
  {
   "cell_type": "markdown",
   "metadata": {},
   "source": [
    "facecolor是一个常用的设定名称, 在fig,ax,legend里面都是用的facecolor来设定颜色. 在matplotlib 2.0以后的版本里, 已经没有bgcolor这样的设定了. \n",
    "\n",
    "注意bar图里面的背景色, 并不是在plt.bar里设定facecolor为灰色, 而是设定在ax里. 不清楚这样的理由何在. \n",
    "\n",
    "总之, 要实现一个看起来酷似MS PowerPoint制作的bar图还是见挺费劲的事情. 就算是为了自己, 也得宣传\"Less is More\""
   ]
  },
  {
   "cell_type": "markdown",
   "metadata": {},
   "source": [
    "# 补充: 如何选取颜色\n",
    "\n",
    "最后要补充一下, 为了原样还原配色, 我用了mac预览中的取色工具, 找到原作中颜色的十六进制代码. \n",
    "![](https://i.loli.net/2018/01/21/5a6369bca5076.png)"
   ]
  },
  {
   "cell_type": "markdown",
   "metadata": {},
   "source": [
    "# 综上\n",
    "\n",
    "结论是如果做乙方的话, 一定要花足够长的时间给甲方洗脑, 洗到less is more形成本能. 如果你省掉了什么时间, 一定会乘10花到工作时间上. \n",
    "\n",
    "因为, 要做一张难看的图实在是需要写太多代码了!"
   ]
  },
  {
   "cell_type": "code",
   "execution_count": null,
   "metadata": {},
   "outputs": [],
   "source": []
  }
 ],
 "metadata": {
  "kernelspec": {
   "display_name": "Python 3",
   "language": "python",
   "name": "python3"
  },
  "language_info": {
   "codemirror_mode": {
    "name": "ipython",
    "version": 3
   },
   "file_extension": ".py",
   "mimetype": "text/x-python",
   "name": "python",
   "nbconvert_exporter": "python",
   "pygments_lexer": "ipython3",
   "version": "3.5.2"
  },
  "nikola": {
   "category": "",
   "date": "2018-1-20 16:30 UTC+08:00",
   "description": "",
   "link": "",
   "slug": "dejunkifying-a-plot",
   "tags": "现代眼科医生知识扩展包, python",
   "title": "统计图清理",
   "type": "text"
  },
  "toc": {
   "colors": {
    "hover_highlight": "#DAA520",
    "navigate_num": "#000000",
    "navigate_text": "#333333",
    "running_highlight": "#FF0000",
    "selected_highlight": "#FFD700",
    "sidebar_border": "#EEEEEE",
    "wrapper_background": "#FFFFFF"
   },
   "moveMenuLeft": true,
   "nav_menu": {
    "height": "92px",
    "width": "254px"
   },
   "navigate_menu": true,
   "number_sections": true,
   "sideBar": true,
   "threshold": 4,
   "toc_cell": false,
   "toc_section_display": "block",
   "toc_window_display": false,
   "widenNotebook": false
  }
 },
 "nbformat": 4,
 "nbformat_minor": 2
}
