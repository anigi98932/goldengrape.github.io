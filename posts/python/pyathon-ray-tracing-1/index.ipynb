{
 "cells": [
  {
   "cell_type": "markdown",
   "metadata": {},
   "source": [
    "# 直线与平面的交点\n",
    "\n",
    "在Ray tracing的时候，如果光线最终打到一个平面屏幕上，就需要知道每个光线的落点。直线和平面的交点求解比较简单，先用来练手热身。\n",
    "\n",
    "<!-- TEASER_END -->"
   ]
  },
  {
   "cell_type": "markdown",
   "metadata": {},
   "source": [
    "![](/images/ray-tracing-1.1.png)\n",
    "\n",
    "## 直线的表示\n",
    "一条直线上任意一点P可以用直线上已知一点PLine，和直线方向的向量NLine来表示，写出参数方程就是，注意啊，这里的PLine,NLine都是矢量，但t是标量, 有如下(1)式\n",
    "$$\n",
    "P_{(t)}= P_{Line}+t \\times N_{Line}\n",
    "$$\n",
    "\n",
    "## 平面的表示\n",
    "一个平面，可以用平面上已知一点PPlane，和垂直于这个平面的法向量NPlane来表示。\n",
    "\n",
    "## 用参数方程求交点\n",
    "假设现在直线与平面交点是P点，那么可以画一个从平面上已知点PPlane到P点的向量，比如叫V=P-PPlane\n",
    "\n",
    "代入上面（1）式\n",
    "得到(2)式\n",
    "$$ \n",
    "V=P_t-P_{Plane}\n",
    "\\\\\n",
    "V=(P_{Line}+t \\times N_{Line}) -P_{Plane}\n",
    "$$\n",
    "\n",
    "显然V矢量是在平面内的，那么“垂直于这个平面的法向量NPlane”当然也垂直于V矢量，NPlane⊥V，这件事情在数学上有明确的表示，就是NPlane矢量和V矢量的dot product是等于0的。\n",
    "$$\n",
    "dot(V,N_{Plane})=0\n",
    "$$\n",
    "\n",
    "把V替换成(2)式\n",
    "\n",
    "$$\n",
    "dot(P_{Line}+t \\times N_{Line}-P_{Plane}, N_{Plane})=0\n",
    "$$\n",
    "\n",
    "dot product是满足分配律的，于是有\n",
    "$$\n",
    "dot(P_{Line}-P_{Plane}, N_{Plane}) + dot( t \\times N_{Line}, N{Plane})=0\n",
    "$$\n",
    "\n",
    "其中t是标量，可以提取到dot product外面来\n",
    "$$\n",
    "dot(P_{Line}-P_{Plane}, N_{Plane}) + t \\times dot( N_{Line}, N{Plane})==0\n",
    "$$\n",
    "化简一下：\n",
    "\n",
    "$$\n",
    "t= - \\frac{dot(P_{Line}-P_{Plane}, N_{Plane})}{dot( N_{Line}, N{Plane})}\n",
    "$$\n",
    "里面再调换一下位置，把难看的负号去掉。铛铛：\n",
    "\n",
    "$$\n",
    "t=\\frac{dot(P_{Plane}-P_{Line}, N_{Plane})}{dot( N_{Line}, N{Plane})}\n",
    "$$\n",
    "这就是程序里算出t的方法了。有t的值，只要代入(1)式就可以求出交点P了。"
   ]
  },
  {
   "cell_type": "code",
   "execution_count": 26,
   "metadata": {
    "ExecuteTime": {
     "end_time": "2018-01-15T15:35:22.522680Z",
     "start_time": "2018-01-15T15:35:22.507355Z"
    },
    "collapsed": true
   },
   "outputs": [],
   "source": [
    "import numpy as np\n",
    "def lineCrossPlane(PLine, NLine,PPlane,NPlane):\n",
    "    '''\n",
    "    直线以起点PLine和方向向量NLine表示\n",
    "    平面以平面上一点PPlane和法向量NPlane表示\n",
    "    求其交点P\n",
    "    直线有多组，平面仅一个\n",
    "    '''\n",
    "    tup=np.dot((PPlane-PLine),NPlane)\n",
    "    tdown=np.dot(NLine,NPlane)\n",
    "    t=tup/tdown\n",
    "    t=np.expand_dims(t,axis=1) # 为了满足与t与NLine的乘法, 需要将t扩展一维\n",
    "    P=PLine+t*NLine\n",
    "    return P"
   ]
  },
  {
   "cell_type": "code",
   "execution_count": 27,
   "metadata": {
    "ExecuteTime": {
     "end_time": "2018-01-15T15:35:30.706543Z",
     "start_time": "2018-01-15T15:35:30.691706Z"
    }
   },
   "outputs": [
    {
     "name": "stdout",
     "output_type": "stream",
     "text": [
      "[[ 5.  0.  0.]\n",
      " [ 5.  1.  2.]]\n"
     ]
    }
   ],
   "source": [
    "# 测试结果: \n",
    "if __name__==\"__main__\":\n",
    "    pline=np.array([[0,0,0],[0,1,2]])\n",
    "    nline=np.array([[1,0,0],[1,0,0]])\n",
    "    pplane=np.array([5,0,0])\n",
    "    nplane=np.array([1,0,0])\n",
    "    print(lineCrossPlane(pline,nline,pplane,nplane))"
   ]
  },
  {
   "cell_type": "code",
   "execution_count": null,
   "metadata": {
    "collapsed": true
   },
   "outputs": [],
   "source": []
  }
 ],
 "metadata": {
  "kernelspec": {
   "display_name": "Python 3",
   "language": "python",
   "name": "python3"
  },
  "language_info": {
   "codemirror_mode": {
    "name": "ipython",
    "version": 3
   },
   "file_extension": ".py",
   "mimetype": "text/x-python",
   "name": "python",
   "nbconvert_exporter": "python",
   "pygments_lexer": "ipython3",
   "version": "3.5.2"
  },
  "nikola": {
   "category": "",
   "date": "2018-1-15 23:30 UTC+08:00",
   "description": "",
   "link": "",
   "slug": "pyathon-ray-tracing-1",
   "tags": "现代眼科医生知识扩展包, python",
   "title": "如何写一个球面Ray tracing程序(1)",
   "type": "text"
  },
  "toc": {
   "colors": {
    "hover_highlight": "#DAA520",
    "navigate_num": "#000000",
    "navigate_text": "#333333",
    "running_highlight": "#FF0000",
    "selected_highlight": "#FFD700",
    "sidebar_border": "#EEEEEE",
    "wrapper_background": "#FFFFFF"
   },
   "moveMenuLeft": true,
   "nav_menu": {
    "height": "92px",
    "width": "254px"
   },
   "navigate_menu": true,
   "number_sections": true,
   "sideBar": true,
   "threshold": 4,
   "toc_cell": false,
   "toc_section_display": "block",
   "toc_window_display": false,
   "widenNotebook": false
  }
 },
 "nbformat": 4,
 "nbformat_minor": 2
}
