{
 "cells": [
  {
   "cell_type": "code",
   "execution_count": null,
   "metadata": {},
   "outputs": [],
   "source": []
  }
 ],
 "metadata": {
  "kernelspec": {
   "display_name": "Python 3",
   "language": "python",
   "name": "python3"
  },
  "language_info": {
   "codemirror_mode": {
    "name": "ipython",
    "version": 3
   },
   "file_extension": ".py",
   "mimetype": "text/x-python",
   "name": "python",
   "nbconvert_exporter": "python",
   "pygments_lexer": "ipython3",
   "version": "3.6.8"
  },
  "nikola": {
   "category": "",
   "date": "2019-10-13 15:00 UTC+08:00",
   "description": "",
   "link": "",
   "slug": "Derivation-of-calculation-formula-of-intraocular-lens-2",
   "tags": "ophthalmology",
   "title": "人工晶体度数计算公式推导(2)",
   "type": "text"
  }
 },
 "nbformat": 4,
 "nbformat_minor": 4
}
