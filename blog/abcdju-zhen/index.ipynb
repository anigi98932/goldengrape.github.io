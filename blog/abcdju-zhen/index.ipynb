{
 "cells": [
  {
   "cell_type": "markdown",
   "metadata": {},
   "source": [
    "# 光线传输矩阵\n",
    "\n",
    "这是一次sympy的小练习. \n",
    "\n",
    "光线传输矩阵又称做[ABCD矩阵](https://en.wikipedia.org/wiki/Ray_transfer_matrix_analysis) 用来描述近轴光线的传播过程. \n",
    "\n",
    "![](https://upload.wikimedia.org/wikipedia/commons/thumb/5/5e/RayTransferMatrixDefinitions.svg/600px-RayTransferMatrixDefinitions.svg.png)\n",
    "\n",
    "光线穿过一个光学系统的过程可以用一个2x2的矩阵来表示, 如果: \n",
    "* 入射光线距离光轴是x1, 角度是 θ1,  \n",
    "* 出射光线距离光轴是x2, 角度是 θ2,\n",
    "\n",
    "那么: \n",
    "$$\n",
    "\\begin{bmatrix}x_2\\\\ \\theta_2 \\end{bmatrix} = \\begin{bmatrix}A & B \\\\C & D \\end{bmatrix} \\begin{bmatrix}x_1\\\\ \\theta_1 \\end{bmatrix}\n",
    "$$\n",
    "\n",
    "对于不同的光学元件, ABCD的取值不同. \n",
    "\n",
    "下面准备使用python的符号运算库sympy, 进行光路的ABCD矩阵分析. 试图建立一个简化的眼球光路追迹模型. \n",
    "<!-- TEASER_END -->"
   ]
  },
  {
   "cell_type": "markdown",
   "metadata": {},
   "source": [
    "# Sympy基本\n",
    "\n",
    "sympy是python库, 用于符号计算, 轻量级, 不依赖于其他库. "
   ]
  },
  {
   "cell_type": "code",
   "execution_count": 1,
   "metadata": {
    "ExecuteTime": {
     "end_time": "2017-12-21T17:20:01.559071Z",
     "start_time": "2017-12-21T17:20:01.114522Z"
    }
   },
   "outputs": [],
   "source": [
    "from sympy import *"
   ]
  },
  {
   "cell_type": "markdown",
   "metadata": {},
   "source": [
    "# ABCD Matrix\n",
    "\n",
    "内置上常用的参数字典, 其实最常用的也就是在自由空间内传播, 和在球面上折射, 而这两者可以合并成在球面上折射然后再传播一段距离. \n",
    "\n",
    "* 在自由空间传播距离为d的矩阵是: \n",
    "$$\n",
    "free\\space space\\space matrix=\\begin{bmatrix} 1 & d \\\\ 0 & 1 \\end{bmatrix}\n",
    "$$\n",
    "* 在球面上折射的矩阵, 如果从n1折射率介质经过半径为R的球面, 折射到n2折射率介质: \n",
    "$$\n",
    "curved\\space interface\\space matrix=\\begin{bmatrix} 1 & 0 \\\\ \\frac{(n_1-n_2)}{R} & \\frac{n_1}{n_2} \\end{bmatrix}\n",
    "$$\n",
    "* 两者合并是相乘的关系, 注意乘法的顺序, 从右至左应当先经过曲面, 再自由传播: \n",
    "\n",
    "$$\n",
    "pass\\space curved\\space interface\\space  matrix=\n",
    "\\begin{bmatrix} 1 & d \\\\ 0 & 1 \\end{bmatrix}\n",
    "\\begin{bmatrix} 1 & 0 \\\\ \\frac{(n_1-n_2)}{R} & \\frac{n_1}{n_2} \\end{bmatrix}\n",
    "$$\n",
    "\n"
   ]
  },
  {
   "cell_type": "code",
   "execution_count": 2,
   "metadata": {
    "ExecuteTime": {
     "end_time": "2017-12-21T17:20:01.636463Z",
     "start_time": "2017-12-21T17:20:01.566879Z"
    },
    "collapsed": true
   },
   "outputs": [],
   "source": [
    "def ABCD(dictname):\n",
    "    d,n1,n2,R,f,p=symbols('d n1 n2 R f p')\n",
    "    abcd_dict={\n",
    "        'free space':         [1, d, 0, 1],\n",
    "        'flat interface':     [1, 0, 0, n1/n2],\n",
    "        'curved interface':   [1, 0, (n1-n2)/R, n1/n2],\n",
    "        'curved mirror':      [1, 0, -2/R, 1],\n",
    "        'Thin lens':          [1, 0, -1/f, 1],\n",
    "        'Thin lens in power': [1, 0, p, 1],\n",
    "    }\n",
    "    a,b,c,d=abcd_dict[dictname]\n",
    "    return Matrix([[a,b],[c,d]])\n",
    "\n",
    "def free_space(d_inspace):\n",
    "    d = symbols('d')\n",
    "    return ABCD('free space').subs(d,d_inspace)\n",
    "def curved_interface(na,nb,Rx):\n",
    "    n1,n2,R=symbols('n1 n2 R')\n",
    "    return ABCD('curved interface').subs([(n1,na),(n2,nb),(R,Rx)])\n",
    "def pass_curved_interface(surface_parameters):\n",
    "    n_from,n_to,R,p_from, p_to=surface_parameters\n",
    "    transfer_matrix =free_space(p_to-p_from) * curved_interface(n_from,n_to,R)\n",
    "    return transfer_matrix"
   ]
  },
  {
   "cell_type": "markdown",
   "metadata": {},
   "source": [
    "# 基础人眼模型\n",
    "\n",
    "## The Gullstrand Schematic Eye\n",
    "数据来自: AAO 2014版 Basic and Clinical Science Course (BCSC) Section 3: Clinical Optics \n",
    "第75页\n",
    "\n",
    "* 折射率:\n",
    "``` python\n",
    "n_air: [1, 1]\n",
    "n_cornea: [1.376, 1.376]\n",
    "n_humor: [1.336,1.336]\n",
    "n_vitreous: [1.336,1.336]\n",
    "n_lens:[1.386,1.386]\n",
    "n_core_lens:[1.406,1.406]\n",
    "```\n",
    "* 顶点位置: \n",
    "``` python\n",
    "p_cornea_Anterior: [0,0]\n",
    "p_cornea_Posterior: [0.5,0.5]\n",
    "p_lens_Anterior: [3.6, 3.2]\n",
    "p_core_lens_Anterior: [4.146, 3.8725]\n",
    "p_core_lens_Posterior: [6.565, 6.5275]\n",
    "p_lens_Posterior: [7.2,7.2]\n",
    "p_retina: [24.4, 24.4]\n",
    "```\n",
    "\n",
    "* 曲率半径: \n",
    "``` python\n",
    "R_cornea_Anterior: [7.7, 7.7]\n",
    "R_cornea_Posterior: [6.8, 6.8]\n",
    "R_lens_Anterior: [10, 5.33]\n",
    "R_core_lens_Anterior: [7.911, 2.655]\n",
    "R_core_lens_Posterior: [-5.76, -2.655]\n",
    "R_lens_Posterior: [-6.0, -5.33]\n",
    "```\n",
    "\n",
    "\n",
    "\n"
   ]
  },
  {
   "cell_type": "code",
   "execution_count": 3,
   "metadata": {
    "ExecuteTime": {
     "end_time": "2017-12-21T17:20:01.713898Z",
     "start_time": "2017-12-21T17:20:01.638477Z"
    }
   },
   "outputs": [],
   "source": [
    "def Gullstrand_Schematic_Eye_Tranfer_Matrix():\n",
    "    \n",
    "    # 需要定义成符号\n",
    "    n_air, n_cornea,n_humor, n_vitreous, n_lens, n_core_lens = symbols(\n",
    "    'n_air n_cornea n_humor n_vitreous n_lens n_core_lens')\n",
    "    p_cornea_Anterior,p_cornea_Posterior,p_lens_Anterior,p_core_lens_Anterior,p_core_lens_Posterior,p_lens_Posterior,p_retina=symbols(\n",
    "    'p_cornea_Anterior p_cornea_Posterior p_lens_Anterior p_core_lens_Anterior p_core_lens_Posterior p_lens_Posterior p_retina')\n",
    "    R_cornea_Anterior,R_cornea_Posterior,R_lens_Anterior,R_core_lens_Anterior,R_core_lens_Posterior,R_lens_Posterior=symbols(\n",
    "    'R_cornea_Anterior R_cornea_Posterior R_lens_Anterior R_core_lens_Anterior R_core_lens_Posterior R_lens_Posterior')\n",
    "    \n",
    "    # 对各个曲面的参数定义: 入射介质折射率, 出射介质折射率, 曲率半径, 本曲面顶点位置, 下一个曲面顶点位置\n",
    "    surface={\n",
    "    \"cornea_Anterior\": [n_air,n_cornea,R_cornea_Anterior,p_cornea_Anterior, p_cornea_Posterior],\n",
    "    \"cornea_Posterior\":[n_cornea,n_humor,R_cornea_Posterior,p_cornea_Posterior,p_lens_Anterior],\n",
    "    \"lens_Anterior\":[n_humor,n_lens,R_lens_Anterior,p_lens_Anterior,p_core_lens_Anterior],\n",
    "    \"core_lens_Anterior\":[n_lens,n_core_lens,R_core_lens_Anterior,p_core_lens_Anterior, p_core_lens_Posterior],\n",
    "    \"core_lens_Posterior\":[n_core_lens,n_lens,R_core_lens_Posterior,p_core_lens_Posterior,p_lens_Posterior],\n",
    "    \"lens_Posterior\":[n_lens,n_vitreous,R_lens_Posterior,p_lens_Posterior,p_retina],\n",
    "    \"retina\":[n_vitreous,n_vitreous,1,p_retina,p_retina]\n",
    "    }\n",
    "    \n",
    "    # 曲面的顺序\n",
    "    surface_seq=[\"cornea_Anterior\",\"cornea_Posterior\",\"lens_Anterior\",\"core_lens_Anterior\",\n",
    "                \"core_lens_Posterior\",\"lens_Posterior\",\"retina\"]\n",
    "    \n",
    "    # 连乘\n",
    "    eye_transfer_matrix= eye(2) # identity matrix\n",
    "    for s in surface_seq:\n",
    "        m = pass_curved_interface(surface[s])\n",
    "        eye_transfer_matrix= m * eye_transfer_matrix\n",
    "    \n",
    "    return eye_transfer_matrix\n"
   ]
  },
  {
   "cell_type": "markdown",
   "metadata": {},
   "source": [
    "## Gullstrand_Schematic_Eye具体参数\n",
    "\n",
    "每个项目有两个参数, 前者是调节放松状态, 后者是最大调节状态"
   ]
  },
  {
   "cell_type": "code",
   "execution_count": 4,
   "metadata": {
    "ExecuteTime": {
     "end_time": "2017-12-21T17:20:01.751236Z",
     "start_time": "2017-12-21T17:20:01.716007Z"
    }
   },
   "outputs": [],
   "source": [
    "Gullstrand_Schematic_Eye_parameters={\n",
    "    \"n_air\": [1, 1],\n",
    "    \"n_cornea\": [1.376, 1.376],\n",
    "    \"n_humor\": [1.336,1.336],\n",
    "    \"n_vitreous\": [1.336,1.336],\n",
    "    \"n_lens\":[1.386,1.386],\n",
    "    \"n_core_lens\":[1.406,1.406],\n",
    "    \"p_cornea_Anterior\": [0,0],\n",
    "    \"p_cornea_Posterior\": [0.5,0.5],\n",
    "    \"p_lens_Anterior\": [3.6, 3.2],\n",
    "    \"p_core_lens_Anterior\": [4.146, 3.8725],\n",
    "    \"p_core_lens_Posterior\": [6.565, 6.5275],\n",
    "    \"p_lens_Posterior\": [7.2,7.2],\n",
    "    \"p_retina\": [24.4, 24.4],\n",
    "    \"R_cornea_Anterior\": [7.7, 7.7],\n",
    "    \"R_cornea_Posterior\": [6.8, 6.8],\n",
    "    \"R_lens_Anterior\": [10, 5.33],\n",
    "    \"R_core_lens_Anterior\": [7.911, 2.655],\n",
    "    \"R_core_lens_Posterior\": [-5.76, -2.655],\n",
    "    \"R_lens_Posterior\": [-6.0, -5.33],\n",
    "}"
   ]
  },
  {
   "cell_type": "markdown",
   "metadata": {},
   "source": [
    "## 调节状态\n",
    "假定调节状态是各个参数的线性变化"
   ]
  },
  {
   "cell_type": "code",
   "execution_count": 5,
   "metadata": {
    "ExecuteTime": {
     "end_time": "2017-12-21T17:20:01.762416Z",
     "start_time": "2017-12-21T17:20:01.753758Z"
    }
   },
   "outputs": [],
   "source": [
    "def Accommodation_state(persentage):\n",
    "    state={k:v[0]+persentage*(v[1]-v[0])\n",
    "        for (k,v) in \n",
    "        zip(Gullstrand_Schematic_Eye_parameters.keys(),\n",
    "            Gullstrand_Schematic_Eye_parameters.values())}\n",
    "    return state"
   ]
  },
  {
   "cell_type": "markdown",
   "metadata": {},
   "source": [
    "## 代入参数"
   ]
  },
  {
   "cell_type": "code",
   "execution_count": 6,
   "metadata": {
    "ExecuteTime": {
     "end_time": "2017-12-21T17:20:01.785350Z",
     "start_time": "2017-12-21T17:20:01.765052Z"
    },
    "collapsed": true
   },
   "outputs": [],
   "source": [
    "def Gullstrand_Schematic_Eye(eye_parameters):\n",
    "    eye_matrix=Gullstrand_Schematic_Eye_Tranfer_Matrix()\n",
    "    subslist=[(k,eye_parameters[k]) for k in eye_parameters.keys()]\n",
    "    eye_matrix=eye_matrix.subs(subslist)\n",
    "    return eye_matrix"
   ]
  },
  {
   "cell_type": "markdown",
   "metadata": {},
   "source": [
    "## 测试\n",
    "\n",
    "假定调节状态从0到1, 以0.2变化, 其中调节状态=0是调节放松, 调节状态=1是最大调节状态. \n",
    "\n",
    "入射光从光轴旁0.1mm,平行于光轴入射. "
   ]
  },
  {
   "cell_type": "code",
   "execution_count": 7,
   "metadata": {
    "ExecuteTime": {
     "end_time": "2017-12-21T17:20:08.683925Z",
     "start_time": "2017-12-21T17:20:01.788125Z"
    }
   },
   "outputs": [
    {
     "name": "stdout",
     "output_type": "stream",
     "text": [
      "视网膜上光点距离光轴的距离是: -0.0354462798252967\n",
      "入射到视网膜上的角度是: -0.00590726237391153\n",
      "\n",
      "视网膜上光点距离光轴的距离是: -0.0385011271955388\n",
      "入射到视网膜上的角度是: -0.00606136637761817\n",
      "\n",
      "视网膜上光点距离光轴的距离是: -0.0426218520656303\n",
      "入射到视网膜上的角度是: -0.00626820687627664\n",
      "\n",
      "视网膜上光点距离光轴的距离是: -0.0485947264264839\n",
      "入射到视网膜上的角度是: -0.00656657870082344\n",
      "\n",
      "视网膜上光点距离光轴的距离是: -0.0583915837265135\n",
      "入射到视网膜上的角度是: -0.00705352767232732\n",
      "\n"
     ]
    }
   ],
   "source": [
    "import numpy as np\n",
    "input_light=Matrix([0.1,0])\n",
    "for Accommodation in np.linspace(0,1,5):\n",
    "    eye_parameters=Accommodation_state(Accommodation)\n",
    "    eye_matrix=Gullstrand_Schematic_Eye(eye_parameters)\n",
    "    output_light=eye_matrix*input_light\n",
    "    print(\"视网膜上光点距离光轴的距离是: {0}\\n入射到视网膜上的角度是: {1}\\n\".format(output_light[0],output_light[1]))"
   ]
  },
  {
   "cell_type": "markdown",
   "metadata": {},
   "source": [
    "## 测试求解某个参数\n",
    "\n",
    "将各个参数都先赋值, 然后取出要求解的x, 将其设定为symbol, 指定入射光线和出射光线参数后, 就可以求解了. \n",
    "由于是使用的符号运算, 所以可以使用solve命令进行求解. "
   ]
  },
  {
   "cell_type": "code",
   "execution_count": 8,
   "metadata": {
    "ExecuteTime": {
     "end_time": "2017-12-21T17:20:10.149749Z",
     "start_time": "2017-12-21T17:20:08.686306Z"
    }
   },
   "outputs": [
    {
     "data": {
      "text/plain": [
       "[18.3995419905777]"
      ]
     },
     "execution_count": 8,
     "metadata": {},
     "output_type": "execute_result"
    }
   ],
   "source": [
    "eye_parameters=Accommodation_state(0)\n",
    "x=\"p_retina\"\n",
    "eye_parameters[x]=symbols(x)\n",
    "eye_matrix=Gullstrand_Schematic_Eye(eye_parameters)\n",
    "\n",
    "input_light=Matrix([0.001,0])\n",
    "output_light=eye_matrix*input_light\n",
    "\n",
    "solve(output_light[0],symbols(x))\n",
    "\n"
   ]
  },
  {
   "cell_type": "markdown",
   "metadata": {},
   "source": [
    "呵呵, 好尴尬, 貌似哪里错了"
   ]
  },
  {
   "cell_type": "code",
   "execution_count": null,
   "metadata": {
    "collapsed": true
   },
   "outputs": [],
   "source": []
  }
 ],
 "metadata": {
  "kernelspec": {
   "display_name": "Python 3",
   "language": "python",
   "name": "python3"
  },
  "language_info": {
   "codemirror_mode": {
    "name": "ipython",
    "version": 3
   },
   "file_extension": ".py",
   "mimetype": "text/x-python",
   "name": "python",
   "nbconvert_exporter": "python",
   "pygments_lexer": "ipython3",
   "version": "3.5.2"
  },
  "nikola": {
   "category": "",
   "date": "2017-12-21 21:07:03 UTC+08:00",
   "description": "",
   "link": "",
   "slug": "abcdju-zhen",
   "tags": "python",
   "title": "ABCD矩阵",
   "type": "text"
  },
  "toc": {
   "colors": {
    "hover_highlight": "#DAA520",
    "navigate_num": "#000000",
    "navigate_text": "#333333",
    "running_highlight": "#FF0000",
    "selected_highlight": "#FFD700",
    "sidebar_border": "#EEEEEE",
    "wrapper_background": "#FFFFFF"
   },
   "moveMenuLeft": true,
   "nav_menu": {
    "height": "92px",
    "width": "254px"
   },
   "navigate_menu": true,
   "number_sections": true,
   "sideBar": true,
   "threshold": 4,
   "toc_cell": false,
   "toc_section_display": "block",
   "toc_window_display": false,
   "widenNotebook": false
  }
 },
 "nbformat": 4,
 "nbformat_minor": 2
}
