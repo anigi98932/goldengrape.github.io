{
 "cells": [
  {
   "cell_type": "code",
   "execution_count": 1,
   "metadata": {},
   "outputs": [],
   "source": [
    "from sympy import *"
   ]
  },
  {
   "cell_type": "markdown",
   "metadata": {},
   "source": [
    "* symbols(字符串), 字符串里面是符号, 注意用空格隔开\n",
    "* expr.subs(字典), 替换, 相当于mathematica里面的expr/.{x->a}\n",
    "* Matrix(list), 把一个list转换成矩阵, 向量也用这个表示. \n",
    "* solve(expr,x), 求解expr==0时, x的解\n",
    "* simplify(expr), 化简表达式"
   ]
  },
  {
   "cell_type": "code",
   "execution_count": 3,
   "metadata": {},
   "outputs": [],
   "source": [
    "a0,a1,a2,a3,an,an_m1,an_m2,x=symbols('a0 a1 a2 a3 an an_m1 an_m2 x')\n",
    "Sn,Sn_m1,Sn_m2=symbols('Sn,Sn_m1,Sn_m2')"
   ]
  },
  {
   "cell_type": "code",
   "execution_count": null,
   "metadata": {},
   "outputs": [],
   "source": [
    "Gn=a0*x^0+a1*x1+Sn\n"
   ]
  }
 ],
 "metadata": {
  "kernelspec": {
   "display_name": "Python 3",
   "language": "python",
   "name": "python3"
  },
  "language_info": {
   "codemirror_mode": {
    "name": "ipython",
    "version": 3
   },
   "file_extension": ".py",
   "mimetype": "text/x-python",
   "name": "python",
   "nbconvert_exporter": "python",
   "pygments_lexer": "ipython3",
   "version": "3.5.2"
  }
 },
 "nbformat": 4,
 "nbformat_minor": 2
}
