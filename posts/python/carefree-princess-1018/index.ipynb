{
 "cells": [
  {
   "cell_type": "markdown",
   "metadata": {},
   "source": [
    "现在每天早上早起, 先做一道[无忧公主的数学时间](https://mp.weixin.qq.com/s/kyWUQoWPPokr4ITg4G3fwA)里面的数学题, 提神醒脑. \n",
    "\n",
    "今天的题目是这样的:\n",
    "\n",
    ">f(1)=f(2)=1\n",
    "\n",
    ">f(n)=f(n-1)-f(n-2)+n\n",
    "\n",
    ">求f(2018)\n",
    "\n",
    "解法大概是找规律什么的吧, 中间会出现f(n-1)=f(n-2)的情况, 然后有一定的循环.\n",
    "\n",
    "但是, 怎么能这么轻易使用自己手算呢? 一定要暴力编程解决才好.\n"
   ]
  },
  {
   "cell_type": "markdown",
   "metadata": {},
   "source": [
    "随手写个递归:"
   ]
  },
  {
   "cell_type": "code",
   "execution_count": 1,
   "metadata": {},
   "outputs": [
    {
     "name": "stdout",
     "output_type": "stream",
     "text": [
      "1 1\n",
      "2 1\n",
      "3 3\n",
      "4 6\n",
      "5 8\n",
      "6 8\n",
      "7 7\n",
      "8 7\n",
      "9 9\n",
      "10 12\n"
     ]
    }
   ],
   "source": [
    "def f(n):\n",
    "    if n<=2:\n",
    "        return 1\n",
    "    else:\n",
    "        return f(n-1)-f(n-2)+n\n",
    "N=10\n",
    "for i in range(1,N+1):\n",
    "    print(i, f(i))"
   ]
  },
  {
   "cell_type": "markdown",
   "metadata": {},
   "source": [
    "但没有使用尾递归的话, 计算f(2018)肯定是要死机的. 然后, 我**忘记怎么写尾递归了**\n",
    "<!-- TEASER_END -->"
   ]
  },
  {
   "cell_type": "markdown",
   "metadata": {},
   "source": [
    "第二招, 母函数\n",
    "\n",
    "要用上母函数, 里面不能有个n这样的变量. 应该消掉. 所以把f(n-1)=f(n-2)-f(n-3)+n-1代入,\n",
    "```\n",
    "f(n)=f(n-2)-f(n-3)+n-1 -f(n-2)+n\n",
    "f(n)=-f(n-3)+2n-1\n",
    "```\n",
    "再消掉n, 得到:\n",
    "$$\n",
    "f(n)=2 f(n-1)-2 f(n-2)+f(n-3)+1\n",
    "$$"
   ]
  },
  {
   "cell_type": "markdown",
   "metadata": {},
   "source": [
    "然后, 我忘记母函数如何展开了, 要用泰勒展开之类的."
   ]
  },
  {
   "cell_type": "markdown",
   "metadata": {},
   "source": [
    "还有第三招, 矩阵乘法\n",
    "\n",
    "把f(n)写成一个矩阵M去乘与f(n-1)向量的形式, 然后最终就成了计算M的n次方. 当然, 我又不记得矩阵乘方的运算了, 似乎是进行特征分解. 不过呢, 反正numpy在算矩阵乘法的时候是经过优化的, 速度很快.\n",
    "\n",
    "目的是写出一个简单的矩阵M, 满足下面的式子"
   ]
  },
  {
   "cell_type": "markdown",
   "metadata": {},
   "source": [
    "$$\n",
    "\\begin{bmatrix}\n",
    "  f(n) \n",
    "  \\\\f(n-1)\n",
    "  \\\\f(n-2)\n",
    "  \\\\n+1\n",
    "  \\\\1\n",
    "\\end{bmatrix}=\n",
    "M\n",
    "\\begin{bmatrix}\n",
    "  f(n-1) \n",
    "  \\\\f(n-2)\n",
    "  \\\\f(n-3)\n",
    "  \\\\n\n",
    "  \\\\1\n",
    "\\end{bmatrix}\n",
    "$$"
   ]
  },
  {
   "cell_type": "markdown",
   "metadata": {},
   "source": [
    "根据条件, 很好写:\n",
    "$$\n",
    "\\begin{bmatrix}\n",
    "  f(n) \n",
    "  \\\\f(n-1)\n",
    "  \\\\f(n-2)\n",
    "  \\\\n+1\n",
    "  \\\\1\n",
    "\\end{bmatrix}=\n",
    "\\begin{bmatrix}\n",
    "    1,-1,0, 1,0 \n",
    "  \\\\1,0, 0,0,0\n",
    "  \\\\0,1, 0,0,0\n",
    "  \\\\0,0,0,1,1\n",
    "  \\\\0,0,0,0,1\n",
    "\\end{bmatrix}\n",
    "\\begin{bmatrix}\n",
    "  f(n-1) \n",
    "  \\\\f(n-2)\n",
    "  \\\\f(n-3)\n",
    "  \\\\n\n",
    "  \\\\1\n",
    "\\end{bmatrix}\n",
    "$$\n"
   ]
  },
  {
   "cell_type": "markdown",
   "metadata": {},
   "source": [
    "所以程序就很容易写出来了:"
   ]
  },
  {
   "cell_type": "code",
   "execution_count": 2,
   "metadata": {},
   "outputs": [],
   "source": [
    "import numpy as np\n",
    "from numpy.linalg import matrix_power\n",
    "def f_matrix(n):\n",
    "    M=np.asarray([\n",
    "        [1,-1,0,1,0],\n",
    "        [1,0,0,0,0],\n",
    "        [0,1,0,0,0],\n",
    "        [0,0,0,1,1],\n",
    "        [0,0,0,0,1]\n",
    "    ])\n",
    "    f3=np.asarray([f(3),f(2),f(1),4,1])\n",
    "    if n>3:\n",
    "        fn=np.matmul(matrix_power(M, n-3), f3)\n",
    "        return fn[0]\n",
    "    else:\n",
    "        return f(n)"
   ]
  },
  {
   "cell_type": "code",
   "execution_count": 5,
   "metadata": {},
   "outputs": [
    {
     "name": "stdout",
     "output_type": "stream",
     "text": [
      "66 µs ± 859 ns per loop (mean ± std. dev. of 7 runs, 10000 loops each)\n"
     ]
    }
   ],
   "source": [
    "%%timeit \n",
    "f_matrix(2018)"
   ]
  },
  {
   "cell_type": "code",
   "execution_count": 6,
   "metadata": {},
   "outputs": [
    {
     "name": "stdout",
     "output_type": "stream",
     "text": [
      "2017\n"
     ]
    }
   ],
   "source": [
    "print(f_matrix(2018))"
   ]
  },
  {
   "cell_type": "markdown",
   "metadata": {},
   "source": [
    "以上方法适用于类似我这样知识点只记得住开头的水平, 即使没有能够记住完整的部分, 也可以利用矩阵乘法在程序内置计算够快的feature来求解. 万一以后做什么面试题, 也许会用上吧"
   ]
  },
  {
   "cell_type": "code",
   "execution_count": null,
   "metadata": {},
   "outputs": [],
   "source": []
  }
 ],
 "metadata": {
  "kernelspec": {
   "display_name": "Python 3",
   "language": "python",
   "name": "python3"
  },
  "language_info": {
   "codemirror_mode": {
    "name": "ipython",
    "version": 3
   },
   "file_extension": ".py",
   "mimetype": "text/x-python",
   "name": "python",
   "nbconvert_exporter": "python",
   "pygments_lexer": "ipython3",
   "version": "3.5.6"
  },
  "nikola": {
   "category": "",
   "date": "2019-1-8 16:00 UTC+08:00",
   "description": "",
   "link": "",
   "slug": "carefree-princess-1018",
   "tags": "python",
   "title": "通项公式快速求解",
   "type": "text"
  },
  "toc": {
   "colors": {
    "hover_highlight": "#DAA520",
    "navigate_num": "#000000",
    "navigate_text": "#333333",
    "running_highlight": "#FF0000",
    "selected_highlight": "#FFD700",
    "sidebar_border": "#EEEEEE",
    "wrapper_background": "#FFFFFF"
   },
   "moveMenuLeft": true,
   "nav_menu": {
    "height": "26px",
    "width": "254px"
   },
   "navigate_menu": true,
   "number_sections": true,
   "sideBar": true,
   "threshold": 4,
   "toc_cell": false,
   "toc_section_display": "block",
   "toc_window_display": false,
   "widenNotebook": false
  }
 },
 "nbformat": 4,
 "nbformat_minor": 2
}
