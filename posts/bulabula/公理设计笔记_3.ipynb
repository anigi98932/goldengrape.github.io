{
 "cells": [
  {
   "cell_type": "markdown",
   "metadata": {},
   "source": [
    "前面讲解了目的，要尽量形成FRs（功能需求）与DPs(设计参数）的解耦合对应关系\n",
    "\n",
    "尽量对角矩阵形成：\n",
    "$$\n",
    "FRs=\\begin{bmatrix}\n",
    "X & 0 & ... & 0\n",
    "\\\\ 0 &  X & ... & 0\n",
    "\\\\ ...\n",
    "\\\\ 0 &  0 & ... & X\n",
    "\\end{bmatrix} DPs\n",
    "$$\n",
    "\n",
    "或者至少形成三角形矩阵：\n",
    "$$\n",
    "FRs=\\begin{bmatrix}\n",
    "X & 0 & ... & 0\n",
    "\\\\ X &  X & ... & 0\n",
    "\\\\ ...\n",
    "\\\\ 0 &  X & ... & X\n",
    "\\end{bmatrix} DPs\n",
    "$$\n",
    "\n",
    "<!-- TEASER_END -->"
   ]
  },
  {
   "cell_type": "markdown",
   "metadata": {},
   "source": [
    "实际过程中是分层级对FRs（功能需求）与DPs(设计参数）进行分解的。先从\n",
    "\n",
    "$$\n",
    "\\begin{bmatrix}\n",
    "FR_1\n",
    "\\\\ FR_2\n",
    "\\end{bmatrix}\n",
    "=\n",
    "\\begin{bmatrix}\n",
    "X & 0 \n",
    "\\\\ X &  X \n",
    "\\end{bmatrix} \n",
    "\\begin{bmatrix}\n",
    "DP_1\n",
    "\\\\ DP_2\n",
    "\\end{bmatrix}\n",
    "$$\n",
    "开始，\n",
    "\n",
    "然后再把$FR_1$（功能需求）拆解成$FR_{1.1}, FR_{1.2}$，变成类似这个意思：\n",
    "\n",
    "$$\n",
    "\\begin{bmatrix}\n",
    "\\begin{bmatrix}\n",
    "FR_{1.1}\n",
    "\\\\ FR_{1.2}\n",
    "\\end{bmatrix}\n",
    "\\\\ FR_2\n",
    "\\end{bmatrix}\n",
    "=\n",
    "\\begin{bmatrix}\n",
    "\\begin{bmatrix}\n",
    "X & 0\n",
    "\\\\ X & X\n",
    "\\end{bmatrix}& 0 \n",
    "\\\\ X &  X \n",
    "\\end{bmatrix} \n",
    "\\begin{bmatrix}\n",
    "\\begin{bmatrix}\n",
    "DP_{1.1}\n",
    "\\\\ DP_{1.2}\n",
    "\\end{bmatrix}\n",
    "\\\\ DP_2\n",
    "\\end{bmatrix}\n",
    "$$"
   ]
  },
  {
   "cell_type": "markdown",
   "metadata": {},
   "source": [
    "在拆分FRs（功能需求）的时候，要求是[MECE](https://zh.wikipedia.org/zh-hans/MECE%E5%8E%9F%E5%88%99) min原则，也就是\"不重复不漏项\"并且总数尽量少。MECE := Mutually Exclusive Collectively Exhaustive，课程中使用的是CEME，可能商科里用MECE更多，反正一个意思。\n",
    "\n",
    "比如3D打印机的FR(功能需求)之一是要求在$FR_1$打印头空间内移动，那么就可以拆分成：\n",
    "\n",
    "* $FR_{1.1}$ 在X轴方向移动\n",
    "* $FR_{1.2}$ 在Y轴方向移动\n",
    "* $FR_{1.3}$ 在Z轴方向移动\n",
    "\n",
    "这样的拆分方式显然是MECE的，当然也可以拆分成圆柱坐标系、球坐标系等等。不同的分解方式对应着不同的解决方案。\n",
    "\n",
    "对于DPs(设计参数)的拆分，目的是尽量形成对角矩阵，或者至少是三角形矩阵，那么就应当尽量让右上角的区域保持为0。而且在拆分DPs(设计参数)的时候，约束条件是继承的，比如$DP_1$是在中国建厂，那么$DP_{1.1},DP_{1.2}$就不能把工厂建立到越南去。\n"
   ]
  },
  {
   "cell_type": "markdown",
   "metadata": {},
   "source": [
    "在实际操作中，拆分是一点一点来进行的。说叫ZigZag。\n",
    "\n",
    "先把$FR_1$（功能需求）拆解成$FR_{1.1}, FR_{1.2}$，拆分好$FR_1$（功能需求）以后，再去拆分$DP_1$(设计参数)，拆好了DPs(设计参数)以后，再返回来拆下一个$FR$（功能需求）\n",
    "\n",
    "![屏幕快照 2019-07-18 16.40.58.png](https://i.loli.net/2019/07/18/5d3030b9d457e37686.png)\n"
   ]
  },
  {
   "cell_type": "markdown",
   "metadata": {},
   "source": [
    "拆分过程可以用个电子表格来做，最好再弄成可折叠的，似乎有专用的软件可以画图，但不知道excel或者其他通用的简单工具有没有这样的功能。注意子节点上的相关性X，一定要表现在父节点上。比如检查时发现调整$DP_{2}$时$FR_{12}$也跟着变，那$DP_{2}$其实与$FR_1$就是耦合的，中间肯定在某个步骤出错了。\n",
    "\n",
    "|FRs   |$DP_1$|$DP_{11}$|$DP_{12}$|$DP_{121}$|$DP_{122}$|$DP_{123}$|$DP_{2}$|\n",
    "|:--|:--|:--|:--|:--|:--|:--|:--|\n",
    "|$FR_1$|X|X|0|0|0|0|X|\n",
    "|$FR_{11}$|$\\space$ |X|0|0|0|0|0|\n",
    "|$FR_{12}$|$\\space$ |X|X|0|0|0|X|\n",
    "|$FR_{121}$| \n",
    "|$FR_{122}$| \n",
    "|$FR_{123}$| \n",
    "|$FR_{2}$| \n",
    "\n",
    "\n"
   ]
  }
 ],
 "metadata": {
  "kernelspec": {
   "display_name": "Python 3",
   "language": "python",
   "name": "python3"
  },
  "language_info": {
   "codemirror_mode": {
    "name": "ipython",
    "version": 3
   },
   "file_extension": ".py",
   "mimetype": "text/x-python",
   "name": "python",
   "nbconvert_exporter": "python",
   "pygments_lexer": "ipython3",
   "version": "3.6.8"
  },
  "nikola": {
   "category": "",
   "date": "2019-07-18 10:00 UTC+08:00",
   "description": "",
   "link": "",
   "slug": "axiomatic_design_note_3",
   "tags": "公理设计",
   "title": "公理设计笔记（3）",
   "type": "text"
  }
 },
 "nbformat": 4,
 "nbformat_minor": 2
}
