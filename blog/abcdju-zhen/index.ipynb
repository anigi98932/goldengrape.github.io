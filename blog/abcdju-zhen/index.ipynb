{
 "cells": [
  {
   "cell_type": "markdown",
   "metadata": {},
   "source": [
    "# 光线传输矩阵\n",
    "\n",
    "又称做[ABCD矩阵](https://en.wikipedia.org/wiki/Ray_transfer_matrix_analysis) 用来描述近轴光线的传播过程. \n",
    "\n",
    "![](https://upload.wikimedia.org/wikipedia/commons/thumb/5/5e/RayTransferMatrixDefinitions.svg/600px-RayTransferMatrixDefinitions.svg.png)\n",
    "\n",
    "光线穿过一个光学系统的过程可以用一个2x2的矩阵来表示, 如果: \n",
    "* 入射光线距离光轴是x1, 角度是 θ1,  \n",
    "* 出射光线距离光轴是x2, 角度是 θ2,\n",
    "\n",
    "那么: \n",
    "$$\n",
    "\\begin{bmatrix}x_2\\\\ \\theta_2 \\end{bmatrix} = \\begin{bmatrix}A & B \\\\C & D \\end{bmatrix} \\begin{bmatrix}x_1\\\\ \\theta_1 \\end{bmatrix}\n",
    "$$\n",
    "\n",
    "对于不同的光学元件, ABCD的取值不同. \n",
    "\n",
    "下面准备使用python的符号运算库sympy, 进行光路的ABCD矩阵分析. 试图建立一个简化的眼球光路追迹模型. \n",
    "<!-- TEASER_END -->"
   ]
  },
  {
   "cell_type": "markdown",
   "metadata": {},
   "source": [
    "# Sympy基本\n",
    "\n",
    "sympy是python库, 用于符号计算, 轻量级, 不依赖于其他库. "
   ]
  },
  {
   "cell_type": "code",
   "execution_count": 1,
   "metadata": {
    "ExecuteTime": {
     "end_time": "2017-12-21T15:27:55.812878Z",
     "start_time": "2017-12-21T15:27:53.982504Z"
    }
   },
   "outputs": [],
   "source": [
    "from sympy import *\n",
    "a,b,c,d=symbols(\"a b c d\")\n",
    "x1,x2,theta1,theta2=symbols('x1 x2 theta1 theta2')"
   ]
  },
  {
   "cell_type": "markdown",
   "metadata": {},
   "source": [
    "# ABCD Matrix\n",
    "\n",
    "内置上常用的参数字典, 其实最常用的也就是在自由空间内传播, 和在球面上折射, 而这两者可以合并成在球面上折射然后再传播一段距离. \n",
    "\n",
    "* 在自由空间传播距离为d的矩阵是: \n",
    "$$\n",
    "free\\space space\\space matrix=\\begin{bmatrix} 1 & d \\\\ 0 & 1 \\end{bmatrix}\n",
    "$$\n",
    "* 在球面上折射的矩阵, 如果从n1折射率介质经过半径为R的球面, 折射到n2折射率介质: \n",
    "$$\n",
    "curved\\space interface\\space matrix=\\begin{bmatrix} 1 & 0 \\\\ \\frac{(n_1-n_2)}{R} & \\frac{n_1}{n_2} \\end{bmatrix}\n",
    "$$\n",
    "* 两者合并是相乘的关系, 注意乘法的顺序: \n",
    "$$\n",
    "pass\\space curved\\space interface\\space  matrix=\n",
    "\\begin{bmatrix} 1 & 0 \\\\ \\frac{(n_1-n_2)}{R} & \\frac{n_1}{n_2} \\end{bmatrix}\n",
    "\\begin{bmatrix} 1 & d \\\\ 0 & 1 \\end{bmatrix}\n",
    "$$\n",
    "\n"
   ]
  },
  {
   "cell_type": "code",
   "execution_count": 2,
   "metadata": {
    "ExecuteTime": {
     "end_time": "2017-12-21T15:27:56.084800Z",
     "start_time": "2017-12-21T15:27:55.817588Z"
    },
    "collapsed": true
   },
   "outputs": [],
   "source": [
    "def ABCD(dictname):\n",
    "    d,n1,n2,R,f,p=symbols('d n1 n2 R f p')\n",
    "    abcd_dict={\n",
    "        'free space':         [1, d, 0, 1],\n",
    "        'flat interface':     [1, 0, 0, n1/n2],\n",
    "        'curved interface':   [1, 0, (n1-n2)/R, n1/n2],\n",
    "        'curved mirror':      [1, 0, -2/R, 1],\n",
    "        'Thin lens':          [1, 0, -1/f, 1],\n",
    "        'Thin lens in power': [1, 0, p, 1],\n",
    "    }\n",
    "    a,b,c,d=abcd_dict[dictname]\n",
    "    return Matrix([[a,b],[c,d]])\n",
    "\n",
    "def free_space(d_inspace):\n",
    "    return ABCD('free space').subs(d,d_inspace)\n",
    "def curved_interface(na,nb,Rx):\n",
    "    n1,n2,R=symbols('n1 n2 R')\n",
    "    return ABCD('curved interface').subs([(n1,na),(n2,nb),(R,Rx)])\n",
    "def pass_curved_interface(n_from,n_to,R,p_from, p_to):\n",
    "    transfer_matrix = free_space(p_to-p_from) * curved_interface(n_from,n_to,R)\n",
    "    return transfer_matrix"
   ]
  },
  {
   "cell_type": "markdown",
   "metadata": {},
   "source": [
    "# 基础人眼模型\n",
    "\n",
    "## The Gullstrand Schematic Eye\n",
    "数据来自: AAO 2014版 Basic and Clinical Science Course (BCSC) Section 3: Clinical Optics \n",
    "第75页\n",
    "\n",
    "* 折射率:\n",
    "``` python\n",
    "n_air: [1, 1]\n",
    "n_cornea: [1.376, 1.376]\n",
    "n_humor: [1.336,1.336]\n",
    "n_vitreous: [1.336,1.336]\n",
    "n_lens:[1.386,1.386]\n",
    "n_core_lens:[1.406,1.406]\n",
    "```\n",
    "* 顶点位置: \n",
    "``` python\n",
    "p_cornea_Anterior: [0,0]\n",
    "p_cornea_Posterior: [0.5,0.5]\n",
    "p_lens_Anterior: [3.6, 3.2]\n",
    "p_core_lens_Anterior: [4.146, 3.8725]\n",
    "p_core_lens_Posterior: [6.565, 6.5275]\n",
    "p_lens_Posterior: [7.2,7.2]\n",
    "p_retina: [24.4, 24.4]\n",
    "```\n",
    "\n",
    "* 曲率半径: \n",
    "``` python\n",
    "R_cornea_Anterior: [7.7, 7.7]\n",
    "R_cornea_Posterior: [6.8, 6.8]\n",
    "R_lens_Anterior: [10, 5.33]\n",
    "R_core_lens_Anterior: [7.911, 2.655]\n",
    "R_core_lens_Posterior: [-5.76, -2.655]\n",
    "R_lens_Posterior: [-6.0, -5.33]\n",
    "```\n",
    "\n",
    "\n",
    "\n"
   ]
  },
  {
   "cell_type": "code",
   "execution_count": 4,
   "metadata": {
    "ExecuteTime": {
     "end_time": "2017-12-21T15:27:56.516607Z",
     "start_time": "2017-12-21T15:27:56.419717Z"
    }
   },
   "outputs": [],
   "source": [
    "def Gullstrand_Schematic_Eye_Tranfer_Matrix():\n",
    "    n_air, n_cornea,n_humor, n_vitreous, n_lens, n_core_lens = symbols(\n",
    "    'n_air n_cornea n_humor n_vitreous n_lens n_core_lens')\n",
    "    p_cornea_Anterior,p_cornea_Posterior,p_lens_Anterior,p_core_lens_Anterior,p_core_lens_Posterior,p_lens_Posterior,p_retina=symbols(\n",
    "    'p_cornea_Anterior p_cornea_Posterior p_lens_Anterior p_core_lens_Anterior p_core_lens_Posterior p_lens_Posterior p_retina')\n",
    "    R_cornea_Anterior,R_cornea_Posterior,R_lens_Anterior,R_core_lens_Anterior,R_core_lens_Posterior,R_lens_Posterior=symbols(\n",
    "    'R_cornea_Anterior R_cornea_Posterior R_lens_Anterior R_core_lens_Anterior R_core_lens_Posterior R_lens_Posterior')\n",
    "    \n",
    "    d,n1,n2,R,f,p=symbols('d n1 n2 R f p')\n",
    "    cornea_Anterior=pass_curved_interface(\n",
    "        n_air,n_cornea,\n",
    "        R_cornea_Anterior,\n",
    "        p_cornea_Anterior, p_cornea_Posterior)\n",
    "    cornea_Posterior=pass_curved_interface(\n",
    "        n_cornea,n_humor,\n",
    "        R_cornea_Posterior,\n",
    "        p_cornea_Posterior,p_lens_Anterior)\n",
    "    lens_Anterior= pass_curved_interface(\n",
    "        n_humor,n_lens,\n",
    "        R_lens_Anterior,\n",
    "        p_lens_Anterior,p_core_lens_Anterior)\n",
    "    core_lens_Anterior=pass_curved_interface(\n",
    "        n_lens,n_core_lens,\n",
    "        R_core_lens_Anterior,\n",
    "        p_core_lens_Anterior, p_core_lens_Posterior)\n",
    "    core_lens_Posterior=pass_curved_interface(\n",
    "        n_core_lens,n_lens,\n",
    "        R_core_lens_Posterior,\n",
    "        p_core_lens_Posterior,p_lens_Posterior)\n",
    "    lens_Posterior= pass_curved_interface(\n",
    "        n_lens,n_vitreous,\n",
    "        R_lens_Posterior,\n",
    "        p_lens_Posterior,p_retina)\n",
    "    \n",
    "    eye_transfer_matrix=lens_Posterior* \\\n",
    "                        core_lens_Posterior* \\\n",
    "                        core_lens_Anterior* \\\n",
    "                        lens_Anterior* \\\n",
    "                        cornea_Posterior* \\\n",
    "                        cornea_Anterior\n",
    "    return eye_transfer_matrix\n"
   ]
  },
  {
   "cell_type": "markdown",
   "metadata": {},
   "source": [
    "## Gullstrand_Schematic_Eye具体参数\n",
    "\n",
    "每个项目有两个参数, 前者是调节放松状态, 后者是最大调节状态"
   ]
  },
  {
   "cell_type": "code",
   "execution_count": 41,
   "metadata": {
    "ExecuteTime": {
     "end_time": "2017-12-21T16:14:04.044415Z",
     "start_time": "2017-12-21T16:14:04.030517Z"
    }
   },
   "outputs": [],
   "source": [
    "Gullstrand_Schematic_Eye_parameters={\n",
    "    \"n_air\": [1, 1],\n",
    "    \"n_cornea\": [1.376, 1.376],\n",
    "    \"n_humor\": [1.336,1.336],\n",
    "    \"n_vitreous\": [1.336,1.336],\n",
    "    \"n_lens\":[1.386,1.386],\n",
    "    \"n_core_lens\":[1.406,1.406],\n",
    "    \"p_cornea_Anterior\": [0,0],\n",
    "    \"p_cornea_Posterior\": [0.5,0.5],\n",
    "    \"p_lens_Anterior\": [3.6, 3.2],\n",
    "    \"p_core_lens_Anterior\": [4.146, 3.8725],\n",
    "    \"p_core_lens_Posterior\": [6.565, 6.5275],\n",
    "    \"p_lens_Posterior\": [7.2,7.2],\n",
    "    \"p_retina\": [24.4, 24.4],\n",
    "    \"R_cornea_Anterior\": [7.7, 7.7],\n",
    "    \"R_cornea_Posterior\": [6.8, 6.8],\n",
    "    \"R_lens_Anterior\": [10, 5.33],\n",
    "    \"R_core_lens_Anterior\": [7.911, 2.655],\n",
    "    \"R_core_lens_Posterior\": [-5.76, -2.655],\n",
    "    \"R_lens_Posterior\": [-6.0, -5.33],\n",
    "}"
   ]
  },
  {
   "cell_type": "markdown",
   "metadata": {},
   "source": [
    "## 调节状态\n",
    "假定调节状态是各个参数的线性变化"
   ]
  },
  {
   "cell_type": "code",
   "execution_count": 42,
   "metadata": {
    "ExecuteTime": {
     "end_time": "2017-12-21T16:14:05.488595Z",
     "start_time": "2017-12-21T16:14:05.481384Z"
    }
   },
   "outputs": [],
   "source": [
    "def Accommodation_state(persentage):\n",
    "    state={k:v[0]+persentage*(v[1]-v[0])\n",
    "        for (k,v) in \n",
    "        zip(Gullstrand_Schematic_Eye_parameters.keys(),\n",
    "            Gullstrand_Schematic_Eye_parameters.values())}\n",
    "    return state"
   ]
  },
  {
   "cell_type": "markdown",
   "metadata": {},
   "source": [
    "## 代入参数"
   ]
  },
  {
   "cell_type": "code",
   "execution_count": 47,
   "metadata": {
    "ExecuteTime": {
     "end_time": "2017-12-21T16:16:51.347952Z",
     "start_time": "2017-12-21T16:16:51.340588Z"
    },
    "collapsed": true
   },
   "outputs": [],
   "source": [
    "def Gullstrand_Schematic_Eye(Accommodation):\n",
    "    eye_parameters=Accommodation_state(Accommodation)\n",
    "    eye_matrix=Gullstrand_Schematic_Eye_Tranfer_Matrix()\n",
    "    subslist=[(k,eye_parameters[k]) for k in eye_parameters.keys()]\n",
    "    eye_matrix=eye_matrix.subs(subslist)\n",
    "    return eye_matrix"
   ]
  },
  {
   "cell_type": "markdown",
   "metadata": {},
   "source": [
    "## 测试\n",
    "\n",
    "假定调节状态从0到1, 以0.2变化, 其中调节状态=0是调节放松照台, 调节状态=1是最大调节状态. \n",
    "\n",
    "入射光从光轴旁0.001m,平行于光轴入射. "
   ]
  },
  {
   "cell_type": "code",
   "execution_count": 48,
   "metadata": {
    "ExecuteTime": {
     "end_time": "2017-12-21T16:16:59.527726Z",
     "start_time": "2017-12-21T16:16:52.676573Z"
    }
   },
   "outputs": [
    {
     "name": "stdout",
     "output_type": "stream",
     "text": [
      "视网膜上光点距离光轴的距离是: -0.000354462798252968\n",
      "入射到视网膜上的角度是: -0.0000590726237391154\n",
      "\n",
      "视网膜上光点距离光轴的距离是: -0.000378208760520101\n",
      "入射到视网膜上的角度是: -0.0000602711616871547\n",
      "\n",
      "视网膜上光点距离光轴的距离是: -0.000408088620938796\n",
      "入射到视网膜上的角度是: -0.0000617732569824535\n",
      "\n",
      "视网膜上光点距离光轴的距离是: -0.000447205478612823\n",
      "入射到视网膜上的角度是: -0.0000637320962204043\n",
      "\n",
      "视网膜上光点距离光轴的距离是: -0.000501435705519647\n",
      "入射到视网膜上的角度是: -0.0000664374131530516\n",
      "\n"
     ]
    }
   ],
   "source": [
    "import numpy as np\n",
    "input_light=Matrix([0.001,0])\n",
    "for i in np.arange(0,1,0.2):\n",
    "    e_matrix=Gullstrand_Schematic_Eye(i)\n",
    "    output_light=e_matrix*input_light\n",
    "    print(\"视网膜上光点距离光轴的距离是: {0}\\n入射到视网膜上的角度是: {1}\\n\".format(output_light[0],output_light[1]))"
   ]
  },
  {
   "cell_type": "code",
   "execution_count": null,
   "metadata": {
    "collapsed": true
   },
   "outputs": [],
   "source": []
  }
 ],
 "metadata": {
  "kernelspec": {
   "display_name": "Python 3",
   "language": "python",
   "name": "python3"
  },
  "language_info": {
   "codemirror_mode": {
    "name": "ipython",
    "version": 3
   },
   "file_extension": ".py",
   "mimetype": "text/x-python",
   "name": "python",
   "nbconvert_exporter": "python",
   "pygments_lexer": "ipython3",
   "version": "3.5.2"
  },
  "nikola": {
   "category": "",
   "date": "2017-12-21 21:07:03 UTC+08:00",
   "description": "",
   "link": "",
   "slug": "abcdju-zhen",
   "tags": "python",
   "title": "ABCD矩阵",
   "type": "text"
  },
  "toc": {
   "colors": {
    "hover_highlight": "#DAA520",
    "navigate_num": "#000000",
    "navigate_text": "#333333",
    "running_highlight": "#FF0000",
    "selected_highlight": "#FFD700",
    "sidebar_border": "#EEEEEE",
    "wrapper_background": "#FFFFFF"
   },
   "moveMenuLeft": true,
   "nav_menu": {
    "height": "92px",
    "width": "254px"
   },
   "navigate_menu": true,
   "number_sections": true,
   "sideBar": true,
   "threshold": 4,
   "toc_cell": false,
   "toc_section_display": "block",
   "toc_window_display": false,
   "widenNotebook": false
  }
 },
 "nbformat": 4,
 "nbformat_minor": 2
}
