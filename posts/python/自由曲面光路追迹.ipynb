{
 "cells": [
  {
   "cell_type": "markdown",
   "metadata": {},
   "source": [
    "继续手腕疼, 无心工作. \n",
    "\n",
    "于是写了一个自由曲面的描述, 求了曲面上每点的法向量, 写了已知入射点时照射到该自由曲面上的反射和折射过程. \n",
    "还用pytorch写的.\n",
    "\n",
    "当然这样做什么用处. 但可以排解手腕疼的不适感. \n",
    "<!-- TEASER_END -->"
   ]
  },
  {
   "cell_type": "markdown",
   "metadata": {},
   "source": [
    "# 建立一个自由曲面\n",
    "\n",
    "* 建立一个自由曲面\n",
    "* 可以放置在空间中的不同位置\n",
    "* 自由曲面上任意一点求得法线和切面"
   ]
  },
  {
   "cell_type": "markdown",
   "metadata": {},
   "source": [
    "# 导入必要的库"
   ]
  },
  {
   "cell_type": "code",
   "execution_count": 1,
   "metadata": {},
   "outputs": [],
   "source": [
    "import numpy as np\n",
    "try:\n",
    "    import torch\n",
    "    from torch.autograd import Variable\n",
    "except: \n",
    "    !conda install pytorch --yes\n",
    "    import torch\n",
    "    from torch.autograd import Variable\n",
    "from mpl_toolkits.mplot3d import axes3d\n",
    "import matplotlib.pyplot as plt\n",
    "% matplotlib inline\n"
   ]
  },
  {
   "cell_type": "markdown",
   "metadata": {},
   "source": [
    "# 自由曲面表示\n",
    "\n",
    "## Chebyshev polynomial coefficients\n",
    "\n",
    "The Chebyshev polynomial of the first kind is given by formula:\n",
    "$$\n",
    "Tn (x) = cos(n cos^{-1}(x)) , n=0..∞, x∈[-1,1]\n",
    "$$\n",
    "\n",
    "The first ten Chebyshev polynomial coefficients are the following:\n",
    "\n",
    "$$\n",
    "T0 (x) = 1\\\\\n",
    "T1 (x) = x\\\\\n",
    "T2 (x) = 2x^2 - 1\\\\\n",
    "T3 (x) = 4x^3 - 3x\\\\\n",
    "T4 (x) = 8x^4 - 8x^2 + 1\\\\\n",
    "T5 (x) = 16x^5- 20x^3 + 5x\\\\\n",
    "T6 (x) = 32x^6 - 48x^4 + 18x^2 - 1\\\\\n",
    "T7 (x) = 64x^7 - 112x^5 + 56x^3 - 7x\\\\\n",
    "T8 (x) = 128x^8 - 256x^6 + 160x^4 - 32x^2 + 1\\\\\n",
    "T9 (x) = 256x^9 - 576x^7 + 432x^5 - 120x^3 + 9x\\\\\n",
    "T10 (x) = 512x^{10} - 1280x^8 + 1120x^6 - 400x^4 + 50x^2 - 1\\\\\n",
    "$$"
   ]
  },
  {
   "cell_type": "code",
   "execution_count": 2,
   "metadata": {},
   "outputs": [],
   "source": [
    "def T(n,x):\n",
    "    ans=torch.cos(n* torch.acos(x))\n",
    "    return ans"
   ]
  },
  {
   "cell_type": "code",
   "execution_count": 3,
   "metadata": {},
   "outputs": [
    {
     "name": "stdout",
     "output_type": "stream",
     "text": [
      "Variable containing:\n",
      "-0.8248\n",
      "-0.3548\n",
      "[torch.FloatTensor of size 2]\n",
      "\n",
      "Variable containing:\n",
      "-0.8248\n",
      "-0.3548\n",
      "[torch.FloatTensor of size 2]\n",
      "\n"
     ]
    }
   ],
   "source": [
    "if __name__==\"__main__\":\n",
    "    n=6\n",
    "    dtype = torch.FloatTensor\n",
    "    x = Variable(torch.Tensor([0.1,0.2]).type(torch.FloatTensor), requires_grad=False)    \n",
    "    print(T(n,x))\n",
    "    print(32*x**6-48*x**4+18*x**2-1)"
   ]
  },
  {
   "cell_type": "markdown",
   "metadata": {},
   "source": [
    "## 自由曲面\n",
    "$$\n",
    "z=\\frac{c\\left( x^{2}+y^{2} \\right)}{1+\\sqrt{1-c^{2}\\left( x^{2}+y^{2} \\right)}}+\\sum_{i=0}^{N}{\\sum_{j=0}^{M}{a_{ij}\\cdot T_{i}\\left( x \\right)T_{j}\\left( y \\right)}}\n",
    "$$"
   ]
  },
  {
   "cell_type": "code",
   "execution_count": 4,
   "metadata": {},
   "outputs": [],
   "source": [
    "def surface(c,a,x,y):\n",
    "    r2=x**2+y**2\n",
    "    p1=c*r2/(1+torch.sqrt(1-c**2*r2))\n",
    "    N,M=a.size()\n",
    "    s=0\n",
    "    for i in range(0,N):\n",
    "        for j in range(0, M):\n",
    "            s = s + a[i,j]*T(i,x)*T(j,y)\n",
    "    z=p1+s\n",
    "    return z"
   ]
  },
  {
   "cell_type": "code",
   "execution_count": 5,
   "metadata": {},
   "outputs": [
    {
     "name": "stdout",
     "output_type": "stream",
     "text": [
      "torch.Size([2, 3])\n",
      "Variable containing:\n",
      " 1.9250\n",
      " 1.9734\n",
      "[torch.FloatTensor of size 2]\n",
      "\n"
     ]
    }
   ],
   "source": [
    "if __name__==\"__main__\":\n",
    "    a= Variable(torch.randn(2,3).type(dtype), requires_grad=False) \n",
    "    print(a.size())\n",
    "    c=1\n",
    "    x = Variable(torch.Tensor([0.1,0.2]).type(dtype), requires_grad=False) \n",
    "    y = Variable(torch.Tensor([0.1,0.2]).type(dtype), requires_grad=False)    \n",
    "    print(surface(c,a,x,y))"
   ]
  },
  {
   "cell_type": "markdown",
   "metadata": {},
   "source": [
    "## 绘制曲面图\n"
   ]
  },
  {
   "cell_type": "code",
   "execution_count": 6,
   "metadata": {},
   "outputs": [],
   "source": [
    "def draw_surface(X,Y,Z):\n",
    "    fig = plt.figure()\n",
    "    ax = fig.add_subplot(111, projection='3d')\n",
    "#     print(X.data.numpy())\n",
    "    ax.plot_surface(X.data.numpy(), Y.data.numpy(), Z.data.numpy(), color='b',alpha=0.3)\n",
    "    plt.show()\n",
    "def draw_freeform(c,a):\n",
    "    x = np.linspace(-1,1,50)\n",
    "    y = np.linspace(-1,1,50)\n",
    "    xv, yv = np.meshgrid(x, y)\n",
    "    xv=Variable(torch.Tensor(xv).type(torch.FloatTensor), requires_grad=False) \n",
    "    yv=Variable(torch.Tensor(yv).type(torch.FloatTensor), requires_grad=False) \n",
    "    z=surface(c,a,xv,yv)\n",
    "    draw_surface(xv,yv,z)"
   ]
  },
  {
   "cell_type": "code",
   "execution_count": 198,
   "metadata": {},
   "outputs": [
    {
     "name": "stderr",
     "output_type": "stream",
     "text": [
      "/Users/goldengrape/anaconda3/envs/blog/lib/python3.5/site-packages/numpy/core/_methods.py:29: RuntimeWarning: invalid value encountered in reduce\n",
      "  return umr_minimum(a, axis, None, out, keepdims)\n"
     ]
    },
    {
     "data": {
      "image/png": "[encoded data removed]",
      "text/plain": [
       "<Figure size 432x288 with 1 Axes>"
      ]
     },
     "metadata": {},
     "output_type": "display_data"
    }
   ],
   "source": [
    "if __name__==\"__main__\":\n",
    "    c=1\n",
    "    a= Variable(torch.randn(2,3).type(torch.FloatTensor), requires_grad=False) \n",
    "    draw_freeform(c,a); "
   ]
  },
  {
   "cell_type": "markdown",
   "metadata": {},
   "source": [
    "# 求法向量"
   ]
  },
  {
   "cell_type": "markdown",
   "metadata": {},
   "source": [
    "已知有曲面\n",
    "$$\n",
    "z=f(x,y)\n",
    "$$\n",
    "则曲面在(x0,y0,z0)位置的法向量: \n",
    "$$\n",
    "\\left[ \n",
    "\\begin{array}{c} \n",
    "\\frac{\\partial }{\\partial x}f\\left( x,y \\right) |_{x=x0} \\\\ \n",
    "\\frac{\\partial }{\\partial y}f\\left( x,y \\right) |_{y=y0} \\\\ \n",
    "-1 \n",
    "\\end{array} \n",
    "\\right]\n",
    "$$\n",
    "\n",
    "已知:\n",
    "\n",
    "$$\n",
    "z=\\frac{c\\left( x^{2}+y^{2} \\right)}{1+\\sqrt{1-c^{2}\\left( x^{2}+y^{2} \\right)}}+\\sum_{i=0}^{N}{\\sum_{j=0}^{M}{a_{ij}\\cdot T_{i}\\left( x \\right)T_{j}\\left( y \\right)}}\n",
    "$$\n",
    "\n",
    "分别求导: \n",
    "\n",
    "$$\n",
    "\\partial \\frac{(\\frac{c\\left( x^{2}+y^{2} \\right)}{1+\\sqrt{1-c^{2}\\left( x^{2}+y^{2} \\right)}})}\n",
    "{\\partial x}=\n",
    "\\frac{(c^3 x (x^2 + y^2))}{(\\sqrt{1 - c^2 (x^2 + y^2)} (1 + \\sqrt{1 - c^2 (x^2 + y^2)})^2) + (2 c x)/(1 + \\sqrt{1 - c^2 (x^2 + y^2)})}\n",
    "$$\n",
    "\n",
    "对Chebyshev polynomial求导: \n",
    "\n",
    "$$\n",
    "\\partial \\frac{\\sum_{i=0}^{N}{\\sum_{j=0}^{M}{a_{ij}\\cdot T_{i}\\left( x \\right)T_{j}\\left( y \\right)}}}{\\partial x}=\n",
    "\\sum_{i=0}^{N}{\\sum_{j=0}^{M}{a_{ij}\\cdot iU_{i-1}\\left( x \\right)T_{j}\\left( y \\right)}}\n",
    "$$\n",
    "\n",
    "其中: \n",
    "\n",
    "$$\n",
    "n U_{n-1}(x)=\\frac{n sin(n cos^{-1}(x))}{\\sqrt{1-x^2}}\n",
    "$$"
   ]
  },
  {
   "cell_type": "code",
   "execution_count": 8,
   "metadata": {},
   "outputs": [],
   "source": [
    "def dT(n,x):\n",
    "    ans=n*(torch.sin(n* torch.acos(x)))/(torch.sqrt(1-x**2))\n",
    "    return ans"
   ]
  },
  {
   "cell_type": "code",
   "execution_count": 13,
   "metadata": {},
   "outputs": [],
   "source": [
    "def dPart1(c,x,y):\n",
    "    ans=(c**3*x*(x**2+y**2))/(torch.sqrt(1-c**2*(x**2+y**2))*(1+torch.sqrt(1-c**2*(x**2+y**2)))**2)+(2*c*x)/(1+torch.sqrt(1-c**2*(x**2+y**2)))\n",
    "    return ans"
   ]
  },
  {
   "cell_type": "code",
   "execution_count": 97,
   "metadata": {},
   "outputs": [],
   "source": [
    "def norm_vec(c,a,x,y):\n",
    "    # dz/dx\n",
    "    dPart1_dx=dPart1(c,x,y)\n",
    "    dPart1_dy=dPart1(c,y,x)\n",
    "    N,M=a.size()\n",
    "    ds_dx=0\n",
    "    ds_dy=0\n",
    "    for i in range(0,N):\n",
    "        for j in range(0, M):\n",
    "            ds_dx= ds_dx + a[i,j]*dT(i,x)*T(j,y)\n",
    "            ds_dy= ds_dy + a[i,j]*T(i,x)*dT(j,y)\n",
    "    dz_dx=dPart1_dx+ds_dx\n",
    "    dz_dy=dPart1_dy+ds_dy\n",
    "    nv=Variable(-1*torch.ones(list(x.size())[0],3).type(torch.FloatTensor))\n",
    "    nv[:,0]=dz_dx\n",
    "    nv[:,1]=dz_dy\n",
    "    nv=nv/nv.norm(dim=1,keepdim=True) # normalize vector\n",
    "    return nv\n"
   ]
  },
  {
   "cell_type": "code",
   "execution_count": 188,
   "metadata": {},
   "outputs": [
    {
     "name": "stdout",
     "output_type": "stream",
     "text": [
      "Variable containing:\n",
      " 0.0000  0.1000 -0.9950\n",
      " 0.1000  0.0000 -0.9950\n",
      " 0.2000  0.2000 -0.9592\n",
      " 0.5000  0.5000 -0.7071\n",
      "[torch.FloatTensor of size 4x3]\n",
      "\n"
     ]
    }
   ],
   "source": [
    "if __name__==\"__main__\":\n",
    "    a=0*Variable(torch.ones(3,3).type(dtype), requires_grad=True) \n",
    "    c=1\n",
    "    x = Variable(torch.Tensor([0,0.1,0.2,0.5]).type(torch.FloatTensor), requires_grad=True) \n",
    "    y = Variable(torch.Tensor([0.1,0,0.2,0.5]).type(torch.FloatTensor), requires_grad=True)\n",
    "\n",
    "    print(norm_vec(c,a,x,y))\n",
    "\n",
    "    "
   ]
  },
  {
   "cell_type": "markdown",
   "metadata": {},
   "source": [
    "# 折射与反射\n",
    "参考 https://en.wikipedia.org/wiki/Snell's_law 中的矢量形式\n",
    "\n",
    "* 入射光方向: $\\vec l$\n",
    "* 曲面的法向量: $\\vec n$\n",
    "* 入射面介质折射率: $n_1$\n",
    "* 出射面介质折射率: $n_2$\n",
    "* $ r=n_1/n_2$\n",
    "* $ c=-\\vec n \\cdot \\vec l $"
   ]
  },
  {
   "cell_type": "markdown",
   "metadata": {},
   "source": [
    "$$\n",
    "V_{reflect}=\\vec l + 2 c \\vec n\\\\\n",
    "V_{refract}=r\\vec l+(rc-\\sqrt{1-r^2(1-c^2)})\\vec n\n",
    "$$"
   ]
  },
  {
   "cell_type": "code",
   "execution_count": 180,
   "metadata": {},
   "outputs": [],
   "source": [
    "def V_reflect(vec_l,vec_n,n1,n2):\n",
    "    r=n1/n2\n",
    "    if len(vec_l.size())>1:\n",
    "        c=torch.diag(-torch.mm(vec_n,torch.transpose(vec_l,0,1)),diagonal=0).view(-1,1)\n",
    "    else:\n",
    "        c=-torch.mm(vec_n.view(1,-1),vec_l.view(-1,1))\n",
    "    V=vec_l+2*c*vec_n\n",
    "    return V/V.norm(dim=1,keepdim=True)\n",
    "def V_refract(vec_l,vec_n,n1,n2):\n",
    "    r=n1/n2\n",
    "    if len(vec_l.size())>1:\n",
    "        c=torch.diag(-torch.mm(vec_n,torch.transpose(vec_l,0,1)),diagonal=0).view(-1,1)\n",
    "    else:\n",
    "        c=-torch.mm(vec_n.view(1,-1),vec_l.view(-1,1))\n",
    "    V=r*vec_l+(r*c-torch.sqrt(1-r**2*(1-c**2)))*vec_n\n",
    "    return V/V.norm(dim=1,keepdim=True)"
   ]
  },
  {
   "cell_type": "code",
   "execution_count": 186,
   "metadata": {},
   "outputs": [
    {
     "name": "stdout",
     "output_type": "stream",
     "text": [
      "Variable containing:\n",
      " 0.8951  0.4025 -0.1919\n",
      "-0.8368  0.1482 -0.5271\n",
      " 0.1819  0.6201  0.7632\n",
      "-0.8726  0.4421 -0.2076\n",
      " 0.8111 -0.4376  0.3882\n",
      "[torch.FloatTensor of size 5x3]\n",
      "\n",
      "Variable containing:\n",
      " 0.8872  0.3847 -0.2549\n",
      "-0.8791 -0.1163 -0.4621\n",
      "-0.1896  0.9623  0.1952\n",
      "-0.8725  0.4422 -0.2079\n",
      " 0.5162  0.6266  0.5838\n",
      "[torch.FloatTensor of size 5x3]\n",
      "\n"
     ]
    }
   ],
   "source": [
    "if __name__==\"__main__\":\n",
    "#     vec_l=Variable(torch.Tensor([0.707107, -0.707107]).type(dtype), requires_grad=True) \n",
    "#     vec_n=Variable(torch.Tensor([0,1]))\n",
    "    vec_l=Variable(torch.randn(5,3).type(torch.FloatTensor), requires_grad=True) \n",
    "    vec_n=Variable(torch.randn(5,3))\n",
    "    n1=0.9\n",
    "    n2=1\n",
    "    print(V_reflect(vec_l,vec_n,n1,n2))\n",
    "    print(V_refract(vec_l,vec_n,n1,n2))"
   ]
  },
  {
   "cell_type": "markdown",
   "metadata": {},
   "source": [
    "# 自由曲面上的折射与反射\n",
    "* 已知自由曲面上一点(x_f,y_f,z_f)\n",
    "* 已知入射光上一点(x0,y0,z0)\n",
    "* 求反射光和折射光方向"
   ]
  },
  {
   "cell_type": "code",
   "execution_count": 196,
   "metadata": {},
   "outputs": [],
   "source": [
    "def get_vec_l(c,a,xf,yf,x0,y0,z0):\n",
    "    zf=surface(c,a,xf,yf)\n",
    "    vec_l=Variable(-1*torch.zeros(list(xf.size())[0],3).type(torch.FloatTensor))\n",
    "    vec_l[:,0]=xf-x0\n",
    "    vec_l[:,1]=yf-y0\n",
    "    vec_l[:,2]=zf-z0\n",
    "    return vec_l\n",
    "\n",
    "def reflect_on_surface(c,a,xf,yf,x0,y0,z0,n1,n2):\n",
    "    vec_l=get_vec_l(c,a,xf,yf,x0,y0,z0)\n",
    "    vec_n=norm_vec(c,a,x,y)\n",
    "    return V_reflect(vec_l,vec_n,n1,n2)\n",
    "\n",
    "def refract_on_surface(c,a,xf,yf,x0,y0,z0,n1,n2):\n",
    "    vec_l=get_vec_l(c,a,xf,yf,x0,y0,z0)\n",
    "    vec_n=norm_vec(c,a,x,y)\n",
    "    return V_refract(vec_l,vec_n,n1,n2)"
   ]
  },
  {
   "cell_type": "code",
   "execution_count": 197,
   "metadata": {},
   "outputs": [
    {
     "name": "stdout",
     "output_type": "stream",
     "text": [
      "Variable containing:\n",
      " 0.0000  0.2951 -0.9555\n",
      " 0.2951  0.0000 -0.9555\n",
      " 0.5260  0.5260 -0.6683\n",
      " 0.6204  0.6204  0.4798\n",
      "[torch.FloatTensor of size 4x3]\n",
      "\n",
      "Variable containing:\n",
      " 0.0000  0.0330  0.9995\n",
      " 0.0330  0.0000  0.9995\n",
      " 0.0607  0.0607  0.9963\n",
      " 0.0600  0.0600  0.9964\n",
      "[torch.FloatTensor of size 4x3]\n",
      "\n"
     ]
    }
   ],
   "source": [
    "if __name__==\"__main__\":\n",
    "    a=0*Variable(torch.ones(3,3).type(dtype), requires_grad=True) \n",
    "    c=1\n",
    "    xf = Variable(torch.Tensor([0  ,0.1,0.2,0.5]).type(torch.FloatTensor), requires_grad=True) \n",
    "    yf = Variable(torch.Tensor([0.1,0  ,0.2,0.5]).type(torch.FloatTensor), requires_grad=True)\n",
    "    x0 = Variable(torch.Tensor([0]).type(torch.FloatTensor), requires_grad=True) \n",
    "    y0 = Variable(torch.Tensor([0]).type(torch.FloatTensor), requires_grad=True) \n",
    "    z0 = Variable(torch.Tensor([-1]).type(torch.FloatTensor), requires_grad=True) \n",
    "        \n",
    "    n1=1\n",
    "    n2=1.5\n",
    "    print(reflect_on_surface(c,a,xf,yf,x0,y0,z0,n1,n2))\n",
    "    print(refract_on_surface(c,a,xf,yf,x0,y0,z0,n1,n2))"
   ]
  },
  {
   "cell_type": "markdown",
   "metadata": {},
   "source": [
    "# 然而并没有什么用\n",
    "\n",
    "到目前为止, 即使上述的运算都对, 也没有什么实际用途. 因为如果要做光路追迹, 要从一个点发射光线, 打中自由曲面, 然后折射或者反射. 求解光线击中自由曲面的位置, 好像只能迭代求解了. \n"
   ]
  },
  {
   "cell_type": "code",
   "execution_count": null,
   "metadata": {},
   "outputs": [],
   "source": []
  }
 ],
 "metadata": {
  "kernelspec": {
   "display_name": "Python 3",
   "language": "python",
   "name": "python3"
  },
  "language_info": {
   "codemirror_mode": {
    "name": "ipython",
    "version": 3
   },
   "file_extension": ".py",
   "mimetype": "text/x-python",
   "name": "python",
   "nbconvert_exporter": "python",
   "pygments_lexer": "ipython3",
   "version": "3.5.5"
  },
  "nikola": {
   "category": "",
   "date": "2018-3-29 22:30 UTC+08:00",
   "description": "",
   "link": "",
   "slug": "semi-freeform-raytracing",
   "tags": "python",
   "title": "半截自由曲面光路追迹",
   "type": "text"
  }
 },
 "nbformat": 4,
 "nbformat_minor": 2
}
