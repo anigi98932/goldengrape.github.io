{
 "cells": [
  {
   "cell_type": "markdown",
   "metadata": {},
   "source": [
    "## 控制新出现流行病的非药物干预措施比较\n",
    "\n",
    "Comparing nonpharmaceutical interventions for containing emerging epidemics\n",
    "\n",
    "2017年, 发在PNAS, 作者是哈佛大学公共卫生学院和哈佛医学院, 目前被引用13次,\n",
    "全文: https://www.ncbi.nlm.nih.gov/pmc/articles/PMC5393248/\n",
    "\n",
    "以下先读懂原文, 然后再看看能否根据原文的模型, 拟合一个SARI的模型出来.\n",
    "<!-- TEASER_END -->"
   ]
  },
  {
   "cell_type": "markdown",
   "metadata": {},
   "source": [
    "## 方法\n",
    "\n",
    "### 定义:\n",
    "\n",
    "* “接触者追踪”(Contact tracing)是识别和评估接触过某种疾病的人的过程。 有症状的接触者被立即隔离; 没有症状的接触者被隔离或者接受症状监测。 \n",
    "* “隔离”(Isolation)是分离一个有症状的被确认感染的个体。 \n",
    "* “检疫”(Quarantine) 是指被认为已暴露但目前未患病的个人的隔离(34)。 如果出现症状，他 / 她将被隔离并接受医疗护理。 \n",
    "* “症状监测”(Symptom monitoring)是对被认为暴露但没有生病的个人定期进行的症状评估。 如果发现症状，个人被隔离。 \n",
    "* “求医行为”(Health-seeking behavior)是指在出现症状时寻求医疗保健，导致隔离的行为。"
   ]
  },
  {
   "cell_type": "markdown",
   "metadata": {},
   "source": [
    "### 模型:\n",
    "\n",
    "个体经历“易感-暴露-传染-恢复”的疾病过程. \n",
    "\n",
    "分析集中在新兴传染病的早期流行阶段，假设在最初几代传播中没有明显的易感者的消耗(大概是早期没什么人病死的委婉说法)。"
   ]
  },
  {
   "cell_type": "markdown",
   "metadata": {},
   "source": [
    "感染后，产生传染性和出现症状前的天数分别为传染潜伏期 ($T_{LAT}$) 和症状潜伏期 ($T_{INC}$)\n",
    "\n",
    "由于症状、病原体浓度和行为可在整个病程中变化，我们允许相对传染性(βτ)随时间 τ（自传染性发生以来）变化 。"
   ]
  },
  {
   "cell_type": "markdown",
   "metadata": {},
   "source": [
    "![Fig 1](https://www.ncbi.nlm.nih.gov/pmc/articles/PMC5393248/bin/pnas.1616438114fig01.jpg)\n",
    "\n",
    "[图1](https://www.ncbi.nlm.nih.gov/pmc/articles/PMC5393248/figure/fig01/) (插图看似总是不成功, 如果图裂了, 就点击看原文的图吧)\n",
    "\n",
    "图1: 疾病自然史和干预时机示意图。从感染事件的左侧开始，进展至传染潜伏期 ($T_{LAT}$)，传染潜伏期内无传染性, 然后进入传染期 $d_{INF}$ 天，感染性晚期峰值 τβ。\n",
    "\n",
    "对于 A–C 疾病，显示症状分别出现在传染性出现之前、同时出现和之后。我们在这里展示了一个个体，其在感染后不久被追踪，并在短暂延迟 $D_{CT}$ 后被置于症状监测或检疫之下。"
   ]
  },
  {
   "cell_type": "markdown",
   "metadata": {},
   "source": [
    "* 最近的 SARS 和埃博拉流行病表明，医院隔离并不总是包含传播；因此，我们允许隔离有效性 (γ) 发生变化，以反映不同的环境。\n",
    "* 被追踪 ($P_{CT}$) 的接触者比例可以小于 1，包括未能回忆接触者的有症状感染者、无症状的“沉默”感染事件和识别接触者的挑战。\n",
    "* 风险分析中的缺陷和不确定性可减少真正感染的追踪接触者 ($P_{INF}$) 的比例。\n",
    "* 追踪接触者的延误 ($D_{CT}$) 可能有许多原因，包括棘手的道路和人员限制。\n",
    "* 症状发作和隔离之间的延迟 ($D_{SM}$) 特别适用于症状监测下的个体，并受监测频率、识别有时不可靠的临床特征的延迟和症状检测时及时隔离的延迟的影响。"
   ]
  },
  {
   "cell_type": "markdown",
   "metadata": {},
   "source": [
    "干预参数:\n",
    "\n",
    "|参数名|变量|样例表现(最佳)|样例表现(高)|\n",
    "|:--|:--|:--|:--|\n",
    "|隔离效果|γ|1|0.9|\n",
    "|追踪接触者的比例|$P_{CT}$|1|0.9|\n",
    "|被追踪接触者中真正感染的百分比|$P_{INF}$|1|0.5|\n",
    "|追踪接触者的延迟|$D_{CT}$|0.25 ± 0.25 d|0.5 ± 0.5 d|\n",
    "|从症状开始到隔离的延迟|$D_{SM}$|0.25 ± 0.25 d|0.5 ± 0.5 d|\n",
    "|从症状发作到求医行为的延迟|$D_{HSB}$|Disease-dependent| ∼unif(0, $d_{INF}$)|"
   ]
  },
  {
   "cell_type": "markdown",
   "metadata": {},
   "source": [
    "### 模拟:\n",
    "\n",
    "我们从疾病特异性输入分布中绘制每个模拟个体的疾病特征。"
   ]
  },
  {
   "cell_type": "code",
   "execution_count": null,
   "metadata": {},
   "outputs": [],
   "source": []
  },
  {
   "cell_type": "markdown",
   "metadata": {},
   "source": [
    "未完成草稿, 持续更新中"
   ]
  },
  {
   "cell_type": "code",
   "execution_count": null,
   "metadata": {},
   "outputs": [],
   "source": []
  }
 ],
 "metadata": {
  "kernelspec": {
   "display_name": "Python 3",
   "language": "python",
   "name": "python3"
  },
  "language_info": {
   "codemirror_mode": {
    "name": "ipython",
    "version": 3
   },
   "file_extension": ".py",
   "mimetype": "text/x-python",
   "name": "python",
   "nbconvert_exporter": "python",
   "pygments_lexer": "ipython3",
   "version": "3.6.10"
  },
  "nikola": {
   "category": "",
   "date": "2020-1-22 21:00 UTC+08:00",
   "description": "",
   "link": "",
   "slug": "SARI_data_analysis_1",
   "tags": "python",
   "title": "SARI数据分析(1): 控制新出现流行病的非药物干预措施比较",
   "type": "text"
  }
 },
 "nbformat": 4,
 "nbformat_minor": 4
}
