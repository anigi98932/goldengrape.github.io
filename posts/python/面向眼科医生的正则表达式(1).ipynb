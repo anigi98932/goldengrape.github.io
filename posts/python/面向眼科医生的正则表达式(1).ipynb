{
 "cells": [
  {
   "cell_type": "markdown",
   "metadata": {},
   "source": [
    "以从抗体序列中定位CDR来练习正则表达式. \n",
    "\n",
    "这个练习中, 我们将会使用这样一些正则表达式: \n",
    "* [A-Z]: 任意字母\n",
    "* [A-Z]{3}: 任意字母重复3次\n",
    "* [A-Z]{3,5}: 任意字母重复至少3次, 至多5次\n",
    "* [A-Z]*?C: 任意字母重复0次或多次直到第一次遇到字母C\n",
    "* WYQ|WLQ|WFQ|WYL: 在WYQ, WLQ, WFQ, WYL之中选1个\n",
    "* ^A:  以字母A开头\n",
    "<!-- TEASER_END -->"
   ]
  },
  {
   "cell_type": "markdown",
   "metadata": {},
   "source": [
    "# 定位抗体序列中的CDR"
   ]
  },
  {
   "cell_type": "markdown",
   "metadata": {},
   "source": [
    "在设计抗体时, 如何找出抗体序列中的CDR是一个问题, \n",
    "\n",
    "按照[这个网页](http://www.bioinf.org.uk/abs/#cdrdef)上所描述的方法, 也可以使用对序列进行分析"
   ]
  },
  {
   "cell_type": "markdown",
   "metadata": {},
   "source": [
    "## 轻链的CDR-L"
   ]
  },
  {
   "cell_type": "markdown",
   "metadata": {},
   "source": [
    "* CDR-L1\n",
    "    * Start\tApprox residue 24\n",
    "    * Residue before \talways a Cys\n",
    "    * Residue after\talways a Trp. Typically Trp-Tyr-Gln, but also, Trp-Leu-Gln, Trp-Phe-Gln, Trp-Tyr-Leu\n",
    "    * Length\t10 to 17 residues\n",
    "* CDR-L2\n",
    "    * Start\talways 16 residues after the end of L1\n",
    "    * Residues before \tgenerally Ile-Tyr, but also, Val-Tyr, Ile-Lys, Ile-Phe\n",
    "    * Length\talways 7 residues (except NEW (7FAB) which has a deletion in this region)\n",
    "* CDR-L3\n",
    "    * Start\talways 33 residues after end of L2 (except NEW (7FAB) which has the deletion at the end of CDR-L2)\n",
    "    * Residue before \talways Cys\n",
    "    * Residues after\talways Phe-Gly-XXX-Gly\n",
    "    * Length\t7 to 11 residues"
   ]
  },
  {
   "cell_type": "markdown",
   "metadata": {},
   "source": [
    "以大名鼎鼎的[Lucentis(Ranibizumab)序列](https://www.drugbank.ca/drugs/DB01270)为例"
   ]
  },
  {
   "cell_type": "code",
   "execution_count": 1,
   "metadata": {
    "ExecuteTime": {
     "end_time": "2018-03-26T13:01:13.968219Z",
     "start_time": "2018-03-26T13:01:13.947099Z"
    }
   },
   "outputs": [
    {
     "name": "stdout",
     "output_type": "stream",
     "text": [
      ">Ranibizumab Light Chain\n",
      " DIQLTQSPSSLSASVGDRVTITCSASQDISNYLNWYQQKPGKAPKVLIYFTSSLHSGVPSRFSGSGSGTDFTLTISSLQPEDFATYYCQQYSTVPWTFGQGTKVEIKRTVAAPSVFIFPPSDEQLKSGTASVVCLLNNFYPREAKVQWKVDNALQSGNSQESVTEQDSKDSTYSLSSTLTLSKADYEKHKVYACEVTHQGLSSPVTKSFNRGEC\n",
      ">Ranibizumab Heavy Chain\n",
      " EVQLVESGGGLVQPGGSLRLSCAASGYDFTHYGMNWVRQAPGKGLEWVGWINTYTGEPTYAADFKRRFTFSLDTSKSTAYLQMNSLRAEDTAVYYCAKYPYYYGTSHWYFDVWGQGTLVTVSSASTKGPSVFPLAPSSKSTSGGTAALGCLVKDYFPEPVTVSWNSGALTSGVHTFPAVLQSSGLYSLSSVVTVPSSSLGTQTYICNVNHKPSNTKVDKKVEPKSCDKTHL\n"
     ]
    }
   ],
   "source": [
    "import re\n",
    "VL=\"DIQLTQSPSSLSASVGDRVTITCSASQDISNYLNWYQQKPGKAPKVLIYFTSSLHSGVPS\\\n",
    "RFSGSGSGTDFTLTISSLQPEDFATYYCQQYSTVPWTFGQGTKVEIKRTVAAPSVFIFPP\\\n",
    "SDEQLKSGTASVVCLLNNFYPREAKVQWKVDNALQSGNSQESVTEQDSKDSTYSLSSTLT\\\n",
    "LSKADYEKHKVYACEVTHQGLSSPVTKSFNRGEC\"\n",
    "VH=\"EVQLVESGGGLVQPGGSLRLSCAASGYDFTHYGMNWVRQAPGKGLEWVGWINTYTGEPTY\\\n",
    "AADFKRRFTFSLDTSKSTAYLQMNSLRAEDTAVYYCAKYPYYYGTSHWYFDVWGQGTLVT\\\n",
    "VSSASTKGPSVFPLAPSSKSTSGGTAALGCLVKDYFPEPVTVSWNSGALTSGVHTFPAVL\\\n",
    "QSSGLYSLSSVVTVPSSSLGTQTYICNVNHKPSNTKVDKKVEPKSCDKTHL\"\n",
    "print(\">Ranibizumab Light Chain\\n\",VL)\n",
    "print(\">Ranibizumab Heavy Chain\\n\",VH)\n"
   ]
  },
  {
   "cell_type": "markdown",
   "metadata": {},
   "source": [
    "### CDR-L1\n",
    "\n",
    "#### CDR-L1之前的部分\n",
    "* 开始于第24个字母: \n",
    "    * 正则表达式: ```^[A-Z]{24}```\n",
    "    * ^表示从字符串开始\n",
    "    * [A-Z]表示一个字母\n",
    "    * {24}, 表示该字母重复了24次.\n",
    "    * 但其实CDR序列开始于第24个字母, 它前面应该是24-1=23个字母, 所以应当是^[A-Z]{23}\n",
    "* 序列之前总是Cys(单字母C): ```(^([A-Z]{22})C)```\n",
    "    * 也就是CDR之前的序列最后一个字母是C, 那么又用掉一个字母, 应当是23-1=22\n",
    "    \n",
    "python有个正则表达式的package叫re, 其中re.findall(表达式, 目标字符串), 可以从目标字符串中找到正则表达式所描述的子串, 用括号把正则表达式括起来的话, 就是说这是一个部分"
   ]
  },
  {
   "cell_type": "code",
   "execution_count": 2,
   "metadata": {
    "ExecuteTime": {
     "end_time": "2018-03-26T13:01:13.994806Z",
     "start_time": "2018-03-26T13:01:13.971873Z"
    }
   },
   "outputs": [
    {
     "data": {
      "text/plain": [
       "['DIQLTQSPSSLSASVGDRVTITC']"
      ]
     },
     "execution_count": 2,
     "metadata": {},
     "output_type": "execute_result"
    }
   ],
   "source": [
    "CDR_L1_before=\"(^[A-Z]{22}C)\"\n",
    "re.findall(CDR_L1_before,VL)"
   ]
  },
  {
   "cell_type": "markdown",
   "metadata": {},
   "source": [
    "#### CDR-L1序列的部分\n",
    "* 长度是10 to 17个字母: \n",
    "    * 正则表达式: [A-Z]{10,17}"
   ]
  },
  {
   "cell_type": "code",
   "execution_count": 3,
   "metadata": {
    "ExecuteTime": {
     "end_time": "2018-03-26T13:01:14.006437Z",
     "start_time": "2018-03-26T13:01:13.998490Z"
    }
   },
   "outputs": [
    {
     "data": {
      "text/plain": [
       "[('DIQLTQSPSSLSASVGDRVTITC', 'SASQDISNYLNWYQQKP')]"
      ]
     },
     "execution_count": 3,
     "metadata": {},
     "output_type": "execute_result"
    }
   ],
   "source": [
    "CDR_L1_itself=\"([A-Z]{10,17})\"\n",
    "re.findall(CDR_L1_before+CDR_L1_itself,VL)\n",
    "# 注意现在还没有定义结尾部分, 所以会直接找到{10, 17}中最大的17这个值"
   ]
  },
  {
   "cell_type": "markdown",
   "metadata": {},
   "source": [
    "#### CDR-L1序列之后的部分\n",
    "* 序列之后总是Trp(单字母W). 典型的是Trp-Tyr-Gln(WYQ), 但也可能Trp-Leu-Gln(WLQ), Trp-Phe-Gln(WFQ), Trp-Tyr-Leu(WYL): \n",
    "    * 正则表达式: ```(WYQ|WLQ|WFQ|WYL)```\n",
    "    * 用|表示或的关系, 考虑到可读性, 我还是把所有的W都写出来了\n",
    "    * 如果不想记住语言的优先级, 加括号会更安全一些: ```((WYQ)|(WLQ)|(WFQ)|(WYL))```"
   ]
  },
  {
   "cell_type": "code",
   "execution_count": 4,
   "metadata": {
    "ExecuteTime": {
     "end_time": "2018-03-26T13:01:14.019940Z",
     "start_time": "2018-03-26T13:01:14.009303Z"
    }
   },
   "outputs": [
    {
     "name": "stdout",
     "output_type": "stream",
     "text": [
      "[('DIQLTQSPSSLSASVGDRVTITC', 'SASQDISNYLN', 'WYQ')]\n"
     ]
    }
   ],
   "source": [
    "CDR_L1_after=\"(WYQ|WLQ|WFQ|WYL)\"\n",
    "CDR_L1_pattern=\"(^[A-Z]{22}C)\"+\"([A-Z]{10,17})\"+\"(WYQ|WLQ|WFQ|WYL)\"\n",
    "CDR_L2_pattern=\"\"\n",
    "CDR_L3_pattern=\"\"\n",
    "CDR_L_pattern=CDR_L1_pattern+CDR_L2_pattern+CDR_L3_pattern\n",
    "\n",
    "CDR_Ls=re.findall(CDR_L_pattern,VL)\n",
    "print(CDR_Ls)"
   ]
  },
  {
   "cell_type": "markdown",
   "metadata": {},
   "source": [
    "### CDR-L2\n",
    "* L1结束后16个字母: \n",
    "    * 正则表达式: [A-Z]{16}\n",
    "    * 但之前有WYQ已经用掉了3个字母, 又以1个字母开头, 所以应当是[A-Z]{12}\n",
    "    * 实际操作中我发现这条好像很难匹配上, 不限定字母数字好像更好些, 用[A-Z]*?\n",
    "* 序列长度7个字母: \n",
    "    * 正则表达式: [A-Z]{7}\n",
    "* 序列之**前**通常是Ile-Tyr(IY), but also, Val-Tyr(VY), Ile-Lys(IK), Ile-Phe(IF)\n",
    "    * 正则表达式: (IY|VY|IK|IF)"
   ]
  },
  {
   "cell_type": "code",
   "execution_count": 5,
   "metadata": {
    "ExecuteTime": {
     "end_time": "2018-03-26T13:01:14.034756Z",
     "start_time": "2018-03-26T13:01:14.022913Z"
    }
   },
   "outputs": [
    {
     "name": "stdout",
     "output_type": "stream",
     "text": [
      "[('DIQLTQSPSSLSASVGDRVTITC', 'SASQDISNYLN', 'WYQ', 'QKPGKAPKVLIY', 'IY', 'FTSSLHS', '')]\n"
     ]
    }
   ],
   "source": [
    "CDR_L1_pattern=\"(^[A-Z]{22}C)\"+\"([A-Z]{10,17})\"+\"(WYQ|WLQ|WFQ|WYL)\"\n",
    "CDR_L2_pattern=\"([A-Z]*?(IY|VY|IK|IF))\"+\"([A-Z]{7})\"+\"([A-Z]*?)\" # 以前此处有bug\n",
    "CDR_L3_pattern=\"\"\n",
    "CDR_L_pattern=CDR_L1_pattern+CDR_L2_pattern+CDR_L3_pattern\n",
    "\n",
    "CDR_Ls=re.findall(CDR_L_pattern,VL)\n",
    "print(CDR_Ls)"
   ]
  },
  {
   "cell_type": "markdown",
   "metadata": {},
   "source": [
    "### CDR-L3\n",
    "* L2结束后第33个字母开始, 开始前总是Cys(C), \n",
    "    * 正则表达式: [A-Z]{33}C\n",
    "    * 但前面的IY用掉了2个, 开头用掉1个, C用掉1个, 所以是[A-Z]{29}C\n",
    "    * 实际操作中我发现这条好像很难匹配上, 不限定字母数字好像更好些, 用[A-Z]*?C\n",
    "\n",
    "* 序列长度7 to 11 字母: \n",
    "    * 正则表达式: [A-Z]{7, 11}\n",
    "* 序列之后总是Phe-Gly-XXX-Gly(FG?G)\n",
    "    * 正则表达式: FG[A-Z]G\n",
    "    * XXX表示的是任意, 所以用[A-Z]表示"
   ]
  },
  {
   "cell_type": "code",
   "execution_count": 6,
   "metadata": {
    "ExecuteTime": {
     "end_time": "2018-03-26T13:01:14.058333Z",
     "start_time": "2018-03-26T13:01:14.038477Z"
    }
   },
   "outputs": [
    {
     "name": "stdout",
     "output_type": "stream",
     "text": [
      "[('DIQLTQSPSSLSASVGDRVTITC', 'SASQDISNYLN', 'WYQ', 'QKPGKAPKVLIY', 'IY', 'FTSSLHS', '', 'GVPSRFSGSGSGTDFTLTISSLQPEDFATYYC', 'QQYSTVPWT', 'FGQG')]\n",
      "SASQDISNYLN FTSSLHS QQYSTVPWT\n"
     ]
    }
   ],
   "source": [
    "CDR_L1_pattern=\"(^[A-Z]{22}C)\"+\"([A-Z]{10,17})\"+\"(WYQ|WLQ|WFQ|WYL)\"\n",
    "CDR_L2_pattern=\"([A-Z]*?(IY|VY|IK|IF))\"+\"([A-Z]{7})\"+\"([A-Z]*?)\" # 以前此处有bug\n",
    "CDR_L3_pattern=\"([A-Z]*?C)\"+\"([A-Z]{7,11})\"+\"(FG[A-Z]G)\"\n",
    "CDR_L_pattern=CDR_L1_pattern+CDR_L2_pattern+CDR_L3_pattern\n",
    "\n",
    "CDR_Ls=re.findall(CDR_L_pattern,VL)\n",
    "CDR_L1=CDR_Ls[0][1]\n",
    "CDR_L2=CDR_Ls[0][5]\n",
    "CDR_L3=CDR_Ls[0][8]\n",
    "print(CDR_Ls)\n",
    "print(CDR_L1,CDR_L2,CDR_L3)"
   ]
  },
  {
   "cell_type": "markdown",
   "metadata": {},
   "source": [
    "# 重链的CDR-H\n",
    "\n",
    "* CDR-H1\n",
    "    * Start\tApprox residue 26 (always 4 after a Cys) [Chothia / AbM defintion]; Kabat definition starts 5 residues later\n",
    "    * Residues before \talways Cys-XXX-XXX-XXX\n",
    "    * Residues after\talways a Trp. Typically Trp-Val, but also, Trp-Ile, Trp-Ala\n",
    "    * Length\t10 to 12 residues [AbM definition]; Chothia definition excludes the last 4 residues\n",
    "* CDR-H2\n",
    "    * Start\talways 15 residues after the end of Kabat / AbM definition) of CDR-H1\n",
    "    * Residues before \ttypically Leu-Glu-Trp-Ile-Gly, but a number of variations\n",
    "    * Residues after\tLys/Arg-Leu/Ile/Val/Phe/Thr/Ala-Thr/Ser/Ile/Ala\n",
    "    * Length\tKabat definition 16 to 19 residues; AbM (and recent Chothia) definition ends 7 residues earlier\n",
    "* CDR-H3\n",
    "    * Start\talways 33 residues after end of CDR-H2 (always 2 after a Cys)\n",
    "    * Residues before \talways Cys-XXX-XXX (typically Cys-Ala-Arg)\n",
    "    * Residues after\talways Trp-Gly-XXX-Gly\n",
    "    * Length\t3 to 25(!) residues"
   ]
  },
  {
   "cell_type": "markdown",
   "metadata": {},
   "source": [
    "### CDR-H1\n",
    "* 开始于26个字母后, 序列前总是 Cys-XXX-XXX-XXX: \n",
    "    * 正则表达式: ^[A-Z]{21}C[A-Z]{3}\n",
    "* 长度10-12个字母: \n",
    "    * 正则表达式: [A-Z]{10,12}\n",
    "* 序列后总是Trp(W). 典型Trp-Val(WV), 但也可能Trp-Ile(WI), Trp-Ala(WA)\n",
    "    * 正则表达式: (WV|WI|WA)"
   ]
  },
  {
   "cell_type": "code",
   "execution_count": 7,
   "metadata": {
    "ExecuteTime": {
     "end_time": "2018-03-26T13:01:14.074190Z",
     "start_time": "2018-03-26T13:01:14.062271Z"
    }
   },
   "outputs": [
    {
     "name": "stdout",
     "output_type": "stream",
     "text": [
      "[('EVQLVESGGGLVQPGGSLRLSCAAS', 'GYDFTHYGMN', 'WV')]\n"
     ]
    }
   ],
   "source": [
    "CDR_H1_pattern=\"(^[A-Z]{21}C[A-Z]{3})\"+\"([A-Z]{10,12})\"+\"(WV|WI|WA)\"\n",
    "CDR_H2_pattern=\"\"\n",
    "CDR_H3_pattern=\"\"\n",
    "CDR_H_pattern=CDR_H1_pattern+CDR_H2_pattern+CDR_H3_pattern\n",
    "\n",
    "CDR_Hs=re.findall(CDR_H_pattern,VH)\n",
    "print(CDR_Hs)"
   ]
  },
  {
   "cell_type": "markdown",
   "metadata": {},
   "source": [
    "### CDR-H2\n",
    "\n",
    "* 开始总是在CDR-H1结束后15个字母, 序列开始前典型是Leu-Glu-Trp-Ile-Gly(LEWIG), 但也有一堆变化(WTF)\n",
    "    * 正则表达式: [A-Z]*?LEWIG\n",
    "    * 此处重重吐槽下, WTF表示what the fuck! 为什么生物学不找人待见, 别说生物学了, 连有机化学都是!说个什么规律, 结果反常情况比规律还多\n",
    "* 长度16到19(Kabat定义), 或者7(AbM, Chothia定义)\n",
    "    * 正则表达式: [A-Z]{7,19}\n",
    "* 序列之后Lys/Arg-Leu/Ile/Val/Phe/Thr/Ala-Thr/Ser/Ile/Ala, 看起来生物学家也使用某种正则表达式的雏形了, 这句话的意思是Lys或者Arg, 然后Leu/Ile/Val/Phe/Thr/Ala之中的1个, 然后Thr/Ser/Ile/Ala之中的一个\n",
    "    * 正则表达式: ```[K|R][L|I|V|F|T|A][T|S|I|A]```"
   ]
  },
  {
   "cell_type": "code",
   "execution_count": 8,
   "metadata": {
    "ExecuteTime": {
     "end_time": "2018-03-26T13:01:14.086818Z",
     "start_time": "2018-03-26T13:01:14.077552Z"
    }
   },
   "outputs": [
    {
     "name": "stdout",
     "output_type": "stream",
     "text": [
      "[('EVQLVESGGGLVQPGGSLRLSCAAS', 'GYDFTHYGMN', 'WV', 'RQAPGKGLEW', 'VGWINTYTGEPTYAADFKR', 'RFT')]\n"
     ]
    }
   ],
   "source": [
    "CDR_H1_pattern=\"(^[A-Z]{21}C[A-Z]{3})\"+\"([A-Z]{10,12})\"+\"(WV|WI|WA)\"\n",
    "CDR_H2_pattern=\"([A-Z]*?)\"+\"([A-Z]{7,19})\"+\"([K|R][L|I|V|F|T|A][T|S|I|A])\"\n",
    "CDR_H3_pattern=\"\"\n",
    "CDR_H_pattern=CDR_H1_pattern+CDR_H2_pattern+CDR_H3_pattern\n",
    "\n",
    "CDR_Hs=re.findall(CDR_H_pattern,VH)\n",
    "print(CDR_Hs)"
   ]
  },
  {
   "cell_type": "markdown",
   "metadata": {},
   "source": [
    "### CDR-H3\n",
    "* 开时于CDR-H2后33个字母, 序列前总是Cys-XXX-XXX (典型是 Cys-Ala-Arg): \n",
    "    * 正则表达式: ```[A-Z]*? C[A-Z]{2}```\n",
    "* 长度通常是3到25个字母: \n",
    "    * 正则表达式: [A-Z]{3,25}\n",
    "* 序列之后总是Trp-Gly-XXX-Gly\n",
    "    * 正则表达式: WG[A-Z]G"
   ]
  },
  {
   "cell_type": "code",
   "execution_count": 9,
   "metadata": {
    "ExecuteTime": {
     "end_time": "2018-03-26T13:01:14.106318Z",
     "start_time": "2018-03-26T13:01:14.089624Z"
    }
   },
   "outputs": [
    {
     "name": "stdout",
     "output_type": "stream",
     "text": [
      "[('EVQLVESGGGLVQPGGSLRLSCAAS', 'GYDFTHYGMN', 'WV', 'RQAPGKGLEW', 'VGWINTYTGEPTYAADFKR', 'RFT', 'FSLDTSKSTAYLQMNSLRAEDTAVYYCAK', 'YPYYYGTSHWYFDV', 'WGQG')]\n",
      "GYDFTHYGMN VGWINTYTGEPTYAADFKR YPYYYGTSHWYFDV\n"
     ]
    }
   ],
   "source": [
    "CDR_H1_pattern=\"(^[A-Z]{21}C[A-Z]{3})\"+\"([A-Z]{10,12})\"+\"(WV|WI|WA)\"\n",
    "CDR_H2_pattern=\"([A-Z]*?)\"+\"([A-Z]{7,19})\"+\"([K|R][L|I|V|F|T|A][T|S|I|A])\"\n",
    "CDR_H3_pattern=\"([A-Z]*?C[A-Z]{2})\"+\"([A-Z]{3,25})\"+\"(WG[A-Z]G)\"\n",
    "CDR_H_pattern=CDR_H1_pattern+CDR_H2_pattern+CDR_H3_pattern\n",
    "\n",
    "CDR_Hs=re.findall(CDR_H_pattern,VH)\n",
    "print(CDR_Hs)\n",
    "\n",
    "CDR_H1=CDR_Hs[0][1]\n",
    "CDR_H2=CDR_Hs[0][4]\n",
    "CDR_H3=CDR_Hs[0][7]\n",
    "print(CDR_H1,CDR_H2,CDR_H3)"
   ]
  },
  {
   "cell_type": "markdown",
   "metadata": {},
   "source": [
    "# 识别CDR的函数\n",
    "\n",
    "综上, 可以整合成一组函数, 专门用来识别CDR.\n",
    "在实际使用中, HC CDR是有多种定义方式的, 所以采用了分类讨论的方式"
   ]
  },
  {
   "cell_type": "code",
   "execution_count": 10,
   "metadata": {
    "ExecuteTime": {
     "end_time": "2018-03-26T13:01:14.149549Z",
     "start_time": "2018-03-26T13:01:14.109952Z"
    }
   },
   "outputs": [],
   "source": [
    "def search_CDR(CDR1_pattern,CDR2_pattern,CDR3_pattern,seq,loc1,loc2,loc3):\n",
    "    # 根据pattern在seq中搜索CDR\n",
    "    # loc1,loc2,loc3标明CDR在各个片段中的位置\n",
    "    CDR_pattern=CDR1_pattern+CDR2_pattern+CDR3_pattern\n",
    "    CDRs=re.findall(CDR_pattern,seq)\n",
    "    try:# 有可能CDR_pattern不能匹配出结果, 因此用try\n",
    "        #CDR1_pattern, CDR2_pattern, CDR3_pattern, 每个都会匹配出若干结果, 需要根据loc提取\n",
    "        CDR1=CDRs[0][0+loc1]\n",
    "        CDR2=CDRs[0][3+loc2]\n",
    "        CDR3=CDRs[0][7+loc3]\n",
    "    except: \n",
    "        # 当CDR_pattern无法匹配时, 尽量找出错误的区域\n",
    "        # 于是分别匹配各自的pattern, 如果发现匹配错误, 则单独用? 表示\n",
    "        try:\n",
    "            CDR1=\"?\\n\"+re.findall(CDR1_pattern,seq)[0][loc1]\n",
    "        except:\n",
    "            CDR1=\"?\\n\"\n",
    "        try:\n",
    "            CDR2=\"?\\n\"+re.findall(CDR2_pattern,seq)[0][loc2]\n",
    "        except:\n",
    "            CDR2=\"?\\n\"\n",
    "        try:\n",
    "            CDR3=\"?\\n\"+re.findall(CDR3_pattern,seq)[0][loc3]\n",
    "        except:\n",
    "            CDR3=\"?\"    \n",
    "    return [CDR1,CDR2,CDR3]"
   ]
  },
  {
   "cell_type": "code",
   "execution_count": 11,
   "metadata": {
    "ExecuteTime": {
     "end_time": "2018-03-26T13:01:14.167536Z",
     "start_time": "2018-03-26T13:01:14.152886Z"
    }
   },
   "outputs": [],
   "source": [
    "def LC_to_CDR(seq,defintion=\"Kabat\"):\n",
    "    '''\n",
    "    根据http://www.bioinf.org.uk/abs/#cdrdef中记载的规则, 寻找LC CDR序列\n",
    "    '''\n",
    "    # 如果匹配成功, re.findall返回3段序列, CDR前, CDR自身, CDR后, CDR自身位于1号位置\n",
    "    CDR1_pattern=\"(^[A-Z]{22}C)\"+\"([A-Z]{10,17})\"+\"(WYQ|WLQ|WFQ|WYL)\"\n",
    "    # 如果匹配成功, re.findall返回4!段序列, CDR前, (IY|VY|IK|IF之一), CDR自身, CDR后, CDR自身位于2号位置\n",
    "    # CDR1与2之间使用松弛匹配, 没有严格限定字母数\n",
    "    CDR2_pattern=\"([A-Z]*?(IY|VY|IK|IF))\"+\"([A-Z]{7})\"+\"([A-Z]*?)\" \n",
    "    # 如果匹配成功, re.findall返回3段序列, CDR前, CDR自身, CDR后, CDR自身位于1号位置\n",
    "    # CDR2与3之间使用松弛匹配, 没有严格限定字母数\n",
    "    CDR3_pattern=\"([A-Z]*?C)\"+\"([A-Z]{7,11})\"+\"(FG[A-Z]G)\"\n",
    "    CDR_pattern=CDR1_pattern+CDR2_pattern+CDR3_pattern\n",
    "    return search_CDR(CDR1_pattern,CDR2_pattern,CDR3_pattern,seq,1,2,1)"
   ]
  },
  {
   "cell_type": "code",
   "execution_count": 12,
   "metadata": {
    "ExecuteTime": {
     "end_time": "2018-03-26T13:01:14.196538Z",
     "start_time": "2018-03-26T13:01:14.171009Z"
    }
   },
   "outputs": [],
   "source": [
    "def HC_to_CDR(seq,defintion=\"Kabat\"):\n",
    "    '''\n",
    "    根据http://www.bioinf.org.uk/abs/#cdrdef中记载的规则, 寻找HC CDR序列\n",
    "    '''\n",
    "    # 使用Kabat定义\n",
    "    # 如果匹配成功, re.findall返回3段序列, CDR前, CDR自身, CDR后, CDR自身位于1号位置\n",
    "    if defintion==\"Kabat\":\n",
    "        CDR1_pattern=\"(^[A-Z]{21}C[A-Z]{8})\"+\"([A-Z]{5,7})\"+\"(WV|WI|WA)\"\n",
    "        CDR2_pattern=\"([A-Z]{12})\"+\"([A-Z]{16,19})\"+\"([K|R][L|I|V|F|T|A][T|S|I|A])\"\n",
    "        CDR3_pattern=\"([A-Z]*?C[A-Z]{2})\"+\"([A-Z]{3,25})\"+\"(WG[A-Z]G)\"\n",
    "    elif defintion==\"AbM\":\n",
    "        CDR1_pattern=\"(^[A-Z]{21}C[A-Z]{3})\"+\"([A-Z]{10,12})\"+\"(WV|WI|WA)\"\n",
    "        CDR2_pattern=\"([A-Z]{12})\"+\"([A-Z]{9,12})[A-Z]{7}\"+\"([K|R][L|I|V|F|T|A][T|S|I|A])\"\n",
    "        CDR3_pattern=\"([A-Z]*?C[A-Z]{2})\"+\"([A-Z]{3,25})\"+\"(WG[A-Z]G)\"\n",
    "    elif defintion==\"Chothia\":\n",
    "        CDR1_pattern=\"(^[A-Z]{21}C[A-Z]{3})\"+\"([A-Z]{6,8})[A-Z]{4}\"+\"(WV|WI|WA)\"\n",
    "        CDR2_pattern=\"([A-Z]{12})\"+\"([A-Z]{9,12})[A-Z]{7}\"+\"([K|R][L|I|V|F|T|A][T|S|I|A])\"\n",
    "        CDR3_pattern=\"([A-Z]*?C[A-Z]{2})\"+\"([A-Z]{3,25})\"+\"(WG[A-Z]G)\"\n",
    "    CDR_pattern=CDR1_pattern+CDR2_pattern+CDR3_pattern\n",
    "    CDRs=re.findall(CDR_pattern,seq)\n",
    "    return search_CDR(CDR1_pattern,CDR2_pattern,CDR3_pattern,seq,1,1,0)"
   ]
  },
  {
   "cell_type": "markdown",
   "metadata": {},
   "source": [
    "还是用Lucentis测试一下"
   ]
  },
  {
   "cell_type": "code",
   "execution_count": 14,
   "metadata": {
    "ExecuteTime": {
     "end_time": "2018-03-26T13:01:35.616522Z",
     "start_time": "2018-03-26T13:01:35.612291Z"
    }
   },
   "outputs": [
    {
     "name": "stdout",
     "output_type": "stream",
     "text": [
      "DIQLTQSPSSLSASVGDRVTITCSASQDISNYLNWYQQKPGKAPKVLIYFTSSLHSGVPSRFSGSGSGTDFTLTISSLQPEDFATYYCQQYSTVPWTFGQGTKVEIKRTVAAPSVFIFPPSDEQLKSGTASVVCLLNNFYPREAKVQWKVDNALQSGNSQESVTEQDSKDSTYSLSSTLTLSKADYEKHKVYACEVTHQGLSSPVTKSFNRGEC\n",
      "['SASQDISNYLN', 'FTSSLHS', 'QQYSTVPWT']\n"
     ]
    }
   ],
   "source": [
    "print(VL)\n",
    "print(LC_to_CDR(VL))"
   ]
  },
  {
   "cell_type": "code",
   "execution_count": 15,
   "metadata": {
    "ExecuteTime": {
     "end_time": "2018-03-26T13:01:38.378909Z",
     "start_time": "2018-03-26T13:01:38.373363Z"
    }
   },
   "outputs": [
    {
     "name": "stdout",
     "output_type": "stream",
     "text": [
      "EVQLVESGGGLVQPGGSLRLSCAASGYDFTHYGMNWVRQAPGKGLEWVGWINTYTGEPTYAADFKRRFTFSLDTSKSTAYLQMNSLRAEDTAVYYCAKYPYYYGTSHWYFDVWGQGTLVTVSSASTKGPSVFPLAPSSKSTSGGTAALGCLVKDYFPEPVTVSWNSGALTSGVHTFPAVLQSSGLYSLSSVVTVPSSSLGTQTYICNVNHKPSNTKVDKKVEPKSCDKTHL\n",
      "['HYGMN', 'WINTYTGEPTYAADFKR', 'YPYYYGTSHWYFDV']\n"
     ]
    }
   ],
   "source": [
    "print(VH)\n",
    "print(HC_to_CDR(VH))"
   ]
  },
  {
   "cell_type": "markdown",
   "metadata": {},
   "source": [
    "# 总结\n",
    "\n",
    "在这个练习中使用了一些正则表达式: \n",
    "* [A-Z]: 任意字母\n",
    "* [A-Z]{3}: 任意字母重复3次\n",
    "* [A-Z]{3,5}: 任意字母重复至少3次, 至多5次\n",
    "* [A-Z]*?C: 任意字母重复0次或多次直到第一次遇到字母C\n",
    "* WYQ|WLQ|WFQ|WYL: 在WYQ, WLQ, WFQ, WYL之中选1个\n",
    "* ^A:  以字母A开头\n",
    "\n",
    "仅仅使用这些就已经可以从抗体序列中找到CDR了\n"
   ]
  },
  {
   "cell_type": "markdown",
   "metadata": {},
   "source": [
    "# 更新\n",
    "(2018-3-26)\n",
    "在之前的blog中, 对LC-CDR2的定义写错了. 把\n",
    "* \"序列之前通常是Ile-Tyr(IY), but also, Val-Tyr(VY), Ile-Lys(IK), Ile-Phe(IF)\"\n",
    "错当成了\n",
    "* \"序列之后通常是Ile-Tyr(IY), but also, Val-Tyr(VY), Ile-Lys(IK), Ile-Phe(IF)\"\n",
    "\n",
    "已经修改了代码"
   ]
  },
  {
   "cell_type": "code",
   "execution_count": null,
   "metadata": {},
   "outputs": [],
   "source": []
  }
 ],
 "metadata": {
  "kernelspec": {
   "display_name": "Python 3",
   "language": "python",
   "name": "python3"
  },
  "language_info": {
   "codemirror_mode": {
    "name": "ipython",
    "version": 3
   },
   "file_extension": ".py",
   "mimetype": "text/x-python",
   "name": "python",
   "nbconvert_exporter": "python",
   "pygments_lexer": "ipython3",
   "version": "3.5.5"
  },
  "nikola": {
   "category": "",
   "date": "2018-3-11 12:00 UTC+08:00",
   "description": "",
   "link": "",
   "slug": "reg101-for-ophthalmologist",
   "tags": "现代眼科医生知识扩展包, python",
   "title": "面向眼科医生的正则表达式(1)-练习",
   "type": "text"
  },
  "toc": {
   "colors": {
    "hover_highlight": "#DAA520",
    "navigate_num": "#000000",
    "navigate_text": "#333333",
    "running_highlight": "#FF0000",
    "selected_highlight": "#FFD700",
    "sidebar_border": "#EEEEEE",
    "wrapper_background": "#FFFFFF"
   },
   "moveMenuLeft": true,
   "nav_menu": {
    "height": "344px",
    "width": "254px"
   },
   "navigate_menu": true,
   "number_sections": true,
   "sideBar": true,
   "threshold": 4,
   "toc_cell": false,
   "toc_section_display": "block",
   "toc_window_display": false,
   "widenNotebook": false
  }
 },
 "nbformat": 4,
 "nbformat_minor": 2
}
