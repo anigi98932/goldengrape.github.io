{
 "cells": [
  {
   "cell_type": "markdown",
   "metadata": {},
   "source": [
    "# 光线传输矩阵\n",
    "\n",
    "又称做[ABCD矩阵](https://en.wikipedia.org/wiki/Ray_transfer_matrix_analysis) 用来描述近轴光线的传播过程. \n",
    "\n",
    "![](https://upload.wikimedia.org/wikipedia/commons/thumb/5/5e/RayTransferMatrixDefinitions.svg/600px-RayTransferMatrixDefinitions.svg.png)\n",
    "\n",
    "光线穿过一个光学系统的过程可以用一个2x2的矩阵来表示, 如果: \n",
    "* 入射光线距离光轴是x1, 角度是 θ1,  \n",
    "* 出射光线距离光轴是x2, 角度是 θ2,\n",
    "\n",
    "那么: \n",
    "$$\n",
    "\\begin{bmatrix}x_2\\\\ \\theta_2 \\end{bmatrix} = \\begin{bmatrix}A & B \\\\C & D \\end{bmatrix} \\begin{bmatrix}x_1\\\\ \\theta_1 \\end{bmatrix}\n",
    "$$\n",
    "\n",
    "对于不同的光学元件, ABCD的取值不同. \n",
    "\n",
    "下面准备使用python的符号运算库sympy, 进行光路的ABCD矩阵分析. 试图建立一个简化的眼球光路追迹模型. \n",
    "<!-- TEASER_END -->"
   ]
  },
  {
   "cell_type": "markdown",
   "metadata": {},
   "source": [
    "# Sympy基本\n",
    "\n",
    "sympy是python库, 用于符号计算, 轻量级, 不依赖于其他库. "
   ]
  },
  {
   "cell_type": "code",
   "execution_count": 1,
   "metadata": {
    "collapsed": true
   },
   "outputs": [],
   "source": [
    "from sympy import *\n",
    "a,b,c,d=symbols(\"a b c d\")\n",
    "x1,x2,theta1,theta2=symbols('x1 x2 theta1 theta2')"
   ]
  },
  {
   "cell_type": "markdown",
   "metadata": {},
   "source": [
    "# ABCD Matrix\n",
    "\n",
    "内置上常用的参数字典"
   ]
  },
  {
   "cell_type": "code",
   "execution_count": 2,
   "metadata": {
    "collapsed": true
   },
   "outputs": [],
   "source": [
    "def ABCD(dictname):\n",
    "    d,n1,n2,R,f,p=symbols('d n1 n2 R f p')\n",
    "    abcd_dict={\n",
    "        'free space':         [1, d, 0, 1],\n",
    "        'flat interface':     [1, 0, 0, n1/n2],\n",
    "        'curved interface':   [1, 0, (n1-n2)/R, n1/n2],\n",
    "        'curved mirror':      [1, 0, -2/R, 1],\n",
    "        'Thin lens':          [1, 0, -1/f, 1],\n",
    "        'Thin lens in power': [1, 0, p, 1],\n",
    "    }\n",
    "    a,b,c,d=abcd_dict[dictname]\n",
    "    return Matrix([[a,b],[c,d]])\n",
    "def free_space(d_inspace):\n",
    "    return ABCD('free space').subs(d,d_inspace)\n",
    "def curved_interface(na,nb,Rx):\n",
    "    n1,n2,R=symbols('n1 n2 R')\n",
    "    return ABCD('curved interface').subs([(n1,na),(n2,nb),(R,Rx)])"
   ]
  },
  {
   "cell_type": "markdown",
   "metadata": {},
   "source": [
    "# 基础人眼模型\n",
    "\n",
    "* CCT: 角膜中央厚度\n",
    "* AD: 前房深度\n",
    "* AL: 眼轴长\n",
    "* LT: 晶体厚度\n",
    "* VT: 玻璃体厚度\n",
    "\n",
    "注意此模型有两个假设: \n",
    "\n",
    "* 假设角膜, 晶状体和玻璃体是均一介质, 折射率不变. 注意实际情况中这个假设在晶状体是不成立的.\n",
    "* 假设角膜前后表面, 晶状体前后表面都是球面, 这个假设也是不成立的"
   ]
  },
  {
   "cell_type": "code",
   "execution_count": 3,
   "metadata": {
    "collapsed": true
   },
   "outputs": [],
   "source": [
    "def human_eye_basic(x_input,theta_input):\n",
    "    d,n1,n2,R,f,p=symbols('d n1 n2 R f p')\n",
    "    CCT,AD,K1,K2,LT,VT=symbols('CCT AD K1 K2 LT VT')\n",
    "    n_cornea, n_humor, n_lens, n_vitreous=symbols('n_cornea n_humor n_lens n_vitreous')\n",
    "    R_cornea_front,R_cornea_back=symbols('R_cornea_front R_cornea_back ')\n",
    "    R_lens_front,R_lens_back=symbols('R_lens_front R_lens_back')\n",
    "    \n",
    "    input_light=Matrix([x_input,theta_input])\n",
    "    pass_cornea_front=curved_interface(1,n_cornea,R_cornea_front) \n",
    "    \n",
    "    to_cornea_back=free_space(CCT) \n",
    "    pass_cornea_back=curved_interface(n_cornea,n_humor,R_cornea_back)\n",
    "    \n",
    "    to_lens_front=free_space(AD)\n",
    "    pass_lens_front=curved_interface(n_humor,n_lens,R_lens_front)\n",
    "    \n",
    "    to_lens_back=free_space(LT)\n",
    "    pass_lens_back=curved_interface(n_lens,n_vitreous,R_lens_back)\n",
    "    \n",
    "    to_retina=free_space(VT)\n",
    "    \n",
    "    last =  to_retina * \\\n",
    "            pass_lens_back * \\\n",
    "            to_lens_back * \\\n",
    "            pass_lens_front * \\\n",
    "            to_lens_front * \\\n",
    "            pass_cornea_back * \\\n",
    "            to_cornea_back * \\\n",
    "            pass_cornea_front * \\\n",
    "            input_light\n",
    "    return last"
   ]
  },
  {
   "cell_type": "code",
   "execution_count": 4,
   "metadata": {},
   "outputs": [
    {
     "name": "stdout",
     "output_type": "stream",
     "text": [
      "1 + (n_humor - n_lens)*(LT*(1 + VT*(n_lens - n_vitreous)/R_lens_back) + VT*n_lens/n_vitreous)/R_lens_front + VT*(n_lens - n_vitreous)/R_lens_back + (-n_cornea + 1)*(CCT*(1 + (n_humor - n_lens)*(LT*(1 + VT*(n_lens - n_vitreous)/R_lens_back) + VT*n_lens/n_vitreous)/R_lens_front + VT*(n_lens - n_vitreous)/R_lens_back + (n_cornea - n_humor)*(AD*(1 + (n_humor - n_lens)*(LT*(1 + VT*(n_lens - n_vitreous)/R_lens_back) + VT*n_lens/n_vitreous)/R_lens_front + VT*(n_lens - n_vitreous)/R_lens_back) + n_humor*(LT*(1 + VT*(n_lens - n_vitreous)/R_lens_back) + VT*n_lens/n_vitreous)/n_lens)/R_cornea_back) + n_cornea*(AD*(1 + (n_humor - n_lens)*(LT*(1 + VT*(n_lens - n_vitreous)/R_lens_back) + VT*n_lens/n_vitreous)/R_lens_front + VT*(n_lens - n_vitreous)/R_lens_back) + n_humor*(LT*(1 + VT*(n_lens - n_vitreous)/R_lens_back) + VT*n_lens/n_vitreous)/n_lens)/n_humor)/R_cornea_front + (n_cornea - n_humor)*(AD*(1 + (n_humor - n_lens)*(LT*(1 + VT*(n_lens - n_vitreous)/R_lens_back) + VT*n_lens/n_vitreous)/R_lens_front + VT*(n_lens - n_vitreous)/R_lens_back) + n_humor*(LT*(1 + VT*(n_lens - n_vitreous)/R_lens_back) + VT*n_lens/n_vitreous)/n_lens)/R_cornea_back\n"
     ]
    }
   ],
   "source": [
    "x_output,theta_output=human_eye_basic(1,0)\n",
    "print(x_output)"
   ]
  },
  {
   "cell_type": "markdown",
   "metadata": {},
   "source": [
    "看着超长的公式好有趣"
   ]
  },
  {
   "cell_type": "code",
   "execution_count": null,
   "metadata": {
    "collapsed": true
   },
   "outputs": [],
   "source": []
  }
 ],
 "metadata": {
  "kernelspec": {
   "display_name": "Python 3",
   "language": "python",
   "name": "python3"
  },
  "language_info": {
   "codemirror_mode": {
    "name": "ipython",
    "version": 3
   },
   "file_extension": ".py",
   "mimetype": "text/x-python",
   "name": "python",
   "nbconvert_exporter": "python",
   "pygments_lexer": "ipython3",
   "version": "3.5.2"
  },
  "nikola": {
   "category": "",
   "date": "2017-12-21 21:07:03 UTC+08:00",
   "description": "",
   "link": "",
   "slug": "abcdju-zhen",
   "tags": "python",
   "title": "ABCD矩阵",
   "type": "text"
  },
  "toc": {
   "colors": {
    "hover_highlight": "#DAA520",
    "navigate_num": "#000000",
    "navigate_text": "#333333",
    "running_highlight": "#FF0000",
    "selected_highlight": "#FFD700",
    "sidebar_border": "#EEEEEE",
    "wrapper_background": "#FFFFFF"
   },
   "moveMenuLeft": true,
   "nav_menu": {
    "height": "92px",
    "width": "254px"
   },
   "navigate_menu": true,
   "number_sections": true,
   "sideBar": true,
   "threshold": 4,
   "toc_cell": false,
   "toc_section_display": "block",
   "toc_window_display": false,
   "widenNotebook": false
  }
 },
 "nbformat": 4,
 "nbformat_minor": 2
}
