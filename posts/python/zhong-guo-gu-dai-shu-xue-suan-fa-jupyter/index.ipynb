{
 "cells": [
  {
   "cell_type": "markdown",
   "metadata": {},
   "source": [
    "看了这篇《[没有定理的中国古代数学，如何站在世界之巅？](https://mp.weixin.qq.com/s?__biz=MzA5NDkzNjIwMg==&mid=2651662431&idx=1&sn=21ae67f8ed94ea960d92734afc384fc1&chksm=8bbe85babcc90cac200fabd65d5494bbbec81792420ba8771ad02bc324257495cffdcd57afcd)》。虽然我觉得题目很标题党，不过里面的内容很有趣啊，讲解了中国古代数学里的几个算法。由于我正在学Python，所以自然就拿来练手了。\n",
    "\n",
    "\n",
    "重新用jupyter写一下 更相减损术 和 大衍求一术\n",
    "\n",
    "<!-- TEASER_END -->"
   ]
  },
  {
   "cell_type": "markdown",
   "metadata": {},
   "source": [
    "# 更相减损术\n",
    "\n",
    "更相减损术是用来求两个数的最大公约数. \n",
    "\n",
    "“术曰：以少减多，更相减损，求其等也。”"
   ]
  },
  {
   "cell_type": "markdown",
   "metadata": {},
   "source": [
    "这个很好写啦，读入两个数a和b，求其等也，就是一直要求到两个数相等为止。\n",
    "所以用条件循环while，当a不等于b时就一直重复算。算什么呢，以少减多，就是判断一下谁大.\n",
    "如果a>b, 就用a-b替换a，否则就用b-a替换b。\n",
    "一直到两个数减到相等为止，就可以随便返回其中一个数作为最大公约数了。\n",
    "\n",
    "貌似也可以扩展到有理数, 但为了防止死循环, 在循环中加入了下限的设定, 本来想是>0就可以, 但还是需要有一定的大小. "
   ]
  },
  {
   "cell_type": "code",
   "execution_count": 6,
   "metadata": {},
   "outputs": [],
   "source": [
    "import numpy as np\n",
    "def 更相减损术(a,b):\n",
    "    while ((a != b) & (a>1e-10) & (b>1e-10)):\n",
    "        if a > b:\n",
    "            a=a-b\n",
    "        else :\n",
    "            b=b-a\n",
    "    return a"
   ]
  },
  {
   "cell_type": "code",
   "execution_count": 14,
   "metadata": {},
   "outputs": [
    {
     "name": "stdout",
     "output_type": "stream",
     "text": [
      "3.9968028886505635e-11\n",
      "13\n"
     ]
    }
   ],
   "source": [
    "if __name__==\"__main__\":\n",
    "    print(更相减损术(2.5,np.pi))\n",
    "    print(更相减损术(26,39))\n",
    "      "
   ]
  },
  {
   "cell_type": "markdown",
   "metadata": {},
   "source": [
    "# 大衍求一术\n",
    "\n",
    "这个好帅，是求解ax≡1(mod b)。就是说a乘以x除以b所得的余数等于1。详细的解说还是看那篇公众号的文章吧。\n",
    "\n",
    "因为打算用矩阵，所以要首先导入Numpy包，python很强大的一点就是有各种包，只要import一下就好像有了超能力。\n",
    "大衍求一术要求先生成一个2*2的矩阵\n",
    "\n",
    "$$\n",
    "\\begin{pmatrix} a & 1 \\\\ b & 0 \\end{pmatrix}\n",
    "$$\n",
    "\n",
    "这样的，所以先用np.matrix产生一个矩阵m，注意python的序数是从0开始的，所以m[0,0]=a, m[0,1]=1, m[1,0]=b, m[1,1]=0。\n",
    "\n",
    "然后跟前面的更相减损术差不多，也是减来减去，区别是以行为单位来减，终点是把a的位置变成1，比大小的时候是用左边那列的元素比大小。\n",
    "\n",
    "所以如果m[0,0]>m[1,0]，那就把上一行减去下一行m[0,:]-m[1,:]，再替换掉上面一行m[0,:]=m[0,:]-m[1,:]。反之亦然。一直重复，直到m[0,0] == 1。\n",
    "\n",
    "通常是返回m[0,1]的数值就可以了。但有可能a,b互质，所以需要分情况讨论一下。"
   ]
  },
  {
   "cell_type": "code",
   "execution_count": 23,
   "metadata": {},
   "outputs": [],
   "source": [
    "import numpy as np\n",
    "def 大衍求一术(a,b):\n",
    "    '''\n",
    "    Solve a*x mod b ==1 with 大衍求一术\n",
    "    置诸元数，两两连环求等，约奇弗约偶，遍约毕，乃变元数，皆曰定母，列右行，\n",
    "    各立天元一为子，列左行，以定诸母，互乘左行之子，各得名曰衍数，\n",
    "    次以各定母满去衍数，各余名曰奇数，以奇数与定母，用大衍术求一。\n",
    "    '''\n",
    "    m=np.matrix( [ [a,1], [b,0] ] )\n",
    "    while (m[0,0] != 1 ):\n",
    "        if m[0,0]>m[1,0]:\n",
    "            m[0,:]=m[0,:]-m[1,:]\n",
    "        else:\n",
    "            m[1,:]=m[1,:]-m[0,:]\n",
    "            \n",
    "    if m[1,0]==1:\n",
    "        return 1\n",
    "    else:\n",
    "        return m[0,1]"
   ]
  },
  {
   "cell_type": "code",
   "execution_count": 24,
   "metadata": {},
   "outputs": [
    {
     "name": "stdout",
     "output_type": "stream",
     "text": [
      "23\n"
     ]
    }
   ],
   "source": [
    "if __name__==\"__main__\":\n",
    "    print(大衍求一术(65,83))"
   ]
  },
  {
   "cell_type": "markdown",
   "metadata": {},
   "source": [
    "我的古文水平和编程水平都还不够高，不然把中国古代数学中的种种算法都写出程序也是一件很风雅的事情。"
   ]
  },
  {
   "cell_type": "code",
   "execution_count": null,
   "metadata": {},
   "outputs": [],
   "source": []
  }
 ],
 "metadata": {
  "kernelspec": {
   "display_name": "Python 3",
   "language": "python",
   "name": "python3"
  },
  "language_info": {
   "codemirror_mode": {
    "name": "ipython",
    "version": 3
   },
   "file_extension": ".py",
   "mimetype": "text/x-python",
   "name": "python",
   "nbconvert_exporter": "python",
   "pygments_lexer": "ipython3",
   "version": "3.5.2"
  },
  "nikola": {
   "category": "",
   "date": "2018-01-05 20:50:45 UTC+08:00",
   "description": "",
   "link": "",
   "slug": "zhong-guo-gu-dai-shu-xue-suan-fa-jupyter",
   "tags": "python",
   "title": "中国古代数学算法的python实现(jupyter版本)",
   "type": "text"
  }
 },
 "nbformat": 4,
 "nbformat_minor": 2
}
