{
 "cells": [
  {
   "cell_type": "markdown",
   "metadata": {},
   "source": [
    "按照Thomas Olsen的综述: [Calculation of intraocular lens power: a review](https://onlinelibrary.wiley.com/doi/full/10.1111/j.1600-0420.2007.00879.x) 进行推导, Thomas Olsen就是Olsen公式的作者, 算是很新的公式了. 这是他在2007年发的一篇综述."
   ]
  },
  {
   "cell_type": "markdown",
   "metadata": {},
   "source": [
    "讲人工晶体度数计算的文章, 大概一开始都要八卦一下第一枚人工晶体植入的故事, Ridley爵士在1949年进行了第一枚人工晶体植入, 但是度数算错了, -20D! Ridley用了Gullstrand模型眼的曲率参数, 但忘了PMMA的高折射率. ([Sir Harold Ridley and his Fight for Sight](https://books.google.com/books?id=tMVSVumHzHUC&lpg=PP1&dq=Sir%20Harold%20Ridley%20and%20his%20Fight%20for%20Sight&hl=zh-CN&pg=PR9#v=onepage&q=Sir%20Harold%20Ridley%20and%20his%20Fight%20for%20Sight&f=false) ) "
   ]
  },
  {
   "cell_type": "markdown",
   "metadata": {},
   "source": [
    "# 基础光学\n",
    "\n",
    "四则运算、不超过初中数学, 不必紧张"
   ]
  },
  {
   "cell_type": "markdown",
   "metadata": {},
   "source": [
    "## 屈光度\n",
    "\n",
    "$$\n",
    "F=\\frac{n_2-n_1}{r}\n",
    "\\tag 1\n",
    "$$"
   ]
  },
  {
   "cell_type": "markdown",
   "metadata": {},
   "source": [
    "一个界面的屈光度F, 定义如上单位为D, 也是$M^{-1}$, 单位要千万小心, 如果一直都是字母没什么关系, 但如果代入具体的数字时, 要小心区分毫米、米. 其中:\n",
    "\n",
    "* $n_1$ 是光线入射到界面之前, 介质的折射率.\n",
    "* $n_2$ 是光线从界面出射之后, 介质的折射率.\n",
    "* r 是界面的曲率半径. 如果是向入射光方向凸起的, r的符号为正, 否则为负."
   ]
  },
  {
   "cell_type": "markdown",
   "metadata": {},
   "source": [
    "## 聚散度\n",
    "\n",
    "$$\n",
    "V=\\frac{n}{d}\n",
    "\\tag 2\n",
    "$$"
   ]
  },
  {
   "cell_type": "markdown",
   "metadata": {},
   "source": [
    "* V: 光线的聚散度\n",
    "* d: 从当前面到聚焦点的距离, 注意也是有正负的.\n",
    "* n: 介质的折射率"
   ]
  },
  {
   "cell_type": "markdown",
   "metadata": {},
   "source": [
    "如果聚散度为$V_1$的光线, 经过屈光度为F的透镜面, 出射光的聚散度$V_2$为\n",
    "$$\n",
    "V_2=V_1+F\n",
    "\\tag 3\n",
    "$$"
   ]
  },
  {
   "cell_type": "markdown",
   "metadata": {},
   "source": [
    "### 补充:\n",
    "\n",
    "对于平行光, 聚焦于无穷远点, 也就是d=∞, 那么V=0\n",
    "\n",
    "如果聚散度为$V_0=\\frac{n}{d}$的光, 在原来的介质中, 前进了$d_0$距离, 那么还剩$d-d_0$的距离就聚焦了, 所以这时候的聚散度$V=\\frac{n}{d-d_0}$, 如果已知$V_0, n$, 那么:\n",
    "$$ \n",
    "d=\\frac{n}{V_0}\n",
    "\\tag {3.1}\n",
    "$$\n",
    "\n",
    "将公式(3.1)代入\n",
    "$$\n",
    "V=\\frac{n}{d-d_0}\n",
    "\\tag {3.2}\n",
    "$$\n",
    "\n",
    "得到:\n",
    "$$\n",
    "V =\\frac{n}{\\frac{n}{V_0}-d_0}\n",
    "$$\n",
    "\n",
    "上下同时除以n化简, 得到\n",
    "$$\n",
    "V =\\frac{1}{\\frac{1}{V_0}-\\frac{d_0}{n}}\n",
    "\\tag {3.3}\n",
    "$$"
   ]
  },
  {
   "cell_type": "markdown",
   "metadata": {},
   "source": [
    "## 作为“薄透镜”的人工晶体"
   ]
  },
  {
   "cell_type": "markdown",
   "metadata": {},
   "source": [
    "如果平行光通过曲率为```K```的角膜, 眼轴长为```Ax```, 有效晶体位置为```d```, 眼内介质的折射率为```n```, 那么要达成正视眼, IOL的度数应当是多少?\n",
    "\n",
    "原文中的推导太快, 我稍微慢一点推:"
   ]
  },
  {
   "cell_type": "markdown",
   "metadata": {},
   "source": [
    "平行光的屈光度=0, 经过曲率为K的角膜, 按照公式(3),\n",
    "$$\n",
    "V_{离开角膜}=0+K=K\n",
    "\\tag {4.1}\n",
    "$$"
   ]
  },
  {
   "cell_type": "markdown",
   "metadata": {},
   "source": [
    "光线经过距离d, 到达人工晶体的位置, 这是的聚散度$V_1$的计算, 和刚才补充公式(3.3)的过程一致, 将公式(4.1)代入到公式(3.3)中, 得到:"
   ]
  },
  {
   "cell_type": "markdown",
   "metadata": {},
   "source": [
    "$$\n",
    "V_{进入人工晶体}=\\frac{1}{\\frac{1}{V_{离开角膜}}-\\frac{d}{n_{房水}}}\n",
    "$$\n",
    "\n",
    "$$\n",
    "V_{进入人工晶体}=\\frac{1}{\\frac{1}{K}-\\frac{d}{n_{房水}}}\n",
    "\\tag 4\n",
    "$$"
   ]
  },
  {
   "cell_type": "markdown",
   "metadata": {},
   "source": [
    "此处假设人工晶体的厚度忽略不计, 那么从人工晶体出来, 只要再走(眼轴长Ax - 人工晶体位置d)的距离就到达了视网膜. 为了能够聚焦到视网膜上, 离开人工晶体的光线, 聚散度应当满足如下公式:\n",
    "\n",
    "$$\n",
    "V_{离开人工晶体}=\\frac{n_{玻璃体}}{Ax-d}\n",
    "\\tag 5\n",
    "$$"
   ]
  },
  {
   "cell_type": "markdown",
   "metadata": {},
   "source": [
    "根据公式(3), 进入人工晶体和离开人工晶体的屈光度变化, 应当由人工晶体的度数$P_0$提供:\n",
    "$$\n",
    "V_{离开人工晶体}=V_{进入人工晶体}+P_0\n",
    "\\tag 3\n",
    "$$\n",
    "\n",
    "将公式(4)和(5)代入:\n",
    "\n",
    "$$\n",
    "\\frac{n_{玻璃体}}{Ax-d}=\\frac{1}{\\frac{1}{K}-\\frac{d}{n_{房水}}}+P_0\n",
    "$$\n",
    "\n",
    "$$\n",
    "P_0=\\frac{n_{玻璃体}}{Ax-d} - \\frac{1}{\\frac{1}{K}-\\frac{d}{n_{房水}}}\n",
    "\\tag 6\n",
    "$$"
   ]
  },
  {
   "cell_type": "markdown",
   "metadata": {},
   "source": [
    "这就是最简单的薄透镜公式. 里面$n_{玻璃体}, n_{房水}$ 是常数, ```Ax, K```是可以测量到的, ```d```在手术前其实是不知道的, 但可以通过各种方式来预测.\n",
    "\n",
    "要在薄透镜公式进化, \n",
    "\n",
    "* 将角膜和晶体作为有一定厚度的透镜, 前后表面还有着不同的曲率半径.\n",
    "* 不仅仅考虑近轴光线, 还要考虑上周边光线造成的像差."
   ]
  },
  {
   "cell_type": "markdown",
   "metadata": {},
   "source": [
    "未完待续"
   ]
  }
 ],
 "metadata": {
  "kernelspec": {
   "display_name": "Python 3",
   "language": "python",
   "name": "python3"
  },
  "language_info": {
   "codemirror_mode": {
    "name": "ipython",
    "version": 3
   },
   "file_extension": ".py",
   "mimetype": "text/x-python",
   "name": "python",
   "nbconvert_exporter": "python",
   "pygments_lexer": "ipython3",
   "version": "3.6.8"
  },
  "nikola": {
   "category": "",
   "date": "2019-10-13 12:00 UTC+08:00",
   "description": "",
   "link": "",
   "slug": "Derivation-of-calculation-formula-of-intraocular-lens-1",
   "tags": "ophthalmology",
   "title": "人工晶体度数计算公式推导(1)",
   "type": "text"
  }
 },
 "nbformat": 4,
 "nbformat_minor": 4
}
